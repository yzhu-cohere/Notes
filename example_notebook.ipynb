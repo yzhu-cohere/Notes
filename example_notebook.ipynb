{
 "cells": [
  {
   "cell_type": "code",
   "execution_count": 1,
   "metadata": {
    "execution": {
     "iopub.execute_input": "2023-09-17T22:52:13.888921Z",
     "iopub.status.busy": "2023-09-17T22:52:13.888673Z",
     "iopub.status.idle": "2023-09-17T22:52:13.904417Z",
     "shell.execute_reply": "2023-09-17T22:52:13.903872Z",
     "shell.execute_reply.started": "2023-09-17T22:52:13.888893Z"
    },
    "tags": []
   },
   "outputs": [
    {
     "data": {
      "text/html": [
       "Current session configs: <tt>{'conf': {'spark.pyspark.python': 'python3', 'spark.pyspark.virtualenv.enabled': 'true', 'spark.sql.parquet.writeLegacyFormat': 'true', 'spark.sql.parquet.enableVectorizedReader': 'false', 'spark.pyspark.virtualenv.type': 'native', 'spark.pyspark.virtualenv.bin.path': '/usr/bin/virtualenv', 'spark.jars': 's3://aws-glue-assets-137931813934-us-east-2/extraJars/hudi-spark3-bundle_2.12-0.11.1.jar', 'spark.serializer': 'org.apache.spark.serializer.KryoSerializer', 'spark.sql.hive.convertMetastoreParquet': 'false', 'spark.sql.extensions': 'org.apache.spark.sql.hudi.HoodieSparkSessionExtension', 'spark.sql.catalog.spark_catalog': 'org.apache.spark.sql.hudi.catalog.HoodieCatalog', 'hive.metastore.client.factory.class': 'com.amazonaws.glue.catalog.metastore.AWSGlueDataCatalogHiveClientFactory', 'spark.hadoop.mapreduce.input.fileinputformat.input.dir.recursive': 'true'}, 'proxyUser': 'assumed-role_ML_EMR_User_Role_yzhu', 'kind': 'pyspark'}</tt><br>"
      ],
      "text/plain": [
       "<IPython.core.display.HTML object>"
      ]
     },
     "metadata": {},
     "output_type": "display_data"
    },
    {
     "data": {
      "text/html": [
       "No active sessions."
      ],
      "text/plain": [
       "<IPython.core.display.HTML object>"
      ]
     },
     "metadata": {},
     "output_type": "display_data"
    }
   ],
   "source": [
    "%%configure -f\n",
    "{ \"conf\": {\n",
    "            \"spark.pyspark.python\": \"python3\",\n",
    "            \"spark.pyspark.virtualenv.enabled\": \"true\",\n",
    "            \"spark.sql.parquet.writeLegacyFormat\": \"true\",\n",
    "            \"spark.sql.parquet.enableVectorizedReader\":\"false\",\n",
    "            \"spark.pyspark.virtualenv.type\":\"native\",\n",
    "            \"spark.pyspark.virtualenv.bin.path\":\"/usr/bin/virtualenv\",\n",
    "            \"spark.jars\":\"s3://aws-glue-assets-137931813934-us-east-2/extraJars/hudi-spark3-bundle_2.12-0.11.1.jar\",\n",
    "            \"spark.serializer\":\"org.apache.spark.serializer.KryoSerializer\",\n",
    "            \"spark.sql.hive.convertMetastoreParquet\":\"false\",\n",
    "            \"spark.sql.extensions\": \"org.apache.spark.sql.hudi.HoodieSparkSessionExtension\",\n",
    "            \"spark.sql.catalog.spark_catalog\": \"org.apache.spark.sql.hudi.catalog.HoodieCatalog\",\n",
    "            \"hive.metastore.client.factory.class\":\"com.amazonaws.glue.catalog.metastore.AWSGlueDataCatalogHiveClientFactory\",\n",
    "            \"spark.hadoop.mapreduce.input.fileinputformat.input.dir.recursive\":\"true\"\n",
    "          }}"
   ]
  },
  {
   "cell_type": "code",
   "execution_count": 2,
   "metadata": {
    "execution": {
     "iopub.execute_input": "2023-09-17T22:52:16.852038Z",
     "iopub.status.busy": "2023-09-17T22:52:16.851807Z",
     "iopub.status.idle": "2023-09-17T22:53:16.746818Z",
     "shell.execute_reply": "2023-09-17T22:53:16.746282Z",
     "shell.execute_reply.started": "2023-09-17T22:52:16.852013Z"
    },
    "tags": []
   },
   "outputs": [
    {
     "data": {
      "application/vnd.jupyter.widget-view+json": {
       "model_id": "e1beaadd71e24867bd27dc8d5e4a6f36",
       "version_major": 2,
       "version_minor": 0
      },
      "text/plain": [
       "VBox()"
      ]
     },
     "metadata": {},
     "output_type": "display_data"
    },
    {
     "name": "stdout",
     "output_type": "stream",
     "text": [
      "Starting Spark application\n"
     ]
    },
    {
     "data": {
      "text/html": [
       "<table>\n",
       "<tbody><tr><th>ID</th><th>YARN Application ID</th><th>Kind</th><th>State</th><th>Spark UI</th><th>Driver log</th><th>User</th><th>Current session?</th></tr><tr><td>6</td><td>application_1694986766515_0007</td><td>pyspark</td><td>idle</td><td><a target=\"_blank\" href=\"http://ip-10-5-3-20.us-east-2.compute.internal:20888/proxy/application_1694986766515_0007/\" class=\"emr-proxy-link j-1LGJY48J8XB1O application_1694986766515_0007\" emr-resource=\"j-1LGJY48J8XB1O\n",
       "\" application-id=\"application_1694986766515_0007\">Link</a></td><td><a target=\"_blank\" href=\"http://ip-10-5-3-107.us-east-2.compute.internal:8042/node/containerlogs/container_1694986766515_0007_01_000001/livy\">Link</a></td><td>None</td><td>✔</td></tr></tbody></table>"
      ],
      "text/plain": [
       "<IPython.core.display.HTML object>"
      ]
     },
     "metadata": {},
     "output_type": "display_data"
    },
    {
     "data": {
      "application/vnd.jupyter.widget-view+json": {
       "model_id": "",
       "version_major": 2,
       "version_minor": 0
      },
      "text/plain": [
       "FloatProgress(value=0.0, bar_style='info', description='Progress:', layout=Layout(height='25px', width='50%'),…"
      ]
     },
     "metadata": {},
     "output_type": "display_data"
    },
    {
     "name": "stdout",
     "output_type": "stream",
     "text": [
      "SparkSession available as 'spark'.\n"
     ]
    },
    {
     "data": {
      "application/vnd.jupyter.widget-view+json": {
       "model_id": "",
       "version_major": 2,
       "version_minor": 0
      },
      "text/plain": [
       "FloatProgress(value=0.0, bar_style='info', description='Progress:', layout=Layout(height='25px', width='50%'),…"
      ]
     },
     "metadata": {},
     "output_type": "display_data"
    },
    {
     "name": "stdout",
     "output_type": "stream",
     "text": [
      "DataFrame[]"
     ]
    }
   ],
   "source": [
    "spark.sql(\"REFRESH TABLE analytics_dw.hudi_raw_servicerequest\")\n",
    "spark.sql(\"REFRESH TABLE analytics_dw.hudi_raw_authorization\")\n",
    "spark.sql(\"REFRESH TABLE analytics_dw.ghp_auth_file_integration_qc\")"
   ]
  },
  {
   "cell_type": "code",
   "execution_count": 3,
   "metadata": {
    "execution": {
     "iopub.execute_input": "2023-09-17T22:53:16.747896Z",
     "iopub.status.busy": "2023-09-17T22:53:16.747730Z",
     "iopub.status.idle": "2023-09-17T22:53:16.751851Z",
     "shell.execute_reply": "2023-09-17T22:53:16.751385Z",
     "shell.execute_reply.started": "2023-09-17T22:53:16.747875Z"
    },
    "tags": []
   },
   "outputs": [
    {
     "data": {
      "text/html": [
       "<style>\n",
       "    pre {white-space:pre !important;}≈\n",
       "</style>\n"
      ],
      "text/plain": [
       "<IPython.core.display.HTML object>"
      ]
     },
     "metadata": {},
     "output_type": "display_data"
    }
   ],
   "source": [
    "%%HTML\n",
    "<style>\n",
    "    pre {white-space:pre !important;}≈\n",
    "</style>"
   ]
  },
  {
   "cell_type": "code",
   "execution_count": 8,
   "metadata": {
    "execution": {
     "iopub.execute_input": "2023-09-17T22:57:18.744301Z",
     "iopub.status.busy": "2023-09-17T22:57:18.743971Z",
     "iopub.status.idle": "2023-09-17T22:57:19.047631Z",
     "shell.execute_reply": "2023-09-17T22:57:19.046979Z",
     "shell.execute_reply.started": "2023-09-17T22:57:18.744262Z"
    },
    "tags": []
   },
   "outputs": [
    {
     "data": {
      "application/vnd.jupyter.widget-view+json": {
       "model_id": "5a672711b62c4267a22afd812c32564d",
       "version_major": 2,
       "version_minor": 0
      },
      "text/plain": [
       "VBox()"
      ]
     },
     "metadata": {},
     "output_type": "display_data"
    },
    {
     "data": {
      "application/vnd.jupyter.widget-view+json": {
       "model_id": "",
       "version_major": 2,
       "version_minor": 0
      },
      "text/plain": [
       "FloatProgress(value=0.0, bar_style='info', description='Progress:', layout=Layout(height='25px', width='50%'),…"
      ]
     },
     "metadata": {},
     "output_type": "display_data"
    }
   ],
   "source": [
    "import boto3\n",
    "import json\n",
    "import sys\n",
    "from datetime import *\n",
    "from pyspark.sql import SparkSession\n",
    "from pyspark.sql.functions import *\n",
    "from pyspark.sql.types import *\n",
    "from pyspark.sql.window import Window\n",
    "from pytz import timezone\n",
    "\n",
    "appName = \"GHP Auth File Integration\"\n",
    "spark = SparkSession.builder \\\n",
    "    .appName(appName) \\\n",
    "    .enableHiveSupport() \\\n",
    "    .config(\"spark.sql.broadcastTimeout\", \"60000\") \\\n",
    "    .config(\"spark.sql.hive.convertMetastoreParquet\", \"false\") \\\n",
    "    .config(\"spark.serializer\", \"org.apache.spark.serializer.KryoSerializer\") \\\n",
    "    .config(\"spark.sql.extensions\", \"org.apache.spark.sql.hudi.HoodieSparkSessionExtension\") \\\n",
    "    .config(\"hive.metastore.client.factory.class\",\n",
    "            \"com.amazonaws.glue.catalog.metastore.AWSGlueDataCatalogHiveClientFactory\") \\\n",
    "    .config(\"spark.hadoop.mapreduce.input.fileinputformat.input.dir.recursive\", \"true\") \\\n",
    "    .config(\"spark.sql.legacy.timeParserPolicy\", \"LEGACY\")\\\n",
    "    .getOrCreate()\n",
    "\n",
    "\n",
    "def is_column_empty(column):\n",
    "    return (column.isNull()) | (column == \"\")\n",
    "\n",
    "\n",
    "def is_column_populated(column):\n",
    "    return ~(is_column_empty(column))\n",
    "\n",
    "\n",
    "def log_num_of_auths(cw_client, sr, env):\n",
    "    \"\"\"\n",
    "    Logs the number of incremental auths in the current run\n",
    "    \"\"\"\n",
    "    cw_client.put_metric_data(\n",
    "        Namespace='cohere',\n",
    "        MetricData=[{\n",
    "            'MetricName': 'Airflow_ghp_auth_file_integration',\n",
    "            'Dimensions': [\n",
    "                {\n",
    "                    'Name': 'airflow',\n",
    "                    'Value': f'Num_of_Auths-{env}'\n",
    "                },\n",
    "            ],\n",
    "            'Value': sr.count(),\n",
    "            'Unit': 'Count'\n",
    "        }]\n",
    "    )\n",
    "    return None\n",
    "\n",
    "\n",
    "def log_authorizations_with_null_cohereId(cw_client, auth, env):\n",
    "    \"\"\"\n",
    "    Logs the number of authorizations with null cohereId\n",
    "    \"\"\"\n",
    "    cw_client.put_metric_data(\n",
    "        Namespace='cohere',\n",
    "        MetricData=[{\n",
    "            'MetricName': 'Airflow_ghp_auth_file_integration',\n",
    "            'Dimensions': [\n",
    "                {\n",
    "                    'Name': 'airflow',\n",
    "                    'Value': f'Num_of_Auths_with_null_cohereId-{env}'\n",
    "                },\n",
    "            ],\n",
    "            'Value': auth.count(),\n",
    "            'Unit': 'Count'\n",
    "        }]\n",
    "    )\n",
    "    return None\n",
    "\n",
    "def log_auths_without_pxcode_and_servicegroup(cw_client, auth, env):\n",
    "    \"\"\"\n",
    "    Logs the number of auths without service group id and procedure code\n",
    "    \"\"\"\n",
    "    cw_client.put_metric_data(\n",
    "        Namespace='cohere',\n",
    "        MetricData=[{\n",
    "            'MetricName': 'Airflow_ghp_auth_file_integration',\n",
    "            'Dimensions': [\n",
    "                {\n",
    "                    'Name': 'airflow',\n",
    "                    'Value': f'Num_of_auths_without_pxcode_and_servicegroup-{env}'\n",
    "                },\n",
    "            ],\n",
    "            'Value': auth.count(),\n",
    "            'Unit': 'Count'\n",
    "        }]\n",
    "    )\n",
    "    return None\n",
    "\n",
    "def log_auths_with_both_pxcode_and_servicegroup(cw_client, auth, env):\n",
    "    \"\"\"\n",
    "    Logs the number of auths with both service group id and procedure code\n",
    "    \"\"\"\n",
    "    cw_client.put_metric_data(\n",
    "        Namespace='cohere',\n",
    "        MetricData=[{\n",
    "            'MetricName': 'Airflow_ghp_auth_file_integration',\n",
    "            'Dimensions': [\n",
    "                {\n",
    "                    'Name': 'airflow',\n",
    "                    'Value': f'Num_of_auths_with_both_pxcode_and_servicegroup-{env}'\n",
    "                },\n",
    "            ],\n",
    "            'Value': auth.count(),\n",
    "            'Unit': 'Count'\n",
    "        }]\n",
    "    )\n",
    "    return None\n",
    "\n",
    "def log_denied_auths_with_no_service_status_code(cw_client, auth, env):\n",
    "    \"\"\"\n",
    "    Logs the number of auths with both service group id and procedure code\n",
    "    \"\"\"\n",
    "    cw_client.put_metric_data(\n",
    "        Namespace='cohere',\n",
    "        MetricData=[{\n",
    "            'MetricName': 'Airflow_ghp_auth_file_integration',\n",
    "            'Dimensions': [\n",
    "                {\n",
    "                    'Name': 'airflow',\n",
    "                    'Value': f'Num_of_denied_auths_with_no_service_status_code-{env}'\n",
    "                },\n",
    "            ],\n",
    "            'Value': auth.count(),\n",
    "            'Unit': 'Count'\n",
    "        }]\n",
    "    )\n",
    "    return None\n",
    "\n",
    "def log_incorrect_column_order(cw_client, env):\n",
    "    \"\"\"\n",
    "    Logs the number of auths without service group id and procedure code\n",
    "    \"\"\"\n",
    "    cw_client.put_metric_data(\n",
    "        Namespace='cohere',\n",
    "        MetricData=[{\n",
    "            'MetricName': 'Airflow_ghp_auth_file_integration',\n",
    "            'Dimensions': [\n",
    "                {\n",
    "                    'Name': 'airflow',\n",
    "                    'Value': f'Incorrect_column_order-{env}'\n",
    "                },\n",
    "            ],\n",
    "            'Value': 1,\n",
    "            'Unit': 'Count'\n",
    "        }]\n",
    "    )\n",
    "    return None\n",
    "\n",
    "def log_auth_file_update_size_exceeded_hard_limit(cw_client, auth, env):\n",
    "    \"\"\"\n",
    "    Logs that the auth file size exceeded hard limit\n",
    "    \"\"\"\n",
    "    cw_client.put_metric_data(\n",
    "        Namespace='cohere',\n",
    "        MetricData=[{\n",
    "            'MetricName': 'Airflow_ghp_auth_file_integration',\n",
    "            'Dimensions': [\n",
    "                {\n",
    "                    'Name': 'airflow',\n",
    "                    'Value': f'Updates_in_Auth_file_exceeded_hard_limit-{env}'\n",
    "                },\n",
    "            ],\n",
    "            'Value': auth.count(),\n",
    "            'Unit': 'Count'\n",
    "        }]\n",
    "    )\n",
    "    return None\n",
    "\n",
    "def add_prefix_to_column_name(df, prefix):\n",
    "    print(f\"Adding prefix to {prefix}\")\n",
    "    new_cols = [prefix + \"_\" + column for column in df.columns]\n",
    "    new_df = df.toDF(*new_cols)\n",
    "    return new_df\n",
    "\n",
    "\n",
    "def get_last_run_time(db):\n",
    "    '''\n",
    "     This will fetch the auths processed by this job to get the maximum timestamp of auths processed to evaluate Incremental data\n",
    "    '''\n",
    "    table_name = f'{db}.ghp_auth_file_integration_qc'\n",
    "\n",
    "    max_commit_time = spark.sql(f\"select max(ghp_auth_hoodie_commit_time) as hoodie_commit_time ,ghp_is_authorization\\\n",
    "                                from {table_name} group by ghp_is_authorization order by ghp_is_authorization\")\n",
    "    print(\"max_commit_time data returned\")\n",
    "    max_commit_time = add_prefix_to_column_name(max_commit_time, \"max\").collect()\n",
    "    max_commit_time_sr = None\n",
    "    max_commit_time_auth = None\n",
    "    max_commit_time_null = \"20230101000000000\" #default so that jobs runs successfully in all envs\n",
    "    for row in max_commit_time:\n",
    "        if row['max_ghp_is_authorization'] == \"N\":\n",
    "            max_commit_time_sr = row['max_hoodie_commit_time']\n",
    "        elif row['max_ghp_is_authorization'] == \"Y\":\n",
    "            max_commit_time_auth = row['max_hoodie_commit_time']\n",
    "        else:\n",
    "            max_commit_time_null = row['max_hoodie_commit_time']\n",
    "    max_commit_time_sr = max_commit_time_sr if max_commit_time_sr > max_commit_time_null else max_commit_time_null\n",
    "    return max_commit_time_sr, max_commit_time_auth\n",
    "\n",
    "def fetch_ghp_service_requests_inpatient(db, refresh_type, max_commit_time=None, cohereids=()):\n",
    "    table_name = f'{db}.hudi_raw_servicerequest'\n",
    "    auth_status = ('APPROVED', 'DENIED', 'PARTIALLY_APPROVED', 'WITHDRAWN', 'VOIDED', 'DISMISSED')\n",
    "    query = f\"select fulldocument.authStatus, fulldocument.patientStayDaysRequested, fulldocument.patientStayDaysApproved, fulldocument.requestType, fulldocument.authorization, fulldocument.decisiontimestamp as reviewDate \\\n",
    "    from {table_name}\\\n",
    "    where fulldocument.healthplanname = 'Geisinger'\\\n",
    "    and fulldocument.authStatus in {auth_status}\\\n",
    "    and fullDocument.deleted != true\\\n",
    "    and fullDocument.encounterType = 'INPATIENT'\"\n",
    "    if len(cohereids) > 0:\n",
    "        query += f\" and fulldocument.cohereid in {cohereids}\"\n",
    "    elif max_commit_time is not None:\n",
    "        query += f\" and _hoodie_commit_time >= {max_commit_time}\"\n",
    "    sr = spark.sql(f\"\"\"{query}\"\"\")\n",
    "    sr = add_prefix_to_column_name(sr, \"sr\")\n",
    "\n",
    "    sr = sr.withColumn(\"sr_is_authorization\", lit(\"N\"))\n",
    "    return sr\n",
    "\n",
    "def fetch_ghp_service_requests_outpatient(db, refresh_type, max_commit_time=None, cohereids=()):\n",
    "    '''\n",
    "    Max commit time would be None for historical runs, whereas for incremental runs it would have a value from all previous outputed data\n",
    "    '''\n",
    "\n",
    "    table_name = f'{db}.hudi_raw_servicerequest'\n",
    "\n",
    "    auth_status = ('APPROVED', 'DENIED', 'PARTIALLY_APPROVED', 'WITHDRAWN', 'VOIDED', 'DISMISSED')\n",
    "\n",
    "    query = f\"select fulldocument._id,fulldocument.cohereid, fulldocument.startdate, fulldocument.enddate, fulldocument.encounterType, fulldocument.units, fulldocument.authStatus, fulldocument.placeofservice, \\\n",
    "    fulldocument.patient, fulldocument.healthplanname, fulldocument.clinicalservice, fulldocument.clinicalservices, \\\n",
    "    fulldocument.requestor.channel as requestorChannel, fulldocument.approvedunits as auth_approved_units,fulldocument.semanticprocedurecodes,fulldocument.selectedPerformingProvider.selectedLocation.tin as performing_tin, fulldocument.claimspaymentnote, fulldocument.servicestatuscode,\\\n",
    "    _hoodie_commit_time as hoodie_commit_time , fulldocument.dateCreated, fulldocument.lastUpdated, fulldocument.selectedPerformingProvider.selectedLocation.externalReferenceId as performing_provider_GHP_Id,\\\n",
    "    fulldocument.selectedFacility.selectedLocation.externalReferenceId as facility_GHP_Id, fulldocument.selectedOrderingProvider.selectedLocation.externalReferenceId as ordering_provider_GHP_Id, fulldocument.selectedOrderingProvider.selectedLocation.tin as ordering_tin,\\\n",
    "    fulldocument.selectedFacility.name as facility_GHP_name, fulldocument.selectedFacility.selectedLocation.address.city as facility_GHP_address_city,fulldocument.selectedFacility.selectedLocation.tin as facility_GHP_tin,fulldocument._id as id,fulldocument.selectedFacility.selectedLocation.address.zipcode as facility_GHP_address_zipcode,\\\n",
    "    fulldocument.selectedFacility.selectedLocation.address.line1 as facility_GHP_address_line_1, fulldocument.selectedFacility.selectedLocation.address.line2 as facility_GHP_address_line_2,fulldocument.selectedFacility.selectedLocation.address.state as facility_GHP_address_state, fulldocument.selectedFacility.providerType as facility_GHP_providerType, fulldocument.decisiontimestamp as reviewDate,\\\n",
    "    fulldocument.selectedOrderingProvider.firstName as ordering_provider_firstName, fulldocument.selectedOrderingProvider.lastName as ordering_provider_lastName, fulldocument.selectedOrderingProvider.providerType as ordering_provider_providerType,\\\n",
    "    fulldocument.selectedPerformingProvider.firstName as performing_provider_firstName, fulldocument.selectedPerformingProvider.lastName as performing_provider_lastName, fulldocument.selectedPerformingProvider.providerType as performing_provider_providerType, fulldocument.selectedPerformingProvider.name as performing_provider_name,\\\n",
    "    fulldocument.patientStayDaysRequested, fulldocument.patientStayDaysApproved, fulldocument.requesttype, fulldocument.integrationstatus \\\n",
    "    from {table_name}\\\n",
    "    where fulldocument.healthplanname = 'Geisinger'\\\n",
    "    and fulldocument.authStatus in {auth_status}\\\n",
    "    and fullDocument.deleted!=true \\\n",
    "    and fulldocument.authorization is null \\\n",
    "    and fullDocument.encounterType != 'INPATIENT'\"\n",
    "\n",
    "    if len(cohereids) > 0:\n",
    "        query += f\" and fulldocument.cohereid in {cohereids}\"\n",
    "    elif max_commit_time is not None:\n",
    "        query += f\" and _hoodie_commit_time >= {max_commit_time}\"\n",
    "\n",
    "    sr = spark.sql(f\"\"\"{query}\"\"\")\n",
    "\n",
    "    sr = add_prefix_to_column_name(sr, \"sr\")\n",
    "\n",
    "    sr = sr.withColumn(\"sr_is_authorization\", lit(\"N\"))\n",
    "    sr = sr.withColumn(\"sr_expectedAdmissionDate\", lit(None))\n",
    "    sr = sr.withColumn(\"sr_actualAdmissionDateTime\", lit(None))\n",
    "    sr = sr.withColumn(\"sr_actualDischargeDateTime\", lit(None))\n",
    "    sr = sr.withColumn(\"sr_authorization\", lit(None))\n",
    "    sr = sr.withColumn(\"sr_authCategory\", lit(None))\n",
    "    sr = sr.withColumn(\"sr_decisiontimestamp\", lit(None))\n",
    "    print(\"service_request data returned\")\n",
    "    return sr\n",
    "\n",
    "\n",
    "def fetch_date_created(db):\n",
    "    '''\n",
    "    Fetches the date created off of the service request to remedy authorizations that were created upon the creation of a continuation request\n",
    "    (the initial SR was created before the continuations release)\n",
    "    '''\n",
    "    table_name = f'{db}.hudi_raw_servicerequest'\n",
    "\n",
    "    auth_status = ('APPROVED', 'DENIED', 'PARTIALLY_APPROVED', 'WITHDRAWN', 'VOIDED', 'DISMISSED')\n",
    "    \n",
    "    query = f\"select fulldocument.cohereid, fulldocument.dateCreated\\\n",
    "            from {table_name}\\\n",
    "    where fulldocument.healthplanname = 'Geisinger'\\\n",
    "    and fulldocument.authStatus in {auth_status}\\\n",
    "    and fullDocument.deleted!=true \\\n",
    "    and fulldocument.authorization is not null\"\n",
    "\n",
    "    sr = spark.sql(f\"\"\"{query}\"\"\")\n",
    "\n",
    "    sr = add_prefix_to_column_name(sr, \"dc\")\n",
    "\n",
    "    print(\"dateCreated data returned\")\n",
    "    return sr\n",
    "\n",
    "\n",
    "def fetch_ghp_authorization(db, refresh_type, is_inpatient, max_commit_time=None, cohereids=()):\n",
    "    '''\n",
    "    Max commit time would be None for historical runs, whereas for incremental runs it would have a value from all previous outputed data\n",
    "    '''\n",
    "\n",
    "    table_name = f'{db}.hudi_raw_authorization'\n",
    "\n",
    "    auth_status = ('APPROVED', 'DENIED', 'PARTIALLY_APPROVED', 'WITHDRAWN', 'VOIDED', 'DISMISSED')\n",
    "\n",
    "    query = f\"select fulldocument._id,fulldocument.servicerequestids, fulldocument.authnumber as cohereid,fulldocument.startdate, fulldocument.enddate, fulldocument.requestedunits as units, \\\n",
    "    fulldocument.healthplanname,  \\\n",
    "    fulldocument.approvedunits as auth_approved_units,fulldocument.claimspaymentnote, fulldocument.servicestatuscode,\\\n",
    "    _hoodie_commit_time as hoodie_commit_time ,fulldocument.dateCreated,fulldocument.requestorChannel, fulldocument.patient,\\\n",
    "    fulldocument.lastupdated, fulldocument.authstatus, fulldocument.encounterType, fulldocument.placeofservice, fulldocument.clinicalservice, fulldocument.clinicalservices, fulldocument.semanticprocedurecodes,\\\n",
    "    fulldocument.selectedPerformingProvider.selectedLocation.tin as performing_tin, fulldocument.selectedPerformingProvider.selectedLocation.externalReferenceId as performing_provider_GHP_Id,\\\n",
    "    fulldocument.selectedFacility.selectedLocation.externalReferenceId as facility_GHP_Id, fulldocument.selectedOrderingProvider.selectedLocation.externalReferenceId as ordering_provider_GHP_Id, fulldocument.selectedOrderingProvider.selectedLocation.tin as ordering_tin,\\\n",
    "    fulldocument.selectedFacility.name as facility_GHP_name, fulldocument.selectedFacility.selectedLocation.address.city as facility_GHP_address_city,fulldocument.selectedFacility.selectedLocation.tin as facility_GHP_tin,fulldocument._id as id,fulldocument.selectedFacility.selectedLocation.address.zipcode as facility_GHP_address_zipcode,\\\n",
    "    fulldocument.selectedFacility.selectedLocation.address.line1 as facility_GHP_address_line_1, fulldocument.selectedFacility.selectedLocation.address.line2 as facility_GHP_address_line_2,fulldocument.selectedFacility.selectedLocation.address.state as facility_GHP_address_state, fulldocument.selectedFacility.providerType as facility_GHP_providerType, fulldocument.decisiontimestamp,\\\n",
    "    fulldocument.selectedOrderingProvider.firstName as ordering_provider_firstName, fulldocument.selectedOrderingProvider.lastName as ordering_provider_lastName, fulldocument.selectedOrderingProvider.providerType as ordering_provider_providerType,\\\n",
    "    fulldocument.selectedPerformingProvider.firstName as performing_provider_firstName, fulldocument.selectedPerformingProvider.lastName as performing_provider_lastName, fulldocument.selectedPerformingProvider.providerType as performing_provider_providerType, fulldocument.selectedPerformingProvider.name as performing_provider_name,\\\n",
    "    fulldocument.expectedAdmissionDate, fulldocument.admissionDateTime as actualAdmissionDateTime, fulldocument.actualDischargeDateTime, fulldocument.authCategory, fulldocument.integrationstatus\\\n",
    "    from {table_name}\\\n",
    "    where fulldocument.healthplanname = 'Geisinger'\\\n",
    "    and fullDocument.deleted!=true\"\n",
    "\n",
    "    if is_inpatient:\n",
    "        query += \" and fullDocument.encounterType = 'INPATIENT'\"\n",
    "    else:\n",
    "        query += \" and fullDocument.encounterType != 'INPATIENT'\"\n",
    "        query += f\" and fulldocument.authstatus in {auth_status}\"\n",
    "        if len(cohereids) > 0:\n",
    "            query += f\" and fulldocument.authnumber in {cohereids}\"\n",
    "        elif max_commit_time is not None:\n",
    "            query += f\" and _hoodie_commit_time >= {max_commit_time}\"\n",
    "\n",
    "    auth = spark.sql(f\"\"\"{query}\"\"\")\n",
    "\n",
    "    auth = add_prefix_to_column_name(auth, \"sr\")\n",
    "\n",
    "    # Filter out the null cohere id auths\n",
    "    # auth = filter_null_cohere_id_auths(auth, cw_client, env)\n",
    "\n",
    "    auth = auth.drop(\"sr_servicerequestids\")\n",
    "\n",
    "    if not is_inpatient:\n",
    "        auth = auth.withColumn(\"sr_is_authorization\", lit(\"Y\"))\n",
    "        auth = auth.withColumn(\"sr_patientStayDaysRequested\", lit(None))\n",
    "        auth = auth.withColumn(\"sr_patientStayDaysApproved\", lit(None))\n",
    "        auth = auth.withColumn(\"sr_requesttype\", lit(None))\n",
    "        auth = auth.withColumn(\"sr_reviewDate\", lit(None))\n",
    "        auth = auth.withColumn(\"sr_authorization\", lit(None))\n",
    "    else:\n",
    "        auth = auth.drop(\"sr_authStatus\")\n",
    "    print(\"authorization data returned\")\n",
    "    return auth\n",
    "\n",
    "\n",
    "def handle_semantic_procedure_codes(sr, clinical_service, service_group_id, refresh_type):\n",
    "    # get auths that have an empty/null clinicalServices list\n",
    "    sr_empty_or_null_clinicalservices = sr.filter((size(col(\"sr_clinicalservices\")) < 1) | (col(\"sr_dateCreated\") < unix_timestamp(lit(\"2023-05-14 18:00:00\")).cast('timestamp')))\n",
    "    sr_empty_or_null_clinicalservices = sr_empty_or_null_clinicalservices.join(clinical_service, sr_empty_or_null_clinicalservices.sr_clinicalservice == clinical_service.clinicalservice_id, \"left\") \\\n",
    "    .join(service_group_id, lower(trim(col(\"clinicalservice_name\"))) == col(\"Cohere_serviceID_name_lookup\"), \"left\") \\\n",
    "        .withColumn(\"temp_service_group_id\", when(col(\"sr_encounterType\") == \"INPATIENT\", lit(None)).otherwise(col(\"GHP_service_name_lookup\"))) \\\n",
    "        .drop(\"Cohere_serviceID_name_lookup\",\"GHP_service_name_lookup\", \"sr__id\")\n",
    "    \n",
    "    # get auths with items in their clinicalServices list\n",
    "    sr_with_clinicalservices = sr.filter((size(col(\"sr_clinicalservices\")) >= 1) & (col(\"sr_dateCreated\") >= unix_timestamp(lit(\"2023-05-14 18:00:00\")).cast('timestamp')))\n",
    "    \n",
    "    # apply old logic to SRs with empty/null clinicalservices\n",
    "    sr_with_groupId = sr_empty_or_null_clinicalservices.filter(col(\"temp_service_group_id\").isNotNull()) \\\n",
    "        .withColumn(\"sr_px_units\", col(\"sr_units\")) \\\n",
    "        .withColumn(\"sr_code\", lit(\"\")) \\\n",
    "        .withColumn(\"sr_approvedunits\", col(\"sr_auth_approved_units\")) \\\n",
    "        .drop(\"sr_semanticprocedurecodes\", \"sr_auth_approved_units\")\n",
    "    sr_withOut_groupId = sr_empty_or_null_clinicalservices.filter(col(\"temp_service_group_id\").isNull()) \\\n",
    "        .withColumn(\"semanticprocedurecodes_explode\", explode_outer(\"sr_semanticprocedurecodes\")) \\\n",
    "        .withColumn(\"sr_px_units\", col(\"semanticprocedurecodes_explode.units\").cast(\"string\")) \\\n",
    "        .withColumn(\"sr_code\", col(\"semanticprocedurecodes_explode.code\").cast(\"string\")) \\\n",
    "        .withColumn(\"sr_approvedunits\", col(\"semanticprocedurecodes_explode.approvedUnits\")) \\\n",
    "        .drop(\"semanticprocedurecodes_explode\", \"sr_semanticprocedurecodes\", \"sr_auth_approved_units\")\n",
    "    sr_empty_or_null_clinicalservices = sr_with_groupId.union(sr_withOut_groupId) \\\n",
    "        .withColumn(\"sr_dateCreated\", coalesce(to_timestamp(col(\"sr_datecreated\"), \"yyyy-MM-dd'T'HH:mm:ss.SSS'Z'\"),\n",
    "                                               to_timestamp(col(\"sr_datecreated\"), \"yyyy-MM-dd'T'HH:mm:ss'Z'\"))) \\\n",
    "        .withColumn(\"sr_lastUpdated\", coalesce(to_timestamp(col(\"sr_lastUpdated\"), \"yyyy-MM-dd'T'HH:mm:ss.SSS'Z'\"),\n",
    "                                               to_timestamp(col(\"sr_lastUpdated\"), \"yyyy-MM-dd'T'HH:mm:ss'Z'\"))) \\\n",
    "        .withColumn(\"sr_dateCreated_temp\", date_format(col(\"sr_dateCreated\"), \"yyyyMMddHHmmssSSS\")) \\\n",
    "        .withColumn(\"sr_units\", col(\"sr_units\").cast(\"string\")) \\\n",
    "        .withColumn(\"sr_approvedunits\", col(\"sr_approvedunits\").cast(\"string\")) \\\n",
    "        .withColumn(\"refresh_type\", lit(refresh_type).cast(\"string\"))\n",
    "    \n",
    "    # apply new logic to auths with ids in clinicalservices\n",
    "    # break out the auth by semantic px code\n",
    "    # this function naively assumes that all groupIds will be clinicalServiceIds, need to change if other groupBy objs are incorporated in the future\n",
    "    sr_with_clinicalservices_exp = sr_with_clinicalservices.withColumn(\"semanticprocedurecodes_explode\",explode(\"sr_semanticprocedurecodes\")) \\\n",
    "        .withColumn(\"sr_px_units\", col(\"semanticprocedurecodes_explode.units\").cast(\"string\")) \\\n",
    "        .withColumn(\"sr_code\",col(\"semanticprocedurecodes_explode.code\").cast(\"string\")) \\\n",
    "        .withColumn(\"sr_approvedunits\",col(\"semanticprocedurecodes_explode.approvedUnits\")) \\\n",
    "        .withColumn(\"sr_clinicalservice\", col(\"semanticprocedurecodes_explode.groupId\")) \\\n",
    "        .drop(\"semanticprocedurecodes_explode\",\"sr_semanticprocedurecodes\",\"sr_auth_approved_units\")\n",
    "    sr_with_clinicalservices_px = sr_with_clinicalservices_exp.join(clinical_service, sr_with_clinicalservices_exp.sr_clinicalservice == clinical_service.clinicalservice_id, \"left\") \\\n",
    "    .join(service_group_id, lower(trim(col(\"clinicalservice_name\"))) == col(\"Cohere_serviceID_name_lookup\"), \"left\") \\\n",
    "        .withColumn(\"temp_service_group_id\", when(col(\"sr_encounterType\") == \"INPATIENT\", lit(None)).otherwise(col(\"GHP_service_name_lookup\"))) \\\n",
    "        .drop(\"Cohere_serviceID_name_lookup\",\"GHP_service_name_lookup\", \"sr__id\")\n",
    "    sr_with_service_group_id_for_units = sr_with_clinicalservices_px.filter(col(\"temp_service_group_id\").isNotNull()) \\\n",
    "        .withColumn(\"sr_approvedunits\", col(\"sr_approvedunits\"))\n",
    "    # if units on px turned on, break out 1 line per px, but with reference to servicegroupid\n",
    "    sr_with_units_on_px = sr_with_service_group_id_for_units.filter( (sr_with_service_group_id_for_units[\"clinicalservice_isUnitsOnPx\"] == True) & (sr_with_service_group_id_for_units[\"temp_service_group_id\"] == \"HOME\") ) \\\n",
    "        .withColumn(\"sr_code\", lit(\"\"))\n",
    "    # if units on px turned off, group pxs on 1 line\n",
    "    sr_no_units_on_px = sr_with_service_group_id_for_units.filter( (sr_with_service_group_id_for_units[\"clinicalservice_isUnitsOnPx\"] == False) | (sr_with_service_group_id_for_units[\"temp_service_group_id\"] != \"HOME\")) \\\n",
    "        .groupBy(\"sr_id\", \"sr_cohereid\", \"sr_startdate\", \"sr_enddate\", \"sr_encounterType\", \"sr_authStatus\", \"sr_placeofservice\", \"sr_units\", \\\n",
    "                 \"sr_patient\", \"sr_healthplanname\", \"sr_clinicalservice\", \"sr_clinicalservices\", \"sr_requestorChannel\", \\\n",
    "                 \"sr_performing_tin\", \"sr_claimspaymentnote\", \"sr_servicestatuscode\", \"sr_hoodie_commit_time\", \"sr_dateCreated\", \"sr_lastUpdated\", \"sr_performing_provider_GHP_Id\", \\\n",
    "                 \"sr_facility_GHP_Id\", \"sr_ordering_provider_GHP_Id\", \"sr_ordering_tin\", \"sr_facility_GHP_address_city\", \"sr_facility_GHP_tin\", \"sr_facility_GHP_address_zipcode\", \\\n",
    "                 \"sr_facility_GHP_address_line_1\", \"sr_facility_GHP_address_line_2\", \"sr_facility_GHP_address_state\", \"sr_decisiontimestamp\", \"sr_is_authorization\", \"sr_facility_GHP_providerType\", \\\n",
    "                 \"sr_facility_GHP_name\", \"sr_ordering_provider_firstName\", \"sr_ordering_provider_lastName\", \"sr_ordering_provider_providerType\", \\\n",
    "                 \"sr_performing_provider_firstName\", \"sr_performing_provider_lastName\", \"sr_performing_provider_providerType\", \"sr_performing_provider_name\", \\\n",
    "                 \"clinicalservice_id\", \"clinicalservice_name\", \"clinicalservice_allowedhealthplanids\", \"clinicalservice_isUnitsOnPx\", \"clinicalservice_procedurecodeids\", \"clinicalservice_procedureCodes\", \\\n",
    "                 \"health_plan_name_id\", \"health_plan_name_name\", \"temp_service_group_id\", \"sr_max_commit_time\", \\\n",
    "                 \"sr_requesttype\", \"sr_patientStayDaysRequested\", \"sr_patientStayDaysApproved\", \"sr_expectedAdmissionDate\", \"sr_actualAdmissionDateTime\", \"sr_actualDischargeDateTime\", \"sr_authorization\", \"sr_authCategory\", \\\n",
    "                 \"sr_reviewDate\", \"sr_integrationstatus\").agg(max(\"sr_px_units\").alias(\"sr_px_units\"), max(\"sr_approvedunits\").alias(\"sr_approvedunits\")).withColumn(\"sr_code\", lit(\"\"))\n",
    "    sr_w_service_group_id = sr_with_units_on_px.unionByName(sr_no_units_on_px)\n",
    "    sr_withOut_service_group_id = sr_with_clinicalservices_px.filter(col(\"temp_service_group_id\").isNull())\n",
    "    sr_with_service_group_id_for_units = sr_w_service_group_id.unionByName(sr_withOut_service_group_id) \\\n",
    "        .withColumn(\"sr_dateCreated\",coalesce(to_timestamp(col(\"sr_datecreated\"),\"yyyy-MM-dd'T'HH:mm:ss.SSS'Z'\"),to_timestamp(col(\"sr_datecreated\"),\"yyyy-MM-dd'T'HH:mm:ss'Z'\"))) \\\n",
    "        .withColumn(\"sr_lastUpdated\",coalesce(to_timestamp(col(\"sr_lastUpdated\"),\"yyyy-MM-dd'T'HH:mm:ss.SSS'Z'\"),to_timestamp(col(\"sr_lastUpdated\"),\"yyyy-MM-dd'T'HH:mm:ss'Z'\"))) \\\n",
    "        .withColumn(\"sr_dateCreated_temp\",date_format(col(\"sr_dateCreated\"),\"yyyyMMddHHmmssSSS\")) \\\n",
    "        .withColumn(\"sr_approvedunits\",col(\"sr_approvedunits\").cast(\"string\")) \\\n",
    "        .withColumn(\"refresh_type\", lit(refresh_type).cast(\"string\"))\n",
    "    sr_final = sr_with_service_group_id_for_units.unionByName(sr_empty_or_null_clinicalservices)\n",
    "    return sr_final\n",
    "\n",
    "def fetch_place_of_service(db):\n",
    "    '''\n",
    "    Fetches Place of Service data for lookup\n",
    "    '''\n",
    "\n",
    "    table_name = f'{db}.hudi_raw_placeofservice'\n",
    "\n",
    "    pos = spark.sql(\n",
    "        f\"\"\"\n",
    "    select fulldocument._id as id, fulldocument.code \n",
    "    from {table_name}\n",
    "    \n",
    "    \"\"\")\n",
    "    print(f\"Returned {pos.count()} place of service records\")\n",
    "    return add_prefix_to_column_name(pos, \"pos\")\n",
    "\n",
    "\n",
    "def fetch_patient(db):\n",
    "    '''\n",
    "    Fetches Patient data for lookup\n",
    "    '''\n",
    "\n",
    "    table_name = f'{db}.hudi_raw_patient'\n",
    "\n",
    "    patient = spark.sql(\n",
    "        f\"\"\"\n",
    "    select fulldocument._id as id, fulldocument.coverages , fulldocument.memberid\n",
    "    from {table_name}\n",
    "    \"\"\")\n",
    "    patient = add_prefix_to_column_name(patient, \"patient\")\n",
    "    patient = patient.withColumn(\"coverage_explode\", explode(col(\"patient_coverages\"))) \\\n",
    "        .withColumn(\"patient_subscriberID\", col(\"coverage_explode.subscriberID\").cast(\"string\")) \\\n",
    "        .withColumn(\"patient_healthplanname\", col(\"coverage_explode.healthplanname\").cast(\"string\")) \\\n",
    "        .drop(\"coverage_explode\", \"patient_coverages\")\n",
    "    patient = patient.filter(col(\"patient_healthplanname\") == lit(\"Geisinger\"))\n",
    "    print(f\"Returned {patient.count()} patient records\")\n",
    "    return patient\n",
    "\n",
    "\n",
    "def fetch_health_plan_name(db):\n",
    "    '''\n",
    "   Fetches HealthPlanName to filter Clinical Service Data for GHP\n",
    "   '''\n",
    "\n",
    "    table_name = f'{db}.hudi_raw_healthplan'\n",
    "\n",
    "    health_plan_name = spark.sql(\n",
    "        f\"\"\"\n",
    "    select fulldocument._id as id , fulldocument.name as name\n",
    "    from {table_name} t\n",
    "    where fulldocument.name = 'Geisinger'\n",
    "    \"\"\")\n",
    "    print(f\"Returned {health_plan_name.count()} health_plan_name records\")\n",
    "    return add_prefix_to_column_name(health_plan_name, \"health_plan_name\")\n",
    "\n",
    "\n",
    "def fetch_clinical_service(db, health_plan_name):\n",
    "    '''\n",
    "   Fetches clinical service data for GHP\n",
    "   '''\n",
    "\n",
    "    table_name = f'{db}.hudi_raw_clinicalservice'\n",
    "\n",
    "    clinicalservice = spark.sql(\n",
    "        f\"\"\"\n",
    "    select fulldocument._id as id, fulldocument.name, fulldocument.allowedhealthplanids, fulldocument.isUnitsOnPx, fulldocument.procedurecodeids, fulldocument.semanticprocedureCodes.code AS procedureCodes\n",
    "    from {table_name} t\n",
    "    \n",
    "    \"\"\")\n",
    "    print(f\"Returned {clinicalservice.count()} clinicalservice records\")\n",
    "    clinicalservice = add_prefix_to_column_name(clinicalservice,\"clinicalservice\")\n",
    "    clinicalservice = clinicalservice.withColumn(\"clinicalservice_allowedhealthplanids\",regexp_replace(col(\"clinicalservice_allowedhealthplanids\").cast(\"string\"), '\\[|\\]| ', '')) \\\n",
    "        .join(health_plan_name, col(\"clinicalservice_allowedhealthplanids\") == col(\"health_plan_name_id\"), \"inner\")\n",
    "    return clinicalservice\n",
    "\n",
    "\n",
    "def fetch_service_request_relation(db):\n",
    "    '''\n",
    "   Fetches service request relation data for GHP\n",
    "   '''\n",
    "\n",
    "    table_name = f'{db}.hudi_raw_servicerequestrelation'\n",
    "\n",
    "    servicerequestrelation = spark.sql(\n",
    "        f\"\"\"\n",
    "    select fulldocument.from, fulldocument.to\n",
    "    from {table_name} t\n",
    "    where fulldocument.healthplanname = 'Geisinger' and fulldocument.relation = 'REPLACEMENT'\n",
    "    \n",
    "    \"\"\")\n",
    "    print(f\"Returned {servicerequestrelation.count()} servicerequestrelation records\")\n",
    "    return add_prefix_to_column_name(servicerequestrelation, \"servicerequestrelation\")\n",
    "\n",
    "\n",
    "def check_refresh_type(db, refresh_type, cohereids):\n",
    "    '''\n",
    "    If the refresh type is full refresh, all auths for GHP will be fetched\n",
    "    If refresh type is incremental:\n",
    "                    The max hoodie commit time from the past run would be fetched, and\n",
    "                    The incremental auths that have come since that max hoodie commit time\n",
    "    '''\n",
    "\n",
    "    max_commit_time_auth = \"20230101000000000\" #default for historical runs\n",
    "    if refresh_type == \"full_refresh\":\n",
    "        inpatient_sr = fetch_ghp_service_requests_inpatient(db, refresh_type)\n",
    "        sr = fetch_ghp_service_requests_outpatient(db, refresh_type)\n",
    "        inpatient_auth = fetch_ghp_authorization(db, refresh_type, is_inpatient=True)\n",
    "        auth = fetch_ghp_authorization(db, refresh_type, is_inpatient=False)\n",
    "    else:\n",
    "        max_commit_time_sr, max_commit_time_auth = get_last_run_time(db)\n",
    "        print(\n",
    "            f\"Max commit time of previous Job: {max_commit_time_sr} for service requests and {max_commit_time_auth} for authorizations\")\n",
    "        inpatient_sr = fetch_ghp_service_requests_inpatient(db, refresh_type, max_commit_time_sr, cohereids)\n",
    "        sr = fetch_ghp_service_requests_outpatient(db, refresh_type, max_commit_time_sr, cohereids)\n",
    "        inpatient_auth = fetch_ghp_authorization(db, refresh_type, is_inpatient=True, cohereids=cohereids)\n",
    "        auth = fetch_ghp_authorization(db, refresh_type, is_inpatient=False, max_commit_time=max_commit_time_auth, cohereids=cohereids)\n",
    "\n",
    "    date_created = fetch_date_created(db)\n",
    "    auth = auth.join(date_created, auth.sr_cohereid == date_created.dc_cohereid, \"left\") \\\n",
    "        .withColumn(\"sr_dateCreated\",coalesce(col(\"dc_dateCreated\"),col(\"sr_dateCreated\"))).drop(\"dc_cohereid\", \"dc_dateCreated\")\n",
    "    inpatient_sr = inpatient_sr.join(inpatient_auth, inpatient_sr.sr_authorization == inpatient_auth.sr_id, \"inner\")\n",
    "    sr = sr.unionByName(auth)\n",
    "    sr = sr.unionByName(inpatient_sr)\n",
    "    sr = sr.withColumn(\"sr_max_commit_time\",lit(max_commit_time_auth))\n",
    "    return sr\n",
    "\n",
    "\n",
    "def compute_final_df(sr, patient, pos, clinical_service, provider_raw_final):\n",
    "    '''\n",
    "    The first/Historical run will have authorization as N,\n",
    "    and the incremental run will have it as either N or U; depending if the auth was created after last job run it would be N, else U\n",
    "    The provider with provider type G could only be present in the servicing provider Id(performing provider), Name and tin list, ordering provider can only be of type P\n",
    "    If provider type G is present in facility we send in additional notes field\n",
    "    '''\n",
    "\n",
    "\n",
    "    final_df = sr \\\n",
    "        .join(patient, sr.sr_patient == patient.patient_id, \"left\") \\\n",
    "        .join(pos, sr.sr_placeofservice == pos.pos_id, \"left\") \\\n",
    "        .withColumnRenamed(\"sr_ordering_provider_firstName\",\"ordering_provider_first_name\") \\\n",
    "        .withColumnRenamed(\"sr_ordering_provider_lastName\",\"ordering_provider_last_name\") \\\n",
    "        .withColumnRenamed(\"sr_ordering_provider_providerType\",\"ordering_providerType\") \\\n",
    "        .withColumnRenamed(\"sr_performing_provider_firstName\",\"performing_provider_first_name\") \\\n",
    "        .withColumnRenamed(\"sr_performing_provider_lastName\",\"performing_provider_last_name\") \\\n",
    "        .withColumnRenamed(\"sr_performing_provider_providerType\",\"performing_providerType\") \\\n",
    "        .withColumnRenamed(\"sr_performing_provider_name\",\"performing_provider_name\") \\\n",
    "        .withColumnRenamed(\"sr_facility_GHP_providerType\",\"facility_providerType\") \\\n",
    "        .withColumn(\"GHP_ServiceRequest_ReviewDate\", col(\"sr_reviewDate\")) \\\n",
    "        .withColumn(\"GHP_Authorization_IntegrationStatus\", col(\"sr_integrationstatus\")) \\\n",
    "        .join(provider_raw_final, sr.sr_ordering_provider_GHP_Id == provider_raw_final.GHP_Provider_Number,\"left\") \\\n",
    "        .withColumn(\"ordering_providerType\",coalesce(col(\"Provider_Entity\"),col(\"ordering_providerType\"),lit(\"NA\"))) \\\n",
    "        .drop(\"GHP_Provider_Number\",\"Provider_Entity\") \\\n",
    "        .join(provider_raw_final, sr.sr_performing_provider_GHP_Id == provider_raw_final.GHP_Provider_Number,\"left\") \\\n",
    "        .withColumn(\"performing_providerType\",coalesce(col(\"Provider_Entity\"),col(\"performing_providerType\"),lit(\"NA\"))) \\\n",
    "        .drop(\"GHP_Provider_Number\",\"Provider_Entity\") \\\n",
    "        .join(provider_raw_final, sr.sr_facility_GHP_Id == provider_raw_final.GHP_Provider_Number,\"left\") \\\n",
    "        .withColumn(\"facility_providerType\",coalesce(col(\"Provider_Entity\"),col(\"facility_providerType\"),lit(\"NA\"))) \\\n",
    "        .drop(\"GHP_Provider_Number\",\"Provider_Entity\") \\\n",
    "        .withColumn(\"GHP_assigned_vendor_code\",lit(\"CH\")) \\\n",
    "        .withColumn(\"GHP_vendor_authorization_number\",coalesce(col(\"sr_cohereid\"),col(\"sr_id\"))) \\\n",
    "        .withColumn(\"GHP_record_type\",lit(\"A\")) \\\n",
    "        .withColumn(\"GHP_request_type\",lower(trim(col(\"sr_encountertype\")))) \\\n",
    "        .withColumn(\"GHP_subscriber_number\",col(\"patient_subscriberID\")) \\\n",
    "        .withColumn(\"GHP_member_number\",col(\"patient_memberid\")) \\\n",
    "        .withColumn(\"GHP_type_of_care_indicator\",lit(\"L\")) \\\n",
    "        .withColumn(\"GHP_service_category\",lit(\"M\")) \\\n",
    "        .withColumn(\"GHP_service_recieved_date\",lit(\"\")) \\\n",
    "        .withColumn(\"GHP_from_or_low_service_date\",date_format(col(\"sr_startdate\"),\"yyyyMMdd\")) \\\n",
    "        .withColumn(\"GHP_to_or_high_service_date\",date_format(col(\"sr_enddate\"),\"yyyyMMdd\")) \\\n",
    "        .withColumn(\"GHP_service_group_id\",col(\"temp_service_group_id\")) \\\n",
    "        .withColumn(\"GHP_service_group_id_array\",when(col(\"sr_encounterType\") == lit(\"OUTPATIENT\"), array(col(\"GHP_service_group_id\")))\\\n",
    "          .when(col(\"sr_authCategory\") == lit(\"SKILLED_NURSING_CARE\"), array(lit(\"SNFH\"), lit(\"SNFP\")))\\\n",
    "          .otherwise(array(lit(\"IPAH\"), lit(\"IPAP\")))) \\\n",
    "        .withColumn(\"GHP_procedure_code\", col(\"sr_code\")) \\\n",
    "        .withColumn(\"GHP_primary_diagnosis_code\",lit(\"R6889\")) \\\n",
    "        .withColumn(\"GHP_units_requested\",col(\"sr_px_units\")) \\\n",
    "        .withColumn(\"GHP_units_authorized\",col(\"sr_approvedunits\")) \\\n",
    "        .withColumn(\"GHP_units_approved\",col(\"sr_approvedunits\")) \\\n",
    "        .withColumn(\"GHP_service_status\",trim(lower(col(\"sr_authstatus\")))) \\\n",
    "        .withColumn(\"GHP_service_deny_date\",date_format(col(\"sr_decisiontimestamp\"),\"yyyyMMdd\")) \\\n",
    "        .withColumn(\"GHP_requesting_provider_id\",when(col(\"ordering_providerType\") == lit(\"G\"),lit(\"ZZPRACNOTFND\")).otherwise(coalesce(col(\"sr_ordering_provider_GHP_Id\"),lit(\"ZZPRACNOTFND\")))) \\\n",
    "        .withColumn(\"GHP_servicing_facility_id\",when(col(\"facility_providerType\") == lit(\"G\"),lit(\"ZZFACINOTFND\")).otherwise(coalesce(col(\"sr_facility_GHP_Id\"),lit(\"ZZFACINOTFND\")))) \\\n",
    "        .withColumn(\"GHP_servicing_facility_name\",when(col(\"facility_providerType\") == lit(\"G\"),lit(\"\")).otherwise(col(\"sr_facility_GHP_name\"))) \\\n",
    "        .withColumn(\"GHP_authorized_place_of_service\",col(\"pos_code\")) \\\n",
    "        .withColumn(\"GHP_requested_place_of_service\",col(\"pos_code\")) \\\n",
    "        .withColumn(\"GHP_servicing_provider_id\",coalesce(col(\"sr_performing_provider_GHP_Id\"),lit(\"ZZPRACNOTFND\"))) \\\n",
    "        .withColumn(\"GHP_servicing_provider_full_name\",coalesce(concat(col(\"performing_provider_first_name\"),lit(\" \"), col(\"performing_provider_last_name\")),col(\"performing_provider_name\"))) \\\n",
    "        .withColumn(\"GHP_servicing_provider_tax_id\",col(\"sr_performing_tin\")) \\\n",
    "        .withColumn(\"GHP_referring_provider_id\",when(col(\"ordering_providerType\") == lit(\"G\"),lit(\"ZZPRACNOTFND\")).otherwise(coalesce(col(\"sr_ordering_provider_GHP_Id\"),lit(\"ZZPRACNOTFND\")))) \\\n",
    "        .withColumn(\"GHP_referring_provider_full_name\",when(col(\"ordering_providerType\") == lit(\"G\"),lit(\"\")).otherwise(concat_ws(\" \",col(\"ordering_provider_first_name\"), col(\"ordering_provider_last_name\")))) \\\n",
    "        .withColumn(\"GHP_referring_provider_tax_id\",when(col(\"ordering_providerType\") == lit(\"G\"),lit(\"\")).otherwise(col(\"sr_ordering_tin\"))) \\\n",
    "        .withColumn(\"GHP_attending_provider_id\",when(col(\"performing_providerType\") == lit(\"G\"),lit(\"ZZPRACNOTFND\")).otherwise(coalesce(col(\"sr_performing_provider_GHP_Id\"),lit(\"ZZPRACNOTFND\")))) \\\n",
    "        .withColumn(\"GHP_authorization_type\",lit(\"\")) \\\n",
    "        .withColumn(\"GHP_entry_method\",lower(trim(col(\"sr_requestorChannel\")))) \\\n",
    "        .withColumn(\"GHP_procedure_code_modifier\",lit(\"\")) \\\n",
    "        .withColumn(\"GHP_total_length_of_stay_requested\",coalesce(col(\"sr_patientStayDaysRequested\"), lit(\"\"))) \\\n",
    "        .withColumn(\"GHP_total_length_of_stay_authorized\",coalesce(col(\"sr_patientStayDaysApproved\"), lit(\"\"))) \\\n",
    "        .withColumn(\"GHP_requested_admission_date\", coalesce(date_format(col(\"sr_actualAdmissionDateTime\"), \"yyyyMMdd hhmmss\"), date_format(col(\"sr_expectedAdmissionDate\"), \"yyyyMMdd hhmmss\"))) \\\n",
    "        .withColumn(\"GHP_authorized_admission_date\", col(\"GHP_requested_admission_date\")) \\\n",
    "        .withColumn(\"GHP_actual_admission_date\", date_format(col(\"sr_actualAdmissionDateTime\"), \"yyyyMMdd hhmmss\")) \\\n",
    "        .withColumn(\"GHP_discharge_expected_date_and_time\", coalesce(date_format(col(\"sr_actualDischargeDateTime\"), \"yyyyMMdd hhmmss\"), col(\"GHP_to_or_high_service_date\")))  \\\n",
    "        .withColumn(\"GHP_actual_expected_date_and_time\",col(\"GHP_discharge_expected_date_and_time\")) \\\n",
    "        .withColumn(\"GHP_review_date\", when(col(\"sr_requesttype\") == lit(\"CONTINUATION\"), date_format(col(\"sr_reviewDate\"), \"yyyyMMdd hhmmss\")).otherwise(lit(\"\"))) \\\n",
    "        .withColumn(\"GHP_concurrent_reviewed_treatment_type\", when(col(\"sr_requesttype\") == lit(\"CONTINUATION\"), lit(\"M\")).otherwise(lit(\"\"))) \\\n",
    "        .withColumn(\"GHP_concurrent_reviewed_length_of_stay_requested\",when(col(\"sr_requesttype\") == lit(\"CONTINUATION\"), col(\"sr_patientStayDaysRequested\")).otherwise(lit(\"\"))) \\\n",
    "        .withColumn(\"GHP_concurrent_reviewed_length_of_stay_authorized\",when(col(\"sr_requesttype\") == lit(\"CONTINUATION\"), col(\"sr_patientStayDaysApproved\")).otherwise(lit(\"\"))) \\\n",
    "        .withColumn(\"GHP_requested_length_of_stay\", coalesce(col(\"sr_patientStayDaysRequested\"), lit(\"\"))) \\\n",
    "        .withColumn(\"GHP_authorized_length_of_stay\", coalesce(col(\"sr_patientStayDaysApproved\"), lit(\"\"))) \\\n",
    "        .withColumn(\"GHP_allowed_days_length_of_stay\", coalesce(col(\"sr_patientStayDaysApproved\"), lit(\"\"))) \\\n",
    "        .withColumn(\"GHP_referral_type\", when(col(\"sr_encounterType\") == lit(\"OUTPATIENT\"), lower(trim(col(\"clinicalservice_name\"))))\\\n",
    "          .otherwise(col(\"sr_authCategory\"))) \\\n",
    "        .withColumn(\"GHP_service_status_reason\",col(\"sr_servicestatuscode\")) \\\n",
    "        .withColumn(\"GHP_auth_hoodie_commit_time\",col(\"sr_hoodie_commit_time\")) \\\n",
    "        .withColumn(\"facility_GHP_address_line_1\",coalesce(col(\"sr_facility_GHP_address_line_1\"),lit(\"\"))) \\\n",
    "        .withColumn(\"facility_GHP_address_line_2\",coalesce(col(\"sr_facility_GHP_address_line_2\"),lit(\"\"))) \\\n",
    "        .withColumn(\"facility_GHP_address_city\",coalesce(col(\"sr_facility_GHP_address_city\"),lit(\"\"))) \\\n",
    "        .withColumn(\"facility_GHP_address_state\",coalesce(col(\"sr_facility_GHP_address_state\"),lit(\"\"))) \\\n",
    "        .withColumn(\"facility_GHP_address_zipcode\",coalesce(col(\"sr_facility_GHP_address_zipcode\"),lit(\"\"))) \\\n",
    "        .withColumn(\"sr_facility_GHP_address\",concat(col(\"facility_GHP_address_line_1\"),lit(\",\"),col(\"facility_GHP_address_line_2\"),lit(\",\"),col(\"facility_GHP_address_city\"),lit(\",\"),col(\"facility_GHP_address_state\"),lit(\",\"),col(\"facility_GHP_address_zipcode\"))) \\\n",
    "        .withColumn(\"sr_facility_GHP_address\",regexp_replace(col(\"sr_facility_GHP_address\").cast(\"string\"),\"[^a-zA-Z0-9, ]\",\"\")) \\\n",
    "        .withColumn(\"temp_facility_id\", when((col(\"facility_providerType\") == lit(\"G\")) & (col(\"performing_providerType\") != lit(\"G\")),col(\"sr_facility_GHP_Id\")).otherwise(lit(None))) \\\n",
    "        .withColumn(\"temp_facility_notes\",when(col(\"temp_facility_id\").isNotNull(), \\\n",
    "                                               concat(col(\"sr_facility_GHP_name\"),lit(\";\"),lit(\"TIN: \"),col(\"sr_facility_GHP_tin\"),lit(\";\"),col(\"sr_facility_GHP_address\").cast(\"string\"))) \\\n",
    "                    .otherwise(lit(\"\"))) \\\n",
    "        .withColumn(\"sr_claimspaymentnote\", regexp_replace(col(\"sr_claimspaymentnote\"), \"\\n\", \" \")) \\\n",
    "        .withColumn(\"sr_claimspaymentnote\", regexp_replace(col(\"sr_claimspaymentnote\"), \"  \", \" \")) \\\n",
    "        .withColumn(\"GHP_additional_notes_line_1\",substring(\"sr_claimspaymentnote\",0,69)) \\\n",
    "        .withColumn(\"GHP_additional_notes_line_2\",substring(\"sr_claimspaymentnote\",70,139)) \\\n",
    "        .withColumn(\"GHP_additional_notes_line_3\",substring(\"sr_claimspaymentnote\",140,209)) \\\n",
    "        .withColumn(\"GHP_additional_notes_line_4\",when(col(\"temp_facility_id\").isNotNull(),concat_ws(\": \", lit(\"Srv_Prv_ID\"),col(\"sr_facility_GHP_Id\")))) \\\n",
    "        .withColumn(\"GHP_additional_notes_line_5\",substring(\"temp_facility_notes\",0,69)) \\\n",
    "        .withColumn(\"GHP_additional_notes_line_6\",substring(\"temp_facility_notes\",70,139)) \\\n",
    "        .withColumn(\"GHP_additional_notes_line_7\",when(col(\"sr_is_authorization\") == \"N\",col(\"sr_id\")).otherwise(lit(None))) \\\n",
    "        .withColumn(\"GHP_is_authorization\",col(\"sr_is_authorization\")) \\\n",
    "        .withColumn(\"GHP_max_hoodie_commit_time\", to_timestamp(col(\"sr_max_commit_time\"),\"yyyyMMddHHmmssSSS\")) \\\n",
    "        .withColumn(\"GHP_auth_last_updated\", to_timestamp(col(\"sr_lastupdated\")))\n",
    "\n",
    "    '''\n",
    "    Selecting the relevant fields for the final file output \n",
    "    '''\n",
    "    final_df = final_df.select(final_df.colRegex(\"`(GHP)+?.+`\"))\n",
    "\n",
    "    return final_df\n",
    "\n",
    "\n",
    "def update_auth_status(final_df):\n",
    "    '''\n",
    "    Updating the Auth status based on units\n",
    "    '''\n",
    "    final_df = final_df.withColumn(\"GHP_service_status\",\n",
    "                                   when((~col(\"GHP_service_status\").isin(\"withdrawn\", \"voided\", \"dismissed\")), \\\n",
    "                                        when(coalesce(col(\"GHP_units_approved\").cast(\"Integer\"), lit(\"0\")) == lit(\"0\"),\n",
    "                                             lit(\"denied\")) \\\n",
    "                                        .otherwise(when((col(\"GHP_units_requested\").cast(\"Integer\") > col(\n",
    "                                            \"GHP_units_approved\").cast(\"Integer\")),\n",
    "                                                        lit(\"partially_approved\")).otherwise(lit(\"approved\")))) \\\n",
    "                                   .otherwise(col(\"GHP_service_status\")))\n",
    "\n",
    "    return final_df\n",
    "\n",
    "\n",
    "def update_end_date(final_df):\n",
    "    '''\n",
    "    Updating the end date(when blank) to be 90 days plus the service start date and if that 90 days goes over to next year, fill the date with 12/31/year\n",
    "    else keep the original end date\n",
    "    '''\n",
    "    final_df = final_df.withColumn(\"tmp_end_date\", date_add(\n",
    "        date_format(to_date(col(\"GHP_from_or_low_service_date\"), \"yyyyMMdd\"), \"yyyy-MM-dd\"), 90)) \\\n",
    "        .withColumn(\"current_year\", year(current_date())) \\\n",
    "        .withColumn(\"year_end_date\", concat_ws(\"-\", col(\"current_year\"), lit(\"12\"), lit(\"31\"))) \\\n",
    "        .withColumn(\"end_date\", when(col(\"tmp_end_date\") > col(\"year_end_date\"), col(\"year_end_date\")).otherwise(\n",
    "        col(\"tmp_end_date\"))) \\\n",
    "        .withColumn(\"end_date\", date_format(col(\"end_date\"), \"yyyyMMdd\")) \\\n",
    "        .withColumn(\"GHP_to_or_high_service_date\", when(col(\"GHP_to_or_high_service_date\").isNull(), col(\"end_date\")) \\\n",
    "                    .otherwise(col(\"GHP_to_or_high_service_date\"))) \\\n",
    "        .drop(\"tmp_end_date\", \"current_year\", \"year_end_date\", \"end_date\")\n",
    "\n",
    "    return final_df\n",
    "\n",
    "\n",
    "def update_lookup_data(final_df, request_type, entry_method, service_group_id, referral_type, service_status, inpatient_referral_type):\n",
    "    '''\n",
    "    Using the lookup files to convert Cohere values to GHP values\n",
    "    '''\n",
    "\n",
    "    final_df = final_df.join(request_type, col(\"GHP_request_type\") == col(\"Cohere_request_type_lookup\"), \"left\") \\\n",
    "        .withColumn(\"GHP_request_type\", col(\"GHP_request_type_lookup\")) \\\n",
    "        .drop(\"Cohere_request_type_lookup\", \"GHP_request_type_lookup\") \\\n",
    "        .join(service_status, col(\"GHP_service_status\") == col(\"Cohere_service_status_code_lookup\"), \"left\") \\\n",
    "        .withColumn(\"GHP_service_status\", col(\"GHP_service_status_code_lookup\")) \\\n",
    "        .drop(\"Cohere_service_status_code_lookup\", \"GHP_service_status_code_lookup\") \\\n",
    "        .join(entry_method, col(\"GHP_entry_method\") == col(\"Cohere_entry_method_code_lookup\"), \"left\") \\\n",
    "        .withColumn(\"GHP_entry_method\", col(\"GHP_entry_method_code_lookup\")) \\\n",
    "        .drop(\"Cohere_entry_method_code_lookup\", \"GHP_entry_method_code_lookup\") \\\n",
    "        .join(referral_type, col(\"GHP_referral_type\") == col(\"Cohere_referral_service_name_lookup\"), \"left\") \\\n",
    "        .withColumn(\"GHP_referral_type\", when(col(\"GHP_request_type\") == \"I\", col(\"GHP_referral_type\")).when(col(\"GHP_referral_type_lookup\").isNotNull(),col(\"GHP_referral_type_lookup\")).otherwise(lit(\"DC\"))) \\\n",
    "        .drop(\"Cohere_referral_service_name_lookup\", \"GHP_referral_type_lookup\") \\\n",
    "        .join(inpatient_referral_type, col(\"GHP_referral_type\") == col(\"Cohere_auth_category\"), \"left\") \\\n",
    "        .withColumn(\"GHP_referral_type\", when(col(\"GHP_request_type\") == \"I\", col(\"GHP_inpatient_referral_type_lookup\")).otherwise(col(\"GHP_referral_type\"))) \\\n",
    "        .drop(\"Cohere_auth_category\", \"GHP_inpatient_referral_type_lookup\")\n",
    "\n",
    "    return final_df\n",
    "\n",
    "\n",
    "def filter_duplicate_auths_and_update_authorization_type(final_df, data_sent_to_ghp, cohereids=()):\n",
    "    '''\n",
    "    when running backfills for hudi job/migration for updating or adding fields in SR, service request data gets updated. This can lead to sending False(fields not used in integration job) updates to GHP\n",
    "    The below code, unions the data already sent to GHP, partition on some fields and then duplicates(count more than 1) are filtered.\n",
    "    If any data element for a record is changed the count of that record should be 1 and then we should only pull the latest record based on GHP_vendor_authorization_number\n",
    "    '''\n",
    "\n",
    "    groupbyfields = ['GHP_vendor_authorization_number', 'GHP_subscriber_number', 'GHP_member_number',\n",
    "                         'GHP_from_or_low_service_date', 'GHP_to_or_high_service_date', 'GHP_service_group_id',\n",
    "                         'GHP_procedure_code', 'GHP_units_requested', 'GHP_units_approved', \\\n",
    "                         'GHP_service_status', 'GHP_requesting_provider_id', 'GHP_servicing_facility_id',\n",
    "                         'GHP_servicing_facility_name', 'GHP_authorized_place_of_service', 'GHP_requested_place_of_service', \\\n",
    "                         'GHP_servicing_provider_id', 'GHP_servicing_provider_full_name', 'GHP_servicing_provider_tax_id',\n",
    "                         'GHP_referring_provider_id', 'GHP_referring_provider_full_name', 'GHP_referring_provider_tax_id',\n",
    "                         'GHP_attending_provider_id', 'GHP_entry_method', 'GHP_referral_type', \\\n",
    "                         'GHP_service_status_reason', 'GHP_additional_notes_line_1', 'GHP_additional_notes_line_2',\n",
    "                         'GHP_additional_notes_line_3', 'GHP_additional_notes_line_4',\n",
    "                         'GHP_requested_admission_date', 'GHP_authorized_admission_date', 'GHP_actual_admission_date',\n",
    "                         'GHP_discharge_expected_date_and_time', 'GHP_actual_expected_date_and_time', 'GHP_review_date',\n",
    "                         'GHP_concurrent_reviewed_treatment_type', 'GHP_concurrent_reviewed_length_of_stay_requested',\n",
    "                         'GHP_concurrent_reviewed_length_of_stay_authorized', 'GHP_referral_type', 'GHP_requested_length_of_stay',\n",
    "                         'GHP_authorized_length_of_stay', 'GHP_allowed_days_length_of_stay', 'GHP_total_length_of_stay_requested',\n",
    "                         'GHP_total_length_of_stay_authorized'\n",
    "                    ]\n",
    "\n",
    "    data_sent_to_ghp = data_sent_to_ghp \\\n",
    "        .withColumn(\"GHP_units_authorized\",\n",
    "                    when(col(\"GHP_service_status\") == 'CL', None).otherwise(col(\"GHP_units_authorized\"))) \\\n",
    "        .withColumn(\"GHP_units_approved\",\n",
    "                    when(col(\"GHP_service_status\") == 'CL', None).otherwise(col(\"GHP_units_approved\")))\n",
    "\n",
    "    final_df = final_df \\\n",
    "        .withColumn(\"GHP_units_authorized\",\n",
    "                    when(col(\"GHP_service_status\") == 'CL', None).otherwise(col(\"GHP_units_authorized\"))) \\\n",
    "        .withColumn(\"GHP_units_approved\",\n",
    "                    when(col(\"GHP_service_status\") == 'CL', None).otherwise(col(\"GHP_units_approved\")))\n",
    "\n",
    "    # col(\"GHP_auth_hoodie_commit_time\") == col(\"GHP_max_hoodie_commit_time\") check is necessary because\n",
    "    # the hudi pipeline and this job can be running at the same time (exactly at 5 PM). When that happens, this job would\n",
    "    # not pick up all the Authorizations with the same hoodie_commit_time for the day. In the next day,\n",
    "    # col(\"GHP_auth_last_updated\") >= col(\"GHP_max_hoodie_commit_time\") would return false for the unprocessed Authorizations.\n",
    "    # Hence we need this additional check.\n",
    "    final_df_1 = final_df.withColumn(\"already_sent_data_indicator\", lit(\"N\")).unionByName(\n",
    "        data_sent_to_ghp.withColumn(\"already_sent_data_indicator\", lit(\"Y\")), allowMissingColumns=True) \\\n",
    "        .withColumn(\"count_auths\",\n",
    "                    count(\"GHP_vendor_authorization_number\").over(Window.partitionBy(groupbyfields).orderBy())) \\\n",
    "        .withColumn(\"dense_ranking\", dense_rank().over(\n",
    "        Window.partitionBy(\"GHP_vendor_authorization_number\").orderBy(desc(\"GHP_auth_hoodie_commit_time\")))) \\\n",
    "        .filter((col(\"GHP_Authorization_IntegrationStatus\") == lit(\"READY\")) | (col(\"GHP_vendor_authorization_number\").isin(list(cohereids))) | (col(\"GHP_auth_hoodie_commit_time\") == col(\"GHP_max_hoodie_commit_time\")) | ((col(\"count_auths\") == lit(\"1\")) & (col(\"dense_ranking\") == lit(\"1\")) & ( \\\n",
    "            col(\"already_sent_data_indicator\") == lit(\"N\")) & (col(\"GHP_auth_last_updated\") >= col(\"GHP_max_hoodie_commit_time\"))))\n",
    "\n",
    "    sent_data = data_sent_to_ghp.select(\"GHP_vendor_authorization_number\").withColumnRenamed(\n",
    "        \"GHP_vendor_authorization_number\", \"sent_GHP_vendor_authorization_number\").distinct()\n",
    "\n",
    "    final_df_2 = final_df_1.join(sent_data,\n",
    "                                 final_df_1.GHP_vendor_authorization_number == sent_data.sent_GHP_vendor_authorization_number,\n",
    "                                 \"left\") \\\n",
    "        .withColumn(\"GHP_authorization_type\",\n",
    "                    when(col(\"sent_GHP_vendor_authorization_number\").isNull(), lit(\"N\")).otherwise(lit(\"U\"))) \\\n",
    "        .drop(\"count_auths\", \"sent_GHP_vendor_authorization_number\", \"dense_ranking\", \"already_sent_data_indicator\")\n",
    "\n",
    "    return final_df_2\n",
    "\n",
    "def should_remove_from_authfile(referral_type, service_status, approved_units, actual_admission_date):\n",
    "    return (~referral_type.isin('PR', 'TP')) & ((approved_units == \"0\")) & (is_column_empty(actual_admission_date))\n",
    "\n",
    "def update_inpatient_authorization_type(df):\n",
    "    df = df.filter((df.GHP_request_type == \"I\") & (~should_remove_from_authfile(df.GHP_referral_type, df.GHP_service_status, df.GHP_units_approved, df.GHP_actual_admission_date))).withColumn(\n",
    "        \"prev_GHP_ServiceRequest_ReviewDate\",\n",
    "        lag(col(\"GHP_ServiceRequest_ReviewDate\")).over(Window.partitionBy(\"GHP_vendor_authorization_number\").orderBy(\"GHP_ServiceRequest_ReviewDate\"))\n",
    "    ).withColumn(\"GHP_authorization_type\",\n",
    "        when(col(\"GHP_ServiceRequest_ReviewDate\") > col(\"prev_GHP_ServiceRequest_ReviewDate\"), \"U\").otherwise(col(\"GHP_authorization_type\"))\n",
    "    ).orderBy(\n",
    "        desc(\"GHP_ServiceRequest_ReviewDate\")\n",
    "    ).drop(\n",
    "        \"prev_GHP_ServiceRequest_ReviewDate\"\n",
    "    ).union(\n",
    "        df.filter(df.GHP_request_type == \"O\")\n",
    "    )\n",
    "    return df\n",
    "\n",
    "def filter_new_voided_auths(final_df):\n",
    "    '''\n",
    "    If an auth on creation is voided, dismissed or withdrawn, it does not need to be sent to GHP\n",
    "    '''\n",
    "    final_df = final_df.filter(\n",
    "        ~((col(\"GHP_service_status\") == lit(\"CL\")) & (col(\"GHP_authorization_type\") == lit(\"N\"))))\n",
    "\n",
    "    return final_df\n",
    "\n",
    "\n",
    "def update_units_on_voided_auths(final_df):\n",
    "    '''\n",
    "    Updating the units to 0 when the auth status is in voided, withdrawm and dismissed(CL)\n",
    "    '''\n",
    "    final_df = final_df.withColumn(\"GHP_units_authorized\",\n",
    "                                   when(col(\"GHP_service_status\") == lit(\"CL\"), lit(\"\")).otherwise(\n",
    "                                       col(\"GHP_units_authorized\"))) \\\n",
    "        .withColumn(\"GHP_units_approved\",\n",
    "                    when(col(\"GHP_service_status\") == lit(\"CL\"), lit(\"\")).otherwise(col(\"GHP_units_approved\")))\n",
    "\n",
    "    return final_df\n",
    "\n",
    "\n",
    "def fetch_old_sr_id_from_serviceRequestRelation(final_df):\n",
    "    '''\n",
    "    When auths are void and replace, we need to get the relation between new and old auth\n",
    "    '''\n",
    "    final_df = final_df.join(service_request_relation,\n",
    "                             final_df.GHP_additional_notes_line_7 == service_request_relation.servicerequestrelation_to,\n",
    "                             \"left\") \\\n",
    "        .withColumn(\"old_sr_id\", col(\"servicerequestrelation_from\")) \\\n",
    "        .drop(\"servicerequestrelation_from\", \"servicerequestrelation_to\")\n",
    "\n",
    "    return final_df\n",
    "\n",
    "\n",
    "def fetch_old_auth_number_from_service_request(final_df):\n",
    "    '''\n",
    "    Find the cohereID based on the sr_id\n",
    "    '''\n",
    "    final_df = final_df.join(sr.select(\"sr_id\", \"sr_cohereid\").distinct(), final_df.old_sr_id == sr.sr_id, \"left\") \\\n",
    "        .withColumn(\"old_auth_id\", col(\"sr_cohereid\")) \\\n",
    "        .drop(\"sr_id\", \"sr_cohereid\")\n",
    "\n",
    "    return final_df\n",
    "\n",
    "\n",
    "def update_authorization_type(final_df, data_sent_to_ghp):\n",
    "    '''\n",
    "    An auth type of 'R' and old auth Id needs to be sent for an old auth(duplicate/got voided and replaced)\n",
    "    '''\n",
    "    data_sent_to_ghp = data_sent_to_ghp.select(\"GHP_vendor_authorization_number\").withColumnRenamed(\n",
    "        \"GHP_vendor_authorization_number\", \"sent_GHP_vendor_authorization_number\").distinct()\n",
    "\n",
    "    final_df = final_df.join(data_sent_to_ghp,\n",
    "                             final_df.old_auth_id == data_sent_to_ghp.sent_GHP_vendor_authorization_number, \"left\") \\\n",
    "        .withColumn(\"GHP_additional_notes_line_7\", when(col(\"sent_GHP_vendor_authorization_number\").isNotNull(),\n",
    "                                                        concat(lit(\"old_auth_id: \"), col(\"old_auth_id\"))).otherwise(\n",
    "        lit(None))) \\\n",
    "        .withColumn(\"GHP_authorization_type\",\n",
    "                    when(col(\"sent_GHP_vendor_authorization_number\").isNotNull(), lit(\"R\")).otherwise(\n",
    "                        lit(col(\"GHP_authorization_type\")))) \\\n",
    "        .drop(\"old_auth_id\", \"old_sr_id\", \"sent_GHP_vendor_authorization_number\")\n",
    "\n",
    "    return final_df\n",
    "\n",
    "\n",
    "def fetch_data_sent_to_ghp(db):\n",
    "    '''\n",
    "   Fetches all distinct Auths previously sent to GHP, picking the latest one sent\n",
    "   '''\n",
    "\n",
    "    table_name = f'{db}.ghp_auth_file_integration_qc'\n",
    "\n",
    "    data_sent_to_ghp = spark.sql(\n",
    "        f\"\"\"\n",
    "    select distinct ghp_assigned_vendor_code,ghp_vendor_authorization_number,ghp_record_type,ghp_request_type,ghp_subscriber_number\\\n",
    "    ,ghp_member_number,ghp_type_of_care_indicator,ghp_service_category,ghp_service_recieved_date,ghp_from_or_low_service_date\\\n",
    "    ,ghp_to_or_high_service_date,ghp_service_group_id,ghp_procedure_code,ghp_primary_diagnosis_code,ghp_units_requested,ghp_units_authorized\\\n",
    "    ,ghp_units_approved,ghp_service_status,ghp_service_deny_date,ghp_requesting_provider_id,ghp_servicing_facility_id,ghp_servicing_facility_name\\\n",
    "    ,ghp_authorized_place_of_service,ghp_requested_place_of_service,ghp_servicing_provider_id,ghp_servicing_provider_full_name,\\\n",
    "    ghp_servicing_provider_tax_id,ghp_referring_provider_id,ghp_referring_provider_full_name,ghp_referring_provider_tax_id,ghp_attending_provider_id\\\n",
    "    ,ghp_authorization_type,ghp_entry_method,ghp_procedure_code_modifier,ghp_total_length_of_stay_requested,ghp_total_length_of_stay_authorized\\\n",
    "    ,ghp_requested_admission_date,ghp_authorized_admission_date,ghp_actual_admission_date,ghp_discharge_expected_date_and_time,ghp_actual_expected_date_and_time\\\n",
    "    ,ghp_review_date,ghp_concurrent_reviewed_treatment_type,ghp_concurrent_reviewed_length_of_stay_requested,ghp_concurrent_reviewed_length_of_stay_authorized\\\n",
    "    ,ghp_requested_length_of_stay,ghp_authorized_length_of_stay,ghp_allowed_days_length_of_stay,ghp_referral_type,ghp_service_status_reason\\\n",
    "    ,ghp_auth_hoodie_commit_time,ghp_additional_notes_line_1,ghp_additional_notes_line_2,ghp_additional_notes_line_3,ghp_additional_notes_line_4\\\n",
    "    ,ghp_additional_notes_line_5,ghp_additional_notes_line_6,ghp_additional_notes_line_7,ghp_is_authorization,year,month,day,hour\\\n",
    "    from {table_name} \n",
    "    \"\"\")\n",
    "    data_sent_to_ghp = data_sent_to_ghp.withColumn(\"dense_ranking\",dense_rank().over(Window.partitionBy(\"GHP_vendor_authorization_number\"). \\\n",
    "                                                                                  orderBy(desc(\"GHP_auth_hoodie_commit_time\"),desc(\"year\"),desc(\"month\"),desc(\"day\"),desc(\"hour\")))) \\\n",
    "        .filter(col(\"dense_ranking\") == lit(\"1\")) \\\n",
    "        .drop(\"dense_ranking\",\"year\",\"month\",\"day\",\"hour\")\n",
    "\n",
    "    print(f\"Returned {data_sent_to_ghp.count()} distinct data_sent_to_ghp records\")\n",
    "    return data_sent_to_ghp\n",
    "\n",
    "def update_service_deny_date(df): \n",
    "    update_service_deny_date = df.withColumn(\"GHP_service_deny_date\", when(col(\"GHP_service_status\") == \"DS\", col(\"GHP_service_deny_date\")).otherwise(lit(\"\"))) \\\n",
    "    .withColumn(\"GHP_service_status_reason\", when((col(\"GHP_service_status\") == \"CO\") & (col(\"GHP_service_status_reason\").isin(\"8M00\", \"DN00\")), lit(\"\")).otherwise(col(\"GHP_service_status_reason\")))\n",
    "    return update_service_deny_date\n",
    "\n",
    "def update_inpatient_service_status_reason(df):\n",
    "    return df.withColumn(\"GHP_service_status_reason\", when((df.GHP_request_type == \"I\") & (df.GHP_service_status == \"DS\") & (df.GHP_units_approved == \"0\") & (is_column_empty(df.GHP_actual_admission_date)), \"REA9\").otherwise(col(\"GHP_service_status_reason\")))\n",
    "\n",
    "def accumulate_inpatient_length_of_stay(df, data_sent_to_ghp):\n",
    "    sent_request_days = data_sent_to_ghp.select(\"GHP_vendor_authorization_number\", \"GHP_total_length_of_stay_requested\") \\\n",
    "        .withColumn(\"rank\", rank().over(Window.partitionBy(\"GHP_vendor_authorization_number\").orderBy(desc(\"GHP_total_length_of_stay_requested\")))) \\\n",
    "        .filter(col(\"rank\") == 1).drop(\"rank\").dropDuplicates(subset=[\"GHP_vendor_authorization_number\"])\n",
    "    sent_authorized_days = data_sent_to_ghp.select(\"GHP_vendor_authorization_number\", \"GHP_total_length_of_stay_authorized\") \\\n",
    "        .withColumn(\"rank\", rank().over(Window.partitionBy(\"GHP_vendor_authorization_number\").orderBy(desc(\"GHP_total_length_of_stay_authorized\")))) \\\n",
    "        .filter(col(\"rank\") == 1).drop(\"rank\").dropDuplicates(subset=[\"GHP_vendor_authorization_number\"])\n",
    "\n",
    "    return df.withColumn(\"GHP_total_length_of_stay_requested_sum\", sum(col(\"GHP_total_length_of_stay_requested\")).over(Window.partitionBy(\"GHP_vendor_authorization_number\").orderBy(\"GHP_ServiceRequest_ReviewDate\"))) \\\n",
    "        .withColumn(\"GHP_total_length_of_stay_authorized_sum\", sum(col(\"GHP_total_length_of_stay_authorized\")).over(Window.partitionBy(\"GHP_vendor_authorization_number\").orderBy(\"GHP_ServiceRequest_ReviewDate\"))) \\\n",
    "        .join(sent_request_days.withColumnRenamed(\"GHP_total_length_of_stay_requested\", \"other_GHP_total_length_of_stay_requested\"), on=\"GHP_vendor_authorization_number\", how=\"left\") \\\n",
    "        .withColumn(\"GHP_total_length_of_stay_requested_sum\", coalesce(col(\"GHP_total_length_of_stay_requested_sum\") + col(\"other_GHP_total_length_of_stay_requested\"), col(\"GHP_total_length_of_stay_requested_sum\"))) \\\n",
    "        .join(sent_authorized_days.withColumnRenamed(\"GHP_total_length_of_stay_authorized\", \"other_GHP_total_length_of_stay_authorized\"), on=\"GHP_vendor_authorization_number\", how=\"left\") \\\n",
    "        .withColumn(\"GHP_total_length_of_stay_authorized_sum\", coalesce(col(\"GHP_total_length_of_stay_authorized_sum\") + col(\"other_GHP_total_length_of_stay_authorized\"), col(\"GHP_total_length_of_stay_authorized_sum\"))) \\\n",
    "        .withColumn(\"GHP_total_length_of_stay_requested\", col(\"GHP_total_length_of_stay_requested_sum\")) \\\n",
    "        .withColumn(\"GHP_total_length_of_stay_authorized\", col(\"GHP_total_length_of_stay_authorized_sum\")) \\\n",
    "        .withColumn(\"GHP_total_length_of_stay_requested\", coalesce(col(\"GHP_total_length_of_stay_requested_sum\").cast(\"int\"), lit(\"\"))) \\\n",
    "        .withColumn(\"GHP_total_length_of_stay_authorized\", coalesce(col(\"GHP_total_length_of_stay_authorized_sum\").cast(\"int\"), lit(\"\"))) \\\n",
    "        .withColumn(\"GHP_requested_length_of_stay\", col(\"GHP_total_length_of_stay_requested\")) \\\n",
    "        .drop(\"GHP_total_length_of_stay_requested_sum\", \"GHP_total_length_of_stay_authorized_sum\", \"other_GHP_total_length_of_stay_requested\", \"other_GHP_total_length_of_stay_authorized\")\n",
    "\n",
    "def update_inpatient_service_group_ids(df):\n",
    "    df = df.drop(\"GHP_Authorization_IntegrationStatus\")\n",
    "    ghp_fields = ['GHP_ServiceRequest_ReviewDate', 'GHP_assigned_vendor_code', 'GHP_vendor_authorization_number', 'GHP_record_type', 'GHP_request_type', 'GHP_subscriber_number', 'GHP_member_number', 'GHP_type_of_care_indicator', 'GHP_service_category', 'GHP_service_recieved_date', 'GHP_from_or_low_service_date', 'GHP_to_or_high_service_date', 'GHP_service_group_id', 'GHP_procedure_code', 'GHP_primary_diagnosis_code', 'GHP_units_requested', 'GHP_units_authorized', 'GHP_units_approved', 'GHP_service_status', 'GHP_service_deny_date', 'GHP_requesting_provider_id', 'GHP_servicing_facility_id', 'GHP_servicing_facility_name', 'GHP_authorized_place_of_service', 'GHP_requested_place_of_service', 'GHP_servicing_provider_id', 'GHP_servicing_provider_full_name', 'GHP_servicing_provider_tax_id', 'GHP_referring_provider_id', 'GHP_referring_provider_full_name', 'GHP_referring_provider_tax_id', 'GHP_attending_provider_id', 'GHP_authorization_type', 'GHP_entry_method', 'GHP_procedure_code_modifier', 'GHP_total_length_of_stay_requested', 'GHP_total_length_of_stay_authorized', 'GHP_requested_admission_date', 'GHP_authorized_admission_date', 'GHP_actual_admission_date', 'GHP_discharge_expected_date_and_time', 'GHP_actual_expected_date_and_time', 'GHP_review_date', 'GHP_concurrent_reviewed_treatment_type', 'GHP_concurrent_reviewed_length_of_stay_requested', 'GHP_concurrent_reviewed_length_of_stay_authorized', 'GHP_requested_length_of_stay', 'GHP_authorized_length_of_stay', 'GHP_allowed_days_length_of_stay', 'GHP_referral_type', 'GHP_service_status_reason', 'GHP_auth_hoodie_commit_time', 'GHP_additional_notes_line_1', 'GHP_additional_notes_line_2', 'GHP_additional_notes_line_3', 'GHP_additional_notes_line_4', 'GHP_additional_notes_line_5', 'GHP_additional_notes_line_6', 'GHP_additional_notes_line_7', 'GHP_is_authorization', 'GHP_max_hoodie_commit_time', 'GHP_auth_last_updated']\n",
    "    outpatient_rows = df.filter(df.GHP_request_type == \"O\").drop(\"GHP_service_group_id_array\").select(*ghp_fields)\n",
    "    inpatient_rows = df.filter(df.GHP_request_type == \"I\")\n",
    "    inpatient_rows_with_procedure_codes = inpatient_rows.drop(\"GHP_service_group_id_array\").filter(is_column_populated(inpatient_rows.GHP_procedure_code)).withColumn(\"GHP_service_group_id\", lit(\"\")).select(*ghp_fields)\n",
    "\n",
    "    return inpatient_rows.drop(\"GHP_service_group_id\")\\\n",
    "        .withColumn(\"GHP_service_group_id\", explode(\"GHP_service_group_id_array\"))\\\n",
    "        .drop(\"GHP_service_group_id_array\")\\\n",
    "        .withColumn(\"GHP_procedure_code\", lit(\"\"))\\\n",
    "        .select(*ghp_fields)\\\n",
    "        .unionByName(inpatient_rows_with_procedure_codes)\\\n",
    "        .orderBy(col(\"GHP_vendor_authorization_number\"), col(\"GHP_ServiceRequest_ReviewDate\"))\\\n",
    "        .unionByName(outpatient_rows)\\\n",
    "        .drop(\"GHP_ServiceRequest_ReviewDate\")\n",
    "\n",
    "def update_inpatient_length_of_stay(df):\n",
    "    inpatient_service_group_ids = [\"IPAH\", \"IPAP\", \"SNFH\", \"SNFP\"]\n",
    "    concurrent_service_group_ids = [\"IPAH\", \"SNFH\"]\n",
    "    return df.withColumn(\"GHP_total_length_of_stay_requested\", when(~df.GHP_service_group_id.isin(inpatient_service_group_ids), lit(\"\")).otherwise(df.GHP_total_length_of_stay_requested))\\\n",
    "        .withColumn(\"GHP_total_length_of_stay_authorized\", when(~df.GHP_service_group_id.isin(inpatient_service_group_ids), lit(\"\")).otherwise(df.GHP_total_length_of_stay_authorized))\\\n",
    "        .withColumn(\"GHP_requested_length_of_stay\", when(~df.GHP_service_group_id.isin(inpatient_service_group_ids), lit(\"\")).otherwise(df.GHP_requested_length_of_stay))\\\n",
    "        .withColumn(\"GHP_authorized_length_of_stay\", when(~df.GHP_service_group_id.isin(inpatient_service_group_ids), lit(\"\")).otherwise(df.GHP_authorized_length_of_stay))\\\n",
    "        .withColumn(\"GHP_allowed_days_length_of_stay\", when(~df.GHP_service_group_id.isin(inpatient_service_group_ids), lit(\"\")).otherwise(df.GHP_allowed_days_length_of_stay))\\\n",
    "        .withColumn(\"GHP_concurrent_reviewed_treatment_type\", when(col(\"GHP_authorization_type\") == lit(\"U\"), col(\"GHP_concurrent_reviewed_treatment_type\")).otherwise(lit(\"\")))\\\n",
    "        .withColumn(\"GHP_concurrent_reviewed_length_of_stay_requested\", when(col(\"GHP_authorization_type\") == lit(\"U\"), col(\"GHP_concurrent_reviewed_length_of_stay_requested\")).otherwise(lit(\"\")))\\\n",
    "        .withColumn(\"GHP_concurrent_reviewed_length_of_stay_authorized\", when(col(\"GHP_authorization_type\") == lit(\"U\"), col(\"GHP_concurrent_reviewed_length_of_stay_authorized\")).otherwise(lit(\"\")))\\\n",
    "        .withColumn(\"GHP_review_date\", when(col(\"GHP_authorization_type\") == lit(\"U\") , col(\"GHP_review_date\")).otherwise(lit(\"\")))\\\n",
    "        .withColumn(\"GHP_discharge_expected_date_and_time\", when(((df.GHP_units_approved == \"0\")) & (is_column_empty(df.GHP_actual_admission_date)), lit(\"\")).otherwise(col(\"GHP_discharge_expected_date_and_time\")))\\\n",
    "        .withColumn(\"GHP_actual_expected_date_and_time\", col(\"GHP_discharge_expected_date_and_time\"))\n",
    "\n",
    "def update_planned_inpatients_to_outpatients(df):\n",
    "    return df.withColumn(\"sr_encounterType\", when((col(\"sr_encounterType\") == \"INPATIENT\") & (is_column_empty(col(\"sr_authCategory\"))), lit(\"OUTPATIENT\")).otherwise(col(\"sr_encounterType\")))\n",
    "\n",
    "# def create_athena_table(glue_table,final_output_df,qc_file_athena_table_key):\n",
    "\n",
    "#     print(f\"In athena {final_output_df.count()}\")\n",
    "#     '''Get All column names and it's types'''\n",
    "#     column_list=''\n",
    "#     for field in final_output_df.schema.fields:\n",
    "#         columns= \"`\"+field.name +\"`  \" +str(field.dataType) + \" , \"\n",
    "#         column_list+= columns\n",
    "#     column_list=column_list[0:-2]\n",
    "#     column_list=column_list.replace(\"StringType\", \"string\").replace(\"TimestampType\", \"Bigint\")\n",
    "\n",
    "#     '''drop the table if already created'''\n",
    "#     spark.sql(f\"drop table if exists {glue_table}\")\n",
    "\n",
    "#     '''create the table using the dataframe schema'''\n",
    "#     spark.sql(f\"CREATE EXTERNAL TABLE {glue_table} ({column_list}) PARTITIONED BY (year, month, day, hour) \\\n",
    "#         ROW FORMAT SERDE\\\n",
    "#       'org.apache.hadoop.hive.ql.io.parquet.serde.ParquetHiveSerDe' \\\n",
    "#         STORED AS INPUTFORMAT \\\n",
    "#       'org.apache.hadoop.hive.ql.io.parquet.MapredParquetInputFormat' \\\n",
    "#         OUTPUTFORMAT \\\n",
    "#       'org.apache.hadoop.hive.ql.io.parquet.MapredParquetOutputFormat'\\\n",
    "#       LOCATION \\\n",
    "#       '{qc_file_athena_table_key}'\");\n",
    "\n",
    "\n",
    "# def upload_file_to_s3(final_output_df,target_bucket_name,base_target_key_path,daily_path,file_date,file_time,glue_table):\n",
    "#     '''\n",
    "#     QC file in parquet format and Athena QC table\n",
    "#     '''\n",
    "#     qc_daily_path = f'year={file_date[0:4]}/month={file_date[4:6]}/day={file_date[6:8]}/hour={file_time[0:2]}'\n",
    "#     qc_file_target_key = f\"s3://{target_bucket_name}/{base_target_key_path}/qc/daily/{qc_daily_path}\"\n",
    "#     qc_file_athena_table_key = f\"s3://{target_bucket_name}/{base_target_key_path}/qc/daily/\"\n",
    "#     print(f\"Uploading Geisinger QC auth file to {qc_file_target_key}\")\n",
    "#     final_output_df = final_output_df.withColumn(\"year\",lit(f\"{file_date[0:4]}\")) \\\n",
    "#         .withColumn(\"month\",lit(f\"{file_date[4:6]}\")) \\\n",
    "#         .withColumn(\"day\",lit(f\"{file_date[6:8]}\")) \\\n",
    "#         .withColumn(\"hour\",lit(f\"{file_time[0:2]}\")) \\\n",
    "#         .withColumn(\"GHP_service_recieved_date\",lit(file_date))\n",
    "\n",
    "#     final_output_df.write.parquet(f\"{qc_file_target_key}\", mode=\"append\")\n",
    "\n",
    "#     final_output_df = final_output_df.localCheckpoint()\n",
    "\n",
    "#     print(f\"Wrote {final_output_df.count()} QC records\")\n",
    "\n",
    "#     '''\n",
    "#     Writing Daily File\n",
    "#     '''\n",
    "#     daily_file_target_key = f\"s3://{target_bucket_name}/{base_target_key_path}/raw/daily/{daily_path}\"\n",
    "#     print(f\"Uploading Geisinger auth file to {daily_file_target_key}\")\n",
    "#     final_output_df_1 = final_output_df.drop(\"GHP_auth_hoodie_commit_time\",\"year\",\"month\",\"day\",\"hour\",\"GHP_is_authorization\",\"GHP_max_hoodie_commit_time\",\"GHP_auth_last_updated\")\n",
    "#     final_output_df_1 = final_output_df_1.localCheckpoint()\n",
    "#     final_output_df_1.coalesce(1).write.option(\"header\", True) \\\n",
    "#         .option(\"delimiter\", \"|\") \\\n",
    "#         .option(\"header\", \"false\") \\\n",
    "#         .option(\"emptyValue\", None) \\\n",
    "#         .option(\"nullValue\", None) \\\n",
    "#         .mode(\"append\") \\\n",
    "#         .csv(f\"{daily_file_target_key}\")\n",
    "\n",
    "#     print(f\"Wrote {final_output_df_1.count()} outbound records\")\n",
    "\n",
    "#     '''\n",
    "#     Dropping and recreating the athena table\n",
    "#     '''\n",
    "\n",
    "#     create_athena_table(glue_table,final_output_df,qc_file_athena_table_key)\n",
    "#     print(\"Athena table created\")\n",
    "\n",
    "# def rename_daily_s3_file(target_bucket_name,base_target_key_path,daily_path, final_file_name):\n",
    "#     '''\n",
    "#     Renaming Daily File\n",
    "#     '''\n",
    "#     daily_file_target_key = f\"s3://{target_bucket_name}/{base_target_key_path}/raw/daily/{daily_path}\"\n",
    "#     hadoopPath = spark._jvm.org.apache.hadoop.fs.Path(f\"{daily_file_target_key}/*\")\n",
    "#     hadoopFs = hadoopPath.getFileSystem(spark._jvm.org.apache.hadoop.conf.Configuration())\n",
    "#     statuses = hadoopFs.globStatus(hadoopPath)\n",
    "#     file_name = [file.getPath().getName() for file in statuses if file.getPath().getName().startswith('part-')][0]\n",
    "#     print(file_name)\n",
    "#     hadoopFs.rename(spark._jvm.org.apache.hadoop.fs.Path(f\"{daily_file_target_key}/{file_name}\"), spark._jvm.org.apache.hadoop.fs.Path(f\"{daily_file_target_key}/{final_file_name}\"))\n",
    "#     print(\"File Renamed\")\n",
    "#     hadoopFs.delete(spark._jvm.org.apache.hadoop.fs.Path(f\"{daily_file_target_key}/_SUCCESS\"))\n",
    "#     print(\"Success File Deleted\")\n",
    "\n",
    "# def copy_daily_s3_file_for_encryption(base_target_key_path,daily_path, final_file_name, env ):\n",
    "#     '''\n",
    "#     Copying the file from Cohere-health-external-data to cohere-sftp/cryptography to encrpyt and send the file to GHP\n",
    "#     '''\n",
    "#     s3 = boto3.resource('s3')\n",
    "#     source_target_key_path = f\"{base_target_key_path}/raw/daily/{daily_path}\"\n",
    "#     encrypt_target_key_path = f\"cryptography/{env}/encrypt/geisinger/outbound\"\n",
    "#     copy_source = {\n",
    "#         'Bucket': 'cohere-health-external-data',\n",
    "#         'Key': f'{source_target_key_path}/{final_file_name}'\n",
    "#     }\n",
    "#     s3.meta.client.copy(copy_source, 'cohere-sftp', f'{encrypt_target_key_path}/{final_file_name}')\n",
    "#     print(f'{final_file_name} copied to cohere-sftp/{encrypt_target_key_path}/{final_file_name}')\n",
    "\n",
    "\n",
    "def filter_out_lines_with_procedure_code_and_service_group_id_empty(cw_client, env, df):\n",
    "    auths_without_pxcode_and_servicegroupid = df.filter((is_column_empty(df.GHP_service_group_id)) & (is_column_empty(df.GHP_procedure_code)))\n",
    "    if auths_without_pxcode_and_servicegroupid.count() > 0:\n",
    "        log_auths_without_pxcode_and_servicegroup(cw_client, auths_without_pxcode_and_servicegroupid, env)\n",
    "        df = df.exceptAll(auths_without_pxcode_and_servicegroupid)\n",
    "        print(\"Logging rows with both Service Group Id and Procedure Codes as Null\")\n",
    "        for row in auths_without_pxcode_and_servicegroupid.collect():\n",
    "            print(\"Authorization without service group and procedure code: \", row['GHP_vendor_authorization_number'])\n",
    "    return df\n",
    "\n",
    "\n",
    "def filter_out_lines_with_procedure_code_and_service_group_id_populated(cw_client, env, df):\n",
    "    rows_with_pxcode_and_servicegroupid = df.filter((is_column_populated(df.GHP_service_group_id)) & (is_column_populated(df.GHP_procedure_code)))\n",
    "    if rows_with_pxcode_and_servicegroupid.count() > 0:\n",
    "        log_auths_with_both_pxcode_and_servicegroup(cw_client, rows_with_pxcode_and_servicegroupid, env)\n",
    "        df = df.exceptAll(rows_with_pxcode_and_servicegroupid)\n",
    "        print(\"Logging rows with both Service Group Id and Procedure Codes populated\")\n",
    "        for row in rows_with_pxcode_and_servicegroupid.collect():\n",
    "            print(\"Authorization with both service group and procedure code: \", row['GHP_vendor_authorization_number'])\n",
    "    return df\n",
    "\n",
    "def filter_null_cohere_id_auths(auth, cw_client, env):\n",
    "    null_cohere_id_auths = auth.filter(is_column_empty(auth.sr_cohereid))\n",
    "    if null_cohere_id_auths.count() > 0:\n",
    "        auth = auth.filter(is_column_populated(auth.sr_cohereid))\n",
    "        log_authorizations_with_null_cohereId(cw_client, null_cohere_id_auths, env)\n",
    "        print(\"Logging authorizations with null cohereId\")\n",
    "        null_cohere_id_auths = null_cohere_id_auths.collect()\n",
    "        for row in null_cohere_id_auths:\n",
    "            print(\"Authorizations with null cohere Id: \", row['sr__id'])\n",
    "    return auth\n",
    "\n",
    "def mapping_environment(env):\n",
    "    db = \"analytics_dw_dev\"\n",
    "    ghp_prefix = \"geisinger-dev\"\n",
    "    if env == 'prod':\n",
    "        db = \"analytics_dw\"\n",
    "        ghp_prefix = \"geisinger\"\n",
    "    elif env == 'uat':\n",
    "        db = \"analytics_dw_uat\"\n",
    "        ghp_prefix = \"geisinger-uat\"\n",
    "    elif env == 'preprod':\n",
    "        db = \"analytics_dw_preprod\"\n",
    "        ghp_prefix = \"geisinger-preprod\"\n",
    "\n",
    "    return db, ghp_prefix\n",
    "\n",
    "\n",
    "def create_cloudwatch_client(aws_region):\n",
    "    return boto3.client('cloudwatch', aws_region)"
   ]
  },
  {
   "cell_type": "code",
   "execution_count": 9,
   "metadata": {
    "execution": {
     "iopub.execute_input": "2023-09-17T22:57:19.048984Z",
     "iopub.status.busy": "2023-09-17T22:57:19.048814Z",
     "iopub.status.idle": "2023-09-17T23:23:10.871644Z",
     "shell.execute_reply": "2023-09-17T23:23:10.871137Z",
     "shell.execute_reply.started": "2023-09-17T22:57:19.048962Z"
    },
    "tags": []
   },
   "outputs": [
    {
     "data": {
      "application/vnd.jupyter.widget-view+json": {
       "model_id": "12e0b81032b144cebbae9d84b3430fc7",
       "version_major": 2,
       "version_minor": 0
      },
      "text/plain": [
       "VBox()"
      ]
     },
     "metadata": {},
     "output_type": "display_data"
    },
    {
     "data": {
      "application/vnd.jupyter.widget-view+json": {
       "model_id": "",
       "version_major": 2,
       "version_minor": 0
      },
      "text/plain": [
       "FloatProgress(value=0.0, bar_style='info', description='Progress:', layout=Layout(height='25px', width='50%'),…"
      ]
     },
     "metadata": {},
     "output_type": "display_data"
    },
    {
     "name": "stdout",
     "output_type": "stream",
     "text": [
      "Env: prod\n",
      "Run type: Incremental\n",
      "latest provider file name : payer/geisinger/providers/2023/09/17/GHP_Cohere_Provider_20230917170907.txt\n",
      "max_commit_time data returned\n",
      "Adding prefix to max\n",
      "Max commit time of previous Job: 20230911193230673 for service requests and 20230917203142208 for authorizations\n",
      "Adding prefix to sr\n",
      "Adding prefix to sr\n",
      "service_request data returned\n",
      "Adding prefix to sr\n",
      "authorization data returned\n",
      "Adding prefix to sr\n",
      "authorization data returned\n",
      "Adding prefix to dc\n",
      "dateCreated data returned\n",
      "Returned 55 place of service records\n",
      "Adding prefix to pos\n",
      "Adding prefix to patient\n",
      "Returned 3094818 patient records\n",
      "Returned 1 health_plan_name records\n",
      "Adding prefix to health_plan_name\n",
      "Returned 2861 clinicalservice records\n",
      "Adding prefix to clinicalservice\n",
      "Returned 1778 servicerequestrelation records\n",
      "Adding prefix to servicerequestrelation\n",
      "Returned 92881 distinct data_sent_to_ghp records\n",
      "Job successful"
     ]
    }
   ],
   "source": [
    "if True:\n",
    "\n",
    "    AWS_REGION = \"us-east-2\"\n",
    "    cw_client = create_cloudwatch_client(AWS_REGION)\n",
    "    env = 'prod'\n",
    "    refresh_type = 'Incremental'\n",
    "    authFileUpdateHardLimit = 300\n",
    "    cohereids = ('GTMS5443', 'FHXH4406', 'GTRQ2979', 'MYCQ2154')\n",
    "#     if sys.argv[1] != \"{}\":\n",
    "#         paraDict = json.loads(sys.argv[1])\n",
    "#         for i in paraDict:\n",
    "#             if i == \"env\":\n",
    "#                 env = paraDict[i]  ## have to passed as \"env\":\"dev\" ##\n",
    "\n",
    "#             elif i == \"refresh_type\":\n",
    "#                 refresh_type = paraDict[i]  ## have to passed as \"refresh_type\":\"full_refresh\" ##\n",
    "\n",
    "#             elif i == \"authFileUpdateHardLimit\":\n",
    "#                 authFileUpdateHardLimit = paraDict[i]  ## have to pass as \"authFileUpdateHardLimit\":300 ##\n",
    "\n",
    "#             elif i == \"cohereids\":\n",
    "#                 cohereids = tuple(paraDict[i])  ## have to pass as \"cohereids\" : ('id1','id2')\n",
    "\n",
    "\n",
    "    print(\"Env: \" + str(env))\n",
    "    print(\"Run type: \" + str(refresh_type))\n",
    "    db, ghp_prefix = mapping_environment(env)\n",
    "\n",
    "    # define the times to fetch provider file\n",
    "    s3_resource = boto3.resource('s3')\n",
    "\n",
    "    objects = list(\n",
    "        s3_resource.Bucket('cohere-health-external-data').objects.filter(Prefix=f\"payer/{ghp_prefix}/providers/\"))\n",
    "\n",
    "    objects.sort(key=lambda o: o.last_modified)\n",
    "    provider_file_name = objects[-1].key\n",
    "\n",
    "    print(f\"latest provider file name : {provider_file_name}\")\n",
    "\n",
    "    ##Reading lookup Files##\n",
    "    request_type = spark.read.csv(\"s3://cohere-analytics-airflow-prod/lookup-data/GHP_request_type_lookup.csv\", sep=',',\n",
    "                                  header=True)\n",
    "    entry_method = spark.read.csv(\"s3://cohere-analytics-airflow-prod/lookup-data/GHP_entry_method_lookup.csv\", sep=',',\n",
    "                                  header=True)\n",
    "    service_group_id = spark.read.csv(\"s3://cohere-analytics-airflow-prod/lookup-data/GHP_service_id_lookup.csv\",\n",
    "                                      sep=',', header=True)\n",
    "    referral_type = spark.read.csv(\"s3://cohere-analytics-airflow-prod/lookup-data/GHP_referral_type_lookup.csv\",\n",
    "                                   sep=',', header=True)\n",
    "    service_status = spark.read.csv(\"s3://cohere-analytics-airflow-prod/lookup-data/GHP_service_status_lookup.csv\",\n",
    "                                    sep=',', header=True)\n",
    "    prov_raw = spark.read.csv(f\"s3://cohere-health-external-data/{provider_file_name}\", sep='|', header=True)\n",
    "    provider_raw_final = prov_raw.select(\"GHP_Provider_Number\", \"Provider_Entity\").distinct()\n",
    "    inpatient_referral_type = spark.read.csv(\"s3://cohere-analytics-airflow-prod/lookup-data/GHP_inpatient_referral_type_lookup.csv\", sep=',', header=True)\n",
    "\n",
    "    sr = check_refresh_type(db, refresh_type, cohereids)\n",
    "    sr = update_planned_inpatients_to_outpatients(sr)\n",
    "    if sr.count() == 0:\n",
    "        print(\"Received 0 authorizations/service requests\")\n",
    "        log_num_of_auths(cw_client, sr, env)\n",
    "    else:\n",
    "        pos = fetch_place_of_service(db)\n",
    "        patient = fetch_patient(db)\n",
    "        health_plan_name = fetch_health_plan_name(db)\n",
    "        clinical_service = fetch_clinical_service(db, health_plan_name)\n",
    "        service_request_relation = fetch_service_request_relation(db)\n",
    "        data_sent_to_ghp = fetch_data_sent_to_ghp(db)\n",
    "        sr = handle_semantic_procedure_codes(sr, clinical_service, service_group_id, refresh_type)\n",
    "\n",
    "        final_df = compute_final_df(sr, patient, pos, clinical_service, provider_raw_final)\n",
    "        final_df = final_df.distinct()\n",
    "\n",
    "        final_auth_status_df = update_auth_status(final_df)\n",
    "        final_end_date_df = update_end_date(final_auth_status_df)\n",
    "        final_lookup_update_df = update_lookup_data(final_end_date_df, request_type, entry_method, service_group_id,\n",
    "                                                    referral_type, service_status, inpatient_referral_type)\n",
    "        final_lookup_update_df = accumulate_inpatient_length_of_stay(final_lookup_update_df, data_sent_to_ghp)\n",
    "        final_filtered_data_to_send_to_GHP = filter_duplicate_auths_and_update_authorization_type(\n",
    "            final_lookup_update_df, data_sent_to_ghp, cohereids)\n",
    "        final_without_new_voided_auths_df = filter_new_voided_auths(final_filtered_data_to_send_to_GHP)\n",
    "        final_update_units_on_voided_auths_df = update_units_on_voided_auths(final_without_new_voided_auths_df)\n",
    "        final_output_df = final_update_units_on_voided_auths_df.distinct()\n",
    "        old_sr_id = fetch_old_sr_id_from_serviceRequestRelation(final_update_units_on_voided_auths_df)\n",
    "        old_auth_number = fetch_old_auth_number_from_service_request(old_sr_id)\n",
    "        update_auth_type = update_authorization_type(old_auth_number, data_sent_to_ghp)\n",
    "\n",
    "        ##Taking the distinct to avoid duplicate records\n",
    "        distinct_update_auth_type = update_auth_type.distinct()\n",
    "        final_output_df = update_service_deny_date(distinct_update_auth_type)\n",
    "\n",
    "        #Update inpatient fields\n",
    "        final_output_df = update_inpatient_authorization_type(update_auth_type)\n",
    "        final_output_df = update_inpatient_service_status_reason(final_output_df)\n",
    "        final_output_df = update_inpatient_service_group_ids(final_output_df)\n",
    "        final_output_df = update_inpatient_length_of_stay(final_output_df)\n",
    "\n",
    "        ##Adding checkpoint to make sure that data is not altered while writting files at different location\n",
    "\n",
    "        final_output_df = final_output_df.localCheckpoint()\n",
    "\n",
    "        # Filter out lines with invalid procedure code and service group id combinations. Will trigger alarm if we\n",
    "        # detect any.\n",
    "        final_output_df = filter_out_lines_with_procedure_code_and_service_group_id_empty(cw_client, env, final_output_df)\n",
    "        final_output_df = filter_out_lines_with_procedure_code_and_service_group_id_populated(cw_client, env, final_output_df)\n",
    "\n",
    "        denied_auths_with_no_service_status_code = final_output_df.filter((final_output_df.GHP_service_status == \"DS\") & ((final_output_df.GHP_service_status_reason == \"\") | (final_output_df.GHP_service_status_reason.isNull()))).count()\n",
    "        if denied_auths_with_no_service_status_code > 0:\n",
    "            denied_auths_with_no_service_status_code = final_output_df.filter((final_output_df.GHP_service_status == \"DS\") & ((final_output_df.GHP_service_status_reason == \"\") | (final_output_df.GHP_service_status_reason.isNull())))\n",
    "            log_denied_auths_with_no_service_status_code(cw_client, denied_auths_with_no_service_status_code, env)\n",
    "            final_output_df = final_output_df.filter(~((final_output_df.GHP_service_status == \"DS\") & ((final_output_df.GHP_service_status_reason == \"\")|(final_output_df.GHP_service_status_reason.isNull()))))\n",
    "            print(\"Logging rows with denied austh with no service status reason\")\n",
    "            denied_auths_with_no_service_status_code = denied_auths_with_no_service_status_code.collect()\n",
    "            for row in denied_auths_with_no_service_status_code:\n",
    "                print(\"Authorization with Denied status but no service status reason: \", row['GHP_vendor_authorization_number'])\n",
    "\n",
    "        column_order = final_output_df.columns\n",
    "        expected_column_order = ['GHP_assigned_vendor_code', 'GHP_vendor_authorization_number', 'GHP_record_type', 'GHP_request_type', 'GHP_subscriber_number', 'GHP_member_number', 'GHP_type_of_care_indicator', 'GHP_service_category', 'GHP_service_recieved_date', 'GHP_from_or_low_service_date', 'GHP_to_or_high_service_date', 'GHP_service_group_id', 'GHP_procedure_code', 'GHP_primary_diagnosis_code', 'GHP_units_requested', 'GHP_units_authorized', 'GHP_units_approved', 'GHP_service_status', 'GHP_service_deny_date', 'GHP_requesting_provider_id', 'GHP_servicing_facility_id', 'GHP_servicing_facility_name', 'GHP_authorized_place_of_service', 'GHP_requested_place_of_service', 'GHP_servicing_provider_id', 'GHP_servicing_provider_full_name', 'GHP_servicing_provider_tax_id', 'GHP_referring_provider_id', 'GHP_referring_provider_full_name', 'GHP_referring_provider_tax_id', 'GHP_attending_provider_id', 'GHP_authorization_type', 'GHP_entry_method', 'GHP_procedure_code_modifier', 'GHP_total_length_of_stay_requested', 'GHP_total_length_of_stay_authorized', 'GHP_requested_admission_date', 'GHP_authorized_admission_date', 'GHP_actual_admission_date', 'GHP_discharge_expected_date_and_time', 'GHP_actual_expected_date_and_time', 'GHP_review_date', 'GHP_concurrent_reviewed_treatment_type', 'GHP_concurrent_reviewed_length_of_stay_requested', 'GHP_concurrent_reviewed_length_of_stay_authorized', 'GHP_requested_length_of_stay', 'GHP_authorized_length_of_stay', 'GHP_allowed_days_length_of_stay', 'GHP_referral_type', 'GHP_service_status_reason', 'GHP_auth_hoodie_commit_time', 'GHP_additional_notes_line_1', 'GHP_additional_notes_line_2', 'GHP_additional_notes_line_3', 'GHP_additional_notes_line_4', 'GHP_additional_notes_line_5', 'GHP_additional_notes_line_6', 'GHP_additional_notes_line_7', 'GHP_is_authorization', 'GHP_max_hoodie_commit_time', 'GHP_auth_last_updated']\n",
    "        if column_order != expected_column_order:\n",
    "            print(\"Incorrect column order, stopping the job\")\n",
    "            log_incorrect_column_order(cw_client, env)\n",
    "            spark.stop()\n",
    "\n",
    "        elif final_output_df.filter(final_output_df.GHP_authorization_type == 'U').count() > authFileUpdateHardLimit:\n",
    "            print(\"The number of updates in the auth file has exceeded the hard limit threshold , stopping the job \")\n",
    "            log_auth_file_update_size_exceeded_hard_limit(cw_client, final_output_df, env)\n",
    "            spark.stop()\n",
    "\n",
    "        else:\n",
    "        ##Calculating Date Time for the files##\n",
    "            print(\"Job successful\")"
   ]
  },
  {
   "cell_type": "code",
   "execution_count": 10,
   "metadata": {
    "execution": {
     "iopub.execute_input": "2023-09-17T23:23:10.872749Z",
     "iopub.status.busy": "2023-09-17T23:23:10.872572Z",
     "iopub.status.idle": "2023-09-17T23:23:10.920734Z",
     "shell.execute_reply": "2023-09-17T23:23:10.920140Z",
     "shell.execute_reply.started": "2023-09-17T23:23:10.872724Z"
    },
    "tags": []
   },
   "outputs": [
    {
     "data": {
      "application/vnd.jupyter.widget-view+json": {
       "model_id": "44c675080e3f4d2d9dc5045d9051e753",
       "version_major": 2,
       "version_minor": 0
      },
      "text/plain": [
       "VBox()"
      ]
     },
     "metadata": {},
     "output_type": "display_data"
    },
    {
     "data": {
      "application/vnd.jupyter.widget-view+json": {
       "model_id": "",
       "version_major": 2,
       "version_minor": 0
      },
      "text/plain": [
       "FloatProgress(value=0.0, bar_style='info', description='Progress:', layout=Layout(height='25px', width='50%'),…"
      ]
     },
     "metadata": {},
     "output_type": "display_data"
    }
   ],
   "source": [
    "# spark.sql(\"set spark.sql.legacy.timeParserPolicy=LEGACY\")"
   ]
  },
  {
   "cell_type": "code",
   "execution_count": 11,
   "metadata": {
    "execution": {
     "iopub.execute_input": "2023-09-17T23:23:10.921947Z",
     "iopub.status.busy": "2023-09-17T23:23:10.921778Z",
     "iopub.status.idle": "2023-09-17T23:23:11.677319Z",
     "shell.execute_reply": "2023-09-17T23:23:11.676779Z",
     "shell.execute_reply.started": "2023-09-17T23:23:10.921925Z"
    },
    "tags": []
   },
   "outputs": [
    {
     "data": {
      "application/vnd.jupyter.widget-view+json": {
       "model_id": "354e8fa8607e4293917fb38f414d6649",
       "version_major": 2,
       "version_minor": 0
      },
      "text/plain": [
       "VBox()"
      ]
     },
     "metadata": {},
     "output_type": "display_data"
    },
    {
     "data": {
      "application/vnd.jupyter.widget-view+json": {
       "model_id": "",
       "version_major": 2,
       "version_minor": 0
      },
      "text/plain": [
       "FloatProgress(value=0.0, bar_style='info', description='Progress:', layout=Layout(height='25px', width='50%'),…"
      ]
     },
     "metadata": {},
     "output_type": "display_data"
    },
    {
     "name": "stdout",
     "output_type": "stream",
     "text": [
      "11"
     ]
    }
   ],
   "source": [
    "final_output_df.count()"
   ]
  },
  {
   "cell_type": "code",
   "execution_count": 12,
   "metadata": {
    "execution": {
     "iopub.execute_input": "2023-09-17T23:31:59.437463Z",
     "iopub.status.busy": "2023-09-17T23:31:59.437212Z",
     "iopub.status.idle": "2023-09-17T23:32:00.714589Z",
     "shell.execute_reply": "2023-09-17T23:32:00.713944Z",
     "shell.execute_reply.started": "2023-09-17T23:31:59.437436Z"
    }
   },
   "outputs": [
    {
     "data": {
      "application/vnd.jupyter.widget-view+json": {
       "model_id": "2f103dbfef1b419a800c54e934ca031d",
       "version_major": 2,
       "version_minor": 0
      },
      "text/plain": [
       "VBox()"
      ]
     },
     "metadata": {},
     "output_type": "display_data"
    },
    {
     "data": {
      "application/vnd.jupyter.widget-view+json": {
       "model_id": "",
       "version_major": 2,
       "version_minor": 0
      },
      "text/plain": [
       "FloatProgress(value=0.0, bar_style='info', description='Progress:', layout=Layout(height='25px', width='50%'),…"
      ]
     },
     "metadata": {},
     "output_type": "display_data"
    },
    {
     "name": "stdout",
     "output_type": "stream",
     "text": [
      "+------------------------+-------------------------------+---------------+----------------+---------------------+-----------------+--------------------------+--------------------+-------------------------+----------------------------+---------------------------+--------------------+------------------+--------------------------+-------------------+--------------------+------------------+------------------+---------------------+--------------------------+-------------------------+---------------------------+-------------------------------+------------------------------+-------------------------+--------------------------------+-----------------------------+-------------------------+--------------------------------+-----------------------------+-------------------------+----------------------+----------------+---------------------------+----------------------------------+-----------------------------------+----------------------------+-----------------------------+-------------------------+------------------------------------+---------------------------------+---------------+--------------------------------------+------------------------------------------------+-------------------------------------------------+----------------------------+-----------------------------+-------------------------------+-----------------+-------------------------+---------------------------+---------------------------+---------------------------+---------------------------+---------------------------+---------------------------------------------------------------------+------------------------------------+---------------------------+--------------------+--------------------------+-----------------------+\n",
      "|GHP_assigned_vendor_code|GHP_vendor_authorization_number|GHP_record_type|GHP_request_type|GHP_subscriber_number|GHP_member_number|GHP_type_of_care_indicator|GHP_service_category|GHP_service_recieved_date|GHP_from_or_low_service_date|GHP_to_or_high_service_date|GHP_service_group_id|GHP_procedure_code|GHP_primary_diagnosis_code|GHP_units_requested|GHP_units_authorized|GHP_units_approved|GHP_service_status|GHP_service_deny_date|GHP_requesting_provider_id|GHP_servicing_facility_id|GHP_servicing_facility_name|GHP_authorized_place_of_service|GHP_requested_place_of_service|GHP_servicing_provider_id|GHP_servicing_provider_full_name|GHP_servicing_provider_tax_id|GHP_referring_provider_id|GHP_referring_provider_full_name|GHP_referring_provider_tax_id|GHP_attending_provider_id|GHP_authorization_type|GHP_entry_method|GHP_procedure_code_modifier|GHP_total_length_of_stay_requested|GHP_total_length_of_stay_authorized|GHP_requested_admission_date|GHP_authorized_admission_date|GHP_actual_admission_date|GHP_discharge_expected_date_and_time|GHP_actual_expected_date_and_time|GHP_review_date|GHP_concurrent_reviewed_treatment_type|GHP_concurrent_reviewed_length_of_stay_requested|GHP_concurrent_reviewed_length_of_stay_authorized|GHP_requested_length_of_stay|GHP_authorized_length_of_stay|GHP_allowed_days_length_of_stay|GHP_referral_type|GHP_service_status_reason|GHP_auth_hoodie_commit_time|GHP_additional_notes_line_1|GHP_additional_notes_line_2|GHP_additional_notes_line_3|GHP_additional_notes_line_4|GHP_additional_notes_line_5                                          |GHP_additional_notes_line_6         |GHP_additional_notes_line_7|GHP_is_authorization|GHP_max_hoodie_commit_time|GHP_auth_last_updated  |\n",
      "+------------------------+-------------------------------+---------------+----------------+---------------------+-----------------+--------------------------+--------------------+-------------------------+----------------------------+---------------------------+--------------------+------------------+--------------------------+-------------------+--------------------+------------------+------------------+---------------------+--------------------------+-------------------------+---------------------------+-------------------------------+------------------------------+-------------------------+--------------------------------+-----------------------------+-------------------------+--------------------------------+-----------------------------+-------------------------+----------------------+----------------+---------------------------+----------------------------------+-----------------------------------+----------------------------+-----------------------------+-------------------------+------------------------------------+---------------------------------+---------------+--------------------------------------+------------------------------------------------+-------------------------------------------------+----------------------------+-----------------------------+-------------------------------+-----------------+-------------------------+---------------------------+---------------------------+---------------------------+---------------------------+---------------------------+---------------------------------------------------------------------+------------------------------------+---------------------------+--------------------+--------------------------+-----------------------+\n",
      "|CH                      |GTMS5443                       |A              |O               |200395532            |20039553201      |L                         |M                   |                         |20230824                    |20231022                   |HOME                |                  |R6889                     |3                  |3                   |3                 |CO                |20230917             |168968934102              |ZZFACINOTFND             |                           |12                             |12                            |ZZPRACNOTFND             |null                            |null                         |168968934102             |Guy Fasciana                    |824832588                    |ZZPRACNOTFND             |U                     |null            |                           |                                  |                                   |null                        |null                         |null                     |20231022                            |20231022                         |               |                                      |                                                |                                                 |                            |                             |                               |HH               |null                     |20230917193159976          |null                       |null                       |null                       |Srv_Prv_ID: 151896461800   |Superior Health Services;TIN: 232670708;224 Main St,,Dupont,PA,186412|014                                 |null                       |Y                   |2023-09-17 20:31:42.208   |2023-09-17 18:12:17.371|\n",
      "|CH                      |GTMS5443                       |A              |O               |200395532            |20039553201      |L                         |M                   |                         |20230824                    |20231022                   |HOME                |                  |R6889                     |4                  |4                   |4                 |CO                |20230917             |168968934102              |ZZFACINOTFND             |                           |12                             |12                            |ZZPRACNOTFND             |null                            |null                         |168968934102             |Guy Fasciana                    |824832588                    |ZZPRACNOTFND             |U                     |null            |                           |                                  |                                   |null                        |null                         |null                     |20231022                            |20231022                         |               |                                      |                                                |                                                 |                            |                             |                               |HH               |null                     |20230917193159976          |null                       |null                       |null                       |Srv_Prv_ID: 151896461800   |Superior Health Services;TIN: 232670708;224 Main St,,Dupont,PA,186412|014                                 |null                       |Y                   |2023-09-17 20:31:42.208   |2023-09-17 18:12:17.371|\n",
      "|CH                      |GTMS5443                       |A              |O               |200395532            |20039553201      |L                         |M                   |20230917                 |20230824                    |20231022                   |HOME                |                  |R6889                     |4                  |4                   |4                 |CO                |                     |168968934102              |ZZFACINOTFND             |                           |12                             |12                            |ZZPRACNOTFND             |null                            |null                         |168968934102             |Guy Fasciana                    |824832588                    |ZZPRACNOTFND             |U                     |null            |                           |                                  |                                   |                            |                             |                         |                                    |                                 |               |                                      |                                                |                                                 |                            |                             |                               |HH               |null                     |20230917193159976          |null                       |null                       |null                       |Srv_Prv_ID: 151896461800   |Superior Health Services;TIN: 232670708;224 Main St,,Dupont,PA,186412|014                                 |null                       |Y                   |null                      |null                   |\n",
      "|CH                      |GTMS5443                       |A              |O               |200395532            |20039553201      |L                         |M                   |                         |20230824                    |20231022                   |HOME                |                  |R6889                     |9                  |9                   |9                 |CO                |20230917             |168968934102              |ZZFACINOTFND             |                           |12                             |12                            |ZZPRACNOTFND             |null                            |null                         |168968934102             |Guy Fasciana                    |824832588                    |ZZPRACNOTFND             |U                     |null            |                           |                                  |                                   |null                        |null                         |null                     |20231022                            |20231022                         |               |                                      |                                                |                                                 |                            |                             |                               |HH               |null                     |20230917193159976          |null                       |null                       |null                       |Srv_Prv_ID: 151896461800   |Superior Health Services;TIN: 232670708;224 Main St,,Dupont,PA,186412|014                                 |null                       |Y                   |2023-09-17 20:31:42.208   |2023-09-17 18:12:17.371|\n",
      "|CH                      |GTMS5443                       |A              |O               |200395532            |20039553201      |L                         |M                   |20230917                 |20230824                    |20231022                   |HOME                |                  |R6889                     |9                  |9                   |9                 |CO                |                     |168968934102              |ZZFACINOTFND             |                           |12                             |12                            |ZZPRACNOTFND             |null                            |null                         |168968934102             |Guy Fasciana                    |824832588                    |ZZPRACNOTFND             |U                     |null            |                           |                                  |                                   |                            |                             |                         |                                    |                                 |               |                                      |                                                |                                                 |                            |                             |                               |HH               |null                     |20230917193159976          |null                       |null                       |null                       |Srv_Prv_ID: 151896461800   |Superior Health Services;TIN: 232670708;224 Main St,,Dupont,PA,186412|014                                 |null                       |Y                   |null                      |null                   |\n",
      "|CH                      |MYCQ2154                       |A              |O               |200580998            |20058099801      |L                         |M                   |                         |20230913                    |20231011                   |HOME                |                  |R6889                     |5                  |5                   |5                 |CO                |20230917             |179097127305              |ZZFACINOTFND             |                           |12                             |12                            |ZZPRACNOTFND             |null                            |null                         |179097127305             |                                |251219302                    |ZZPRACNOTFND             |U                     |null            |                           |                                  |                                   |null                        |null                         |null                     |20231011                            |20231011                         |               |                                      |                                                |                                                 |                            |                             |                               |HH               |null                     |20230917023214713          |null                       |null                       |null                       |Srv_Prv_ID: 165944315802   |UPMC Home Healthcare of Central Pennsylvania;TIN: 251188570;227 Hospi|tal Dr,Ste 2,EVERETT,PA,155377019   |null                       |Y                   |2023-09-17 20:31:42.208   |2023-09-17 01:21:53.299|\n",
      "|CH                      |MYCQ2154                       |A              |O               |200580998            |20058099801      |L                         |M                   |20230917                 |20230913                    |20231011                   |HOME                |                  |R6889                     |5                  |5                   |5                 |CO                |                     |179097127305              |ZZFACINOTFND             |                           |12                             |12                            |ZZPRACNOTFND             |null                            |null                         |179097127305             |                                |251219302                    |ZZPRACNOTFND             |U                     |null            |                           |                                  |                                   |                            |                             |                         |                                    |                                 |               |                                      |                                                |                                                 |                            |                             |                               |HH               |null                     |20230917023214713          |null                       |null                       |null                       |Srv_Prv_ID: 165944315802   |UPMC Home Healthcare of Central Pennsylvania;TIN: 251188570;227 Hospi|tal Dr,Ste 2,EVERETT,PA,155377019   |null                       |Y                   |null                      |null                   |\n",
      "|CH                      |FHXH4406                       |A              |O               |200221533            |20022153304      |L                         |M                   |                         |20230907                    |20240215                   |GOMC                |                  |R6889                     |21                 |21                  |21                |CO                |20230917             |146741969708              |ZZFACINOTFND             |                           |11                             |11                            |ZZPRACNOTFND             |null                            |null                         |146741969708             |                                |236291113                    |ZZPRACNOTFND             |U                     |null            |                           |                                  |                                   |null                        |null                         |null                     |20240215                            |20240215                         |               |                                      |                                                |                                                 |                            |                             |                               |AT               |null                     |20230917033158345          |null                       |null                       |null                       |Srv_Prv_ID: 162968031900   |Innovative Pediatric Therapy Services;TIN: 852533273;713 Bridge St,St|e 23,SELINSGROVE,PA,178701250       |null                       |Y                   |2023-09-17 20:31:42.208   |2023-09-17 02:44:02.338|\n",
      "|CH                      |FHXH4406                       |A              |O               |200221533            |20022153304      |L                         |M                   |20230917                 |20230907                    |20240215                   |GOMC                |                  |R6889                     |21                 |21                  |21                |CO                |                     |146741969708              |ZZFACINOTFND             |                           |11                             |11                            |ZZPRACNOTFND             |null                            |null                         |146741969708             |                                |236291113                    |ZZPRACNOTFND             |U                     |null            |                           |                                  |                                   |                            |                             |                         |                                    |                                 |               |                                      |                                                |                                                 |                            |                             |                               |AT               |null                     |20230917033158345          |null                       |null                       |null                       |Srv_Prv_ID: 162968031900   |Innovative Pediatric Therapy Services;TIN: 852533273;713 Bridge St,St|e 23,SELINSGROVE,PA,178701250       |null                       |Y                   |null                      |null                   |\n",
      "|CH                      |GTRQ2979                       |A              |O               |100546087            |10054608701      |L                         |M                   |                         |20230916                    |20231114                   |HOME                |                  |R6889                     |8                  |8                   |8                 |CO                |20230917             |100384368101              |ZZFACINOTFND             |                           |12                             |12                            |ZZPRACNOTFND             |null                            |null                         |100384368101             |                                |232964896                    |ZZPRACNOTFND             |U                     |null            |                           |                                  |                                   |null                        |null                         |null                     |20231114                            |20231114                         |               |                                      |                                                |                                                 |                            |                             |                               |HH               |null                     |20230917153857694          |null                       |null                       |null                       |Srv_Prv_ID: 151890161000   |AccentCare Home Health of Central Pennsylvania;TIN: 232470584;1501 Gr|undy Ln,Ste 100,Bristol,PA,190071506|null                       |Y                   |2023-09-17 20:31:42.208   |2023-09-17 14:29:05.761|\n",
      "|CH                      |GTRQ2979                       |A              |O               |100546087            |10054608701      |L                         |M                   |20230917                 |20230916                    |20231114                   |HOME                |                  |R6889                     |8                  |8                   |8                 |CO                |                     |100384368101              |ZZFACINOTFND             |                           |12                             |12                            |ZZPRACNOTFND             |null                            |null                         |100384368101             |                                |232964896                    |ZZPRACNOTFND             |U                     |null            |                           |                                  |                                   |                            |                             |                         |                                    |                                 |               |                                      |                                                |                                                 |                            |                             |                               |HH               |null                     |20230917153857694          |null                       |null                       |null                       |Srv_Prv_ID: 151890161000   |AccentCare Home Health of Central Pennsylvania;TIN: 232470584;1501 Gr|undy Ln,Ste 100,Bristol,PA,190071506|null                       |Y                   |null                      |null                   |\n",
      "+------------------------+-------------------------------+---------------+----------------+---------------------+-----------------+--------------------------+--------------------+-------------------------+----------------------------+---------------------------+--------------------+------------------+--------------------------+-------------------+--------------------+------------------+------------------+---------------------+--------------------------+-------------------------+---------------------------+-------------------------------+------------------------------+-------------------------+--------------------------------+-----------------------------+-------------------------+--------------------------------+-----------------------------+-------------------------+----------------------+----------------+---------------------------+----------------------------------+-----------------------------------+----------------------------+-----------------------------+-------------------------+------------------------------------+---------------------------------+---------------+--------------------------------------+------------------------------------------------+-------------------------------------------------+----------------------------+-----------------------------+-------------------------------+-----------------+-------------------------+---------------------------+---------------------------+---------------------------+---------------------------+---------------------------+---------------------------------------------------------------------+------------------------------------+---------------------------+--------------------+--------------------------+-----------------------+"
     ]
    }
   ],
   "source": [
    "final_output_df.show(truncate=False)"
   ]
  },
  {
   "cell_type": "code",
   "execution_count": null,
   "metadata": {},
   "outputs": [],
   "source": []
  },
  {
   "cell_type": "code",
   "execution_count": null,
   "metadata": {},
   "outputs": [],
   "source": []
  },
  {
   "cell_type": "code",
   "execution_count": null,
   "metadata": {},
   "outputs": [],
   "source": []
  },
  {
   "cell_type": "code",
   "execution_count": null,
   "metadata": {},
   "outputs": [],
   "source": []
  },
  {
   "cell_type": "code",
   "execution_count": null,
   "metadata": {},
   "outputs": [],
   "source": []
  },
  {
   "cell_type": "code",
   "execution_count": null,
   "metadata": {},
   "outputs": [],
   "source": []
  },
  {
   "cell_type": "code",
   "execution_count": null,
   "metadata": {},
   "outputs": [],
   "source": []
  },
  {
   "cell_type": "code",
   "execution_count": null,
   "metadata": {},
   "outputs": [],
   "source": []
  },
  {
   "cell_type": "code",
   "execution_count": null,
   "metadata": {},
   "outputs": [],
   "source": []
  },
  {
   "cell_type": "code",
   "execution_count": null,
   "metadata": {},
   "outputs": [],
   "source": []
  },
  {
   "cell_type": "code",
   "execution_count": null,
   "metadata": {},
   "outputs": [],
   "source": []
  },
  {
   "cell_type": "code",
   "execution_count": null,
   "metadata": {},
   "outputs": [],
   "source": []
  },
  {
   "cell_type": "code",
   "execution_count": 29,
   "metadata": {
    "execution": {
     "iopub.execute_input": "2023-08-29T01:36:26.408786Z",
     "iopub.status.busy": "2023-08-29T01:36:26.408624Z",
     "iopub.status.idle": "2023-08-29T01:36:27.856703Z",
     "shell.execute_reply": "2023-08-29T01:36:27.856135Z",
     "shell.execute_reply.started": "2023-08-29T01:36:26.408766Z"
    },
    "tags": []
   },
   "outputs": [
    {
     "data": {
      "application/vnd.jupyter.widget-view+json": {
       "model_id": "ac2618c6f3c54e81a16502bab8a441df",
       "version_major": 2,
       "version_minor": 0
      },
      "text/plain": [
       "VBox()"
      ]
     },
     "metadata": {},
     "output_type": "display_data"
    },
    {
     "data": {
      "application/vnd.jupyter.widget-view+json": {
       "model_id": "",
       "version_major": 2,
       "version_minor": 0
      },
      "text/plain": [
       "FloatProgress(value=0.0, bar_style='info', description='Progress:', layout=Layout(height='25px', width='50%'),…"
      ]
     },
     "metadata": {},
     "output_type": "display_data"
    },
    {
     "name": "stdout",
     "output_type": "stream",
     "text": [
      "+------------------------+-------------------------------+---------------+----------------+---------------------+-----------------+--------------------------+--------------------+-------------------------+----------------------------+---------------------------+--------------------+------------------+--------------------------+-------------------+--------------------+------------------+------------------+---------------------+--------------------------+-------------------------+---------------------------+-------------------------------+------------------------------+-------------------------+--------------------------------+-----------------------------+-------------------------+--------------------------------+-----------------------------+-------------------------+----------------------+----------------+---------------------------+----------------------------------+-----------------------------------+----------------------------+-----------------------------+-------------------------+------------------------------------+---------------------------------+---------------+--------------------------------------+------------------------------------------------+-------------------------------------------------+----------------------------+-----------------------------+-------------------------------+-----------------+-------------------------+---------------------------+---------------------------+---------------------------+---------------------------+---------------------------+---------------------------+---------------------------+---------------------------+--------------------+--------------------------+---------------------+\n",
      "|GHP_assigned_vendor_code|GHP_vendor_authorization_number|GHP_record_type|GHP_request_type|GHP_subscriber_number|GHP_member_number|GHP_type_of_care_indicator|GHP_service_category|GHP_service_recieved_date|GHP_from_or_low_service_date|GHP_to_or_high_service_date|GHP_service_group_id|GHP_procedure_code|GHP_primary_diagnosis_code|GHP_units_requested|GHP_units_authorized|GHP_units_approved|GHP_service_status|GHP_service_deny_date|GHP_requesting_provider_id|GHP_servicing_facility_id|GHP_servicing_facility_name|GHP_authorized_place_of_service|GHP_requested_place_of_service|GHP_servicing_provider_id|GHP_servicing_provider_full_name|GHP_servicing_provider_tax_id|GHP_referring_provider_id|GHP_referring_provider_full_name|GHP_referring_provider_tax_id|GHP_attending_provider_id|GHP_authorization_type|GHP_entry_method|GHP_procedure_code_modifier|GHP_total_length_of_stay_requested|GHP_total_length_of_stay_authorized|GHP_requested_admission_date|GHP_authorized_admission_date|GHP_actual_admission_date|GHP_discharge_expected_date_and_time|GHP_actual_expected_date_and_time|GHP_review_date|GHP_concurrent_reviewed_treatment_type|GHP_concurrent_reviewed_length_of_stay_requested|GHP_concurrent_reviewed_length_of_stay_authorized|GHP_requested_length_of_stay|GHP_authorized_length_of_stay|GHP_allowed_days_length_of_stay|GHP_referral_type|GHP_service_status_reason|GHP_auth_hoodie_commit_time|GHP_additional_notes_line_1|GHP_additional_notes_line_2|GHP_additional_notes_line_3|GHP_additional_notes_line_4|GHP_additional_notes_line_5|GHP_additional_notes_line_6|GHP_additional_notes_line_7|GHP_is_authorization|GHP_max_hoodie_commit_time|GHP_auth_last_updated|\n",
      "+------------------------+-------------------------------+---------------+----------------+---------------------+-----------------+--------------------------+--------------------+-------------------------+----------------------------+---------------------------+--------------------+------------------+--------------------------+-------------------+--------------------+------------------+------------------+---------------------+--------------------------+-------------------------+---------------------------+-------------------------------+------------------------------+-------------------------+--------------------------------+-----------------------------+-------------------------+--------------------------------+-----------------------------+-------------------------+----------------------+----------------+---------------------------+----------------------------------+-----------------------------------+----------------------------+-----------------------------+-------------------------+------------------------------------+---------------------------------+---------------+--------------------------------------+------------------------------------------------+-------------------------------------------------+----------------------------+-----------------------------+-------------------------------+-----------------+-------------------------+---------------------------+---------------------------+---------------------------+---------------------------+---------------------------+---------------------------+---------------------------+---------------------------+--------------------+--------------------------+---------------------+\n",
      "+------------------------+-------------------------------+---------------+----------------+---------------------+-----------------+--------------------------+--------------------+-------------------------+----------------------------+---------------------------+--------------------+------------------+--------------------------+-------------------+--------------------+------------------+------------------+---------------------+--------------------------+-------------------------+---------------------------+-------------------------------+------------------------------+-------------------------+--------------------------------+-----------------------------+-------------------------+--------------------------------+-----------------------------+-------------------------+----------------------+----------------+---------------------------+----------------------------------+-----------------------------------+----------------------------+-----------------------------+-------------------------+------------------------------------+---------------------------------+---------------+--------------------------------------+------------------------------------------------+-------------------------------------------------+----------------------------+-----------------------------+-------------------------------+-----------------+-------------------------+---------------------------+---------------------------+---------------------------+---------------------------+---------------------------+---------------------------+---------------------------+---------------------------+--------------------+--------------------------+---------------------+"
     ]
    }
   ],
   "source": [
    "final_output_df.filter(col('GHP_vendor_authorization_number').isin(\"DVIO1503\", \"FCZN5546\")).show(truncate=False)\n",
    "# inpatient_groupids.show(truncate=False)"
   ]
  },
  {
   "cell_type": "code",
   "execution_count": 30,
   "metadata": {
    "execution": {
     "iopub.execute_input": "2023-08-29T01:37:31.788948Z",
     "iopub.status.busy": "2023-08-29T01:37:31.788710Z",
     "iopub.status.idle": "2023-08-29T01:38:09.403941Z",
     "shell.execute_reply": "2023-08-29T01:38:09.403405Z",
     "shell.execute_reply.started": "2023-08-29T01:37:31.788920Z"
    }
   },
   "outputs": [
    {
     "data": {
      "application/vnd.jupyter.widget-view+json": {
       "model_id": "1a5b0cc7b5544eda8f66244f35eca94b",
       "version_major": 2,
       "version_minor": 0
      },
      "text/plain": [
       "VBox()"
      ]
     },
     "metadata": {},
     "output_type": "display_data"
    },
    {
     "data": {
      "application/vnd.jupyter.widget-view+json": {
       "model_id": "",
       "version_major": 2,
       "version_minor": 0
      },
      "text/plain": [
       "FloatProgress(value=0.0, bar_style='info', description='Progress:', layout=Layout(height='25px', width='50%'),…"
      ]
     },
     "metadata": {},
     "output_type": "display_data"
    },
    {
     "name": "stdout",
     "output_type": "stream",
     "text": [
      "+-----------+--------------------+--------------------+----------------+--------+-------------+------------------------+------------------------+-----------------+------------------------+--------------------------+-------------------+-----------------+--------------------+--------------------+---------------------+-----------------------+-----------------------+-----------------------------+------------------+---------------------------+---------------+------------------------+----------------------------+-------------------+------------------------+-------------------------------+------------------------------+------------------------------+-----------------------------+----------------------------+-------------+------------------------------+-----------------------------+---------------------------------+--------------------------------+-------------------------------+-----------------------------------+---------------------------+---------------------------+--------------------------+--------------+--------------------+-------------------+------------------------+--------------------------+--------------------------+----------------+---------------+------------------------+------------------+-----------+-------+----------------+------------------------+------------------------------+------------------------------------+---------------------------+--------------------------------+---------------------------------------------------------------------------------------------------------+------------------------+---------------------+---------------------+-------------------+------------+\n",
      "|sr_cohereid|sr_startdate        |sr_enddate          |sr_encounterType|sr_units|sr_authStatus|sr_placeofservice       |sr_patient              |sr_healthplanname|sr_clinicalservice      |sr_clinicalservices       |sr_requestorChannel|sr_performing_tin|sr_claimspaymentnote|sr_servicestatuscode|sr_hoodie_commit_time|sr_dateCreated         |sr_lastUpdated         |sr_performing_provider_GHP_Id|sr_facility_GHP_Id|sr_ordering_provider_GHP_Id|sr_ordering_tin|sr_facility_GHP_name    |sr_facility_GHP_address_city|sr_facility_GHP_tin|sr_id                   |sr_facility_GHP_address_zipcode|sr_facility_GHP_address_line_1|sr_facility_GHP_address_line_2|sr_facility_GHP_address_state|sr_facility_GHP_providerType|sr_reviewDate|sr_ordering_provider_firstName|sr_ordering_provider_lastName|sr_ordering_provider_providerType|sr_performing_provider_firstName|sr_performing_provider_lastName|sr_performing_provider_providerType|sr_performing_provider_name|sr_patientStayDaysRequested|sr_patientStayDaysApproved|sr_requesttype|sr_integrationstatus|sr_is_authorization|sr_expectedAdmissionDate|sr_actualAdmissionDateTime|sr_actualDischargeDateTime|sr_authorization|sr_authCategory|sr_decisiontimestamp    |sr_max_commit_time|sr_px_units|sr_code|sr_approvedunits|clinicalservice_id      |clinicalservice_name          |clinicalservice_allowedhealthplanids|clinicalservice_isUnitsOnPx|clinicalservice_procedurecodeids|clinicalservice_procedureCodes                                                                           |health_plan_name_id     |health_plan_name_name|temp_service_group_id|sr_dateCreated_temp|refresh_type|\n",
      "+-----------+--------------------+--------------------+----------------+--------+-------------+------------------------+------------------------+-----------------+------------------------+--------------------------+-------------------+-----------------+--------------------+--------------------+---------------------+-----------------------+-----------------------+-----------------------------+------------------+---------------------------+---------------+------------------------+----------------------------+-------------------+------------------------+-------------------------------+------------------------------+------------------------------+-----------------------------+----------------------------+-------------+------------------------------+-----------------------------+---------------------------------+--------------------------------+-------------------------------+-----------------------------------+---------------------------+---------------------------+--------------------------+--------------+--------------------+-------------------+------------------------+--------------------------+--------------------------+----------------+---------------+------------------------+------------------+-----------+-------+----------------+------------------------+------------------------------+------------------------------------+---------------------------+--------------------------------+---------------------------------------------------------------------------------------------------------+------------------------+---------------------+---------------------+-------------------+------------+\n",
      "|DVIO1503   |2023-09-17T00:00:00Z|2023-09-30T00:00:00Z|OUTPATIENT      |6       |DENIED       |5ee3d7b6ce49e734a2f4cc50|6439cb591bf3f10001674429|Geisinger        |640a0c3edc738200018042be|[640a0c3edc738200018042be]|PHONE              |462763974        |null                |null                |20230828203406233    |2023-08-09 19:55:19.871|2023-08-28 19:35:43.984|110425511601                 |180191548300      |110425511601               |462763974      |Rimmi Sobti Md          |Toms River                  |331030066          |64d3ef275b528000011cf02f|087558020                      |511 Lakehurst Rd              |null                          |NJ                           |G                           |null         |Kristin                       |Jackson                      |P                                |Kristin                         |Jackson                        |P                                  |Jackson, Kristin M.        |null                       |null                      |null          |READY               |Y                  |null                    |null                      |null                      |null            |null           |2023-08-16T20:18:00.982Z|20230824193440378 |6          |64493  |0               |640a0c3edc738200018042be|Interventional Pain Management|61fd4690e3c066060ae6960b            |true                       |[]                              |[27096, 0216T, 0213T, 64493, 64490, 64479, 64483, 64635, 64633, 62320, 62321, 62322, 62323, 64451, G0260]|61fd4690e3c066060ae6960b|Geisinger            |null                 |20230809195519871  |Incremental |\n",
      "|FCZN5546   |2023-08-12T00:00:00Z|2023-09-12T00:00:00Z|OUTPATIENT      |3       |DENIED       |6373d9f2af5241503f240061|64397ecb2239c20001882cff|Geisinger        |null                    |[]                        |PHONE              |251857035        |null                |null                |20230828203406233    |2023-08-09 19:50:44.027|2023-08-28 19:35:25.261|171049214501                 |161901669800      |118488525301               |232275991      |Pediatric Neurology Asso|Lancaster                   |232633340          |64d3ee135b528000011ceffb|176012644                      |2108 Harrisburg Pike Ste 315  |null                          |PA                           |G                           |null         |Adrienne                      |Loftis                       |P                                |Juliya                          |Fortuna                        |P                                  |Fortuna, Juliya            |null                       |null                      |null          |READY               |Y                  |null                    |null                      |null                      |null            |null           |2023-08-16T20:15:31.902Z|20230824193440378 |3          |22612  |0               |null                    |null                          |null                                |null                       |null                            |null                                                                                                     |null                    |null                 |null                 |20230809195044027  |Incremental |\n",
      "+-----------+--------------------+--------------------+----------------+--------+-------------+------------------------+------------------------+-----------------+------------------------+--------------------------+-------------------+-----------------+--------------------+--------------------+---------------------+-----------------------+-----------------------+-----------------------------+------------------+---------------------------+---------------+------------------------+----------------------------+-------------------+------------------------+-------------------------------+------------------------------+------------------------------+-----------------------------+----------------------------+-------------+------------------------------+-----------------------------+---------------------------------+--------------------------------+-------------------------------+-----------------------------------+---------------------------+---------------------------+--------------------------+--------------+--------------------+-------------------+------------------------+--------------------------+--------------------------+----------------+---------------+------------------------+------------------+-----------+-------+----------------+------------------------+------------------------------+------------------------------------+---------------------------+--------------------------------+---------------------------------------------------------------------------------------------------------+------------------------+---------------------+---------------------+-------------------+------------+"
     ]
    }
   ],
   "source": [
    "sr.filter(col('sr_cohereid').isin(\"DVIO1503\", \"FCZN5546\")).show(truncate=False)"
   ]
  },
  {
   "cell_type": "code",
   "execution_count": 32,
   "metadata": {
    "execution": {
     "iopub.execute_input": "2023-08-29T01:39:42.342953Z",
     "iopub.status.busy": "2023-08-29T01:39:42.342715Z",
     "iopub.status.idle": "2023-08-29T01:40:03.736398Z",
     "shell.execute_reply": "2023-08-29T01:40:03.735830Z",
     "shell.execute_reply.started": "2023-08-29T01:39:42.342927Z"
    },
    "tags": []
   },
   "outputs": [
    {
     "data": {
      "application/vnd.jupyter.widget-view+json": {
       "model_id": "69f07f1b0d9e4e90b968ced50a700219",
       "version_major": 2,
       "version_minor": 0
      },
      "text/plain": [
       "VBox()"
      ]
     },
     "metadata": {},
     "output_type": "display_data"
    },
    {
     "data": {
      "application/vnd.jupyter.widget-view+json": {
       "model_id": "",
       "version_major": 2,
       "version_minor": 0
      },
      "text/plain": [
       "FloatProgress(value=0.0, bar_style='info', description='Progress:', layout=Layout(height='25px', width='50%'),…"
      ]
     },
     "metadata": {},
     "output_type": "display_data"
    },
    {
     "name": "stdout",
     "output_type": "stream",
     "text": [
      "+-----------------------------+-----------------------------------+------------------------+-------------------------------+---------------+----------------+---------------------+-----------------+--------------------------+--------------------+-------------------------+----------------------------+---------------------------+--------------------+--------------------------+------------------+--------------------------+-------------------+--------------------+------------------+------------------+---------------------+--------------------------+-------------------------+---------------------------+-------------------------------+------------------------------+-------------------------+--------------------------------+-----------------------------+-------------------------+--------------------------------+-----------------------------+-------------------------+----------------------+----------------+---------------------------+----------------------------------+-----------------------------------+----------------------------+-----------------------------+-------------------------+------------------------------------+---------------------------------+---------------+--------------------------------------+------------------------------------------------+-------------------------------------------------+----------------------------+-----------------------------+-------------------------------+------------------------------+-------------------------+---------------------------+---------------------------+---------------------------+---------------------------+---------------------------+---------------------------------------------------------------------+---------------------------+---------------------------+--------------------+--------------------------+-----------------------+\n",
      "|GHP_ServiceRequest_ReviewDate|GHP_Authorization_IntegrationStatus|GHP_assigned_vendor_code|GHP_vendor_authorization_number|GHP_record_type|GHP_request_type|GHP_subscriber_number|GHP_member_number|GHP_type_of_care_indicator|GHP_service_category|GHP_service_recieved_date|GHP_from_or_low_service_date|GHP_to_or_high_service_date|GHP_service_group_id|GHP_service_group_id_array|GHP_procedure_code|GHP_primary_diagnosis_code|GHP_units_requested|GHP_units_authorized|GHP_units_approved|GHP_service_status|GHP_service_deny_date|GHP_requesting_provider_id|GHP_servicing_facility_id|GHP_servicing_facility_name|GHP_authorized_place_of_service|GHP_requested_place_of_service|GHP_servicing_provider_id|GHP_servicing_provider_full_name|GHP_servicing_provider_tax_id|GHP_referring_provider_id|GHP_referring_provider_full_name|GHP_referring_provider_tax_id|GHP_attending_provider_id|GHP_authorization_type|GHP_entry_method|GHP_procedure_code_modifier|GHP_total_length_of_stay_requested|GHP_total_length_of_stay_authorized|GHP_requested_admission_date|GHP_authorized_admission_date|GHP_actual_admission_date|GHP_discharge_expected_date_and_time|GHP_actual_expected_date_and_time|GHP_review_date|GHP_concurrent_reviewed_treatment_type|GHP_concurrent_reviewed_length_of_stay_requested|GHP_concurrent_reviewed_length_of_stay_authorized|GHP_requested_length_of_stay|GHP_authorized_length_of_stay|GHP_allowed_days_length_of_stay|GHP_referral_type             |GHP_service_status_reason|GHP_auth_hoodie_commit_time|GHP_additional_notes_line_1|GHP_additional_notes_line_2|GHP_additional_notes_line_3|GHP_additional_notes_line_4|GHP_additional_notes_line_5                                          |GHP_additional_notes_line_6|GHP_additional_notes_line_7|GHP_is_authorization|GHP_max_hoodie_commit_time|GHP_auth_last_updated  |\n",
      "+-----------------------------+-----------------------------------+------------------------+-------------------------------+---------------+----------------+---------------------+-----------------+--------------------------+--------------------+-------------------------+----------------------------+---------------------------+--------------------+--------------------------+------------------+--------------------------+-------------------+--------------------+------------------+------------------+---------------------+--------------------------+-------------------------+---------------------------+-------------------------------+------------------------------+-------------------------+--------------------------------+-----------------------------+-------------------------+--------------------------------+-----------------------------+-------------------------+----------------------+----------------+---------------------------+----------------------------------+-----------------------------------+----------------------------+-----------------------------+-------------------------+------------------------------------+---------------------------------+---------------+--------------------------------------+------------------------------------------------+-------------------------------------------------+----------------------------+-----------------------------+-------------------------------+------------------------------+-------------------------+---------------------------+---------------------------+---------------------------+---------------------------+---------------------------+---------------------------------------------------------------------+---------------------------+---------------------------+--------------------+--------------------------+-----------------------+\n",
      "|null                         |READY                              |CH                      |FCZN5546                       |A              |outpatient      |000153086            |00015308601      |L                         |M                   |                         |20230812                    |20230912                   |null                |[null]                    |22612             |R6889                     |3                  |0                   |0                 |denied            |20230816             |118488525301              |ZZFACINOTFND             |                           |3                              |3                             |171049214501             |Juliya Fortuna                  |251857035                    |118488525301             |Adrienne Loftis                 |232275991                    |171049214501             |                      |phone           |                           |                                  |                                   |null                        |null                         |null                     |20230912                            |20230912                         |               |                                      |                                                |                                                 |                            |                             |                               |null                          |null                     |20230828203406233          |null                       |null                       |null                       |Srv_Prv_ID: 161901669800   |Pediatric Neurology Asso;TIN: 232633340;2108 Harrisburg Pike Ste 315,|,Lancaster,PA,176012644    |null                       |Y                   |2023-08-24 19:34:40.378   |2023-08-28 19:35:25.261|\n",
      "|null                         |READY                              |CH                      |DVIO1503                       |A              |outpatient      |000153138            |00015313801      |L                         |M                   |                         |20230917                    |20230930                   |null                |[null]                    |64493             |R6889                     |6                  |0                   |0                 |denied            |20230816             |110425511601              |ZZFACINOTFND             |                           |24                             |24                            |110425511601             |Kristin Jackson                 |462763974                    |110425511601             |Kristin Jackson                 |462763974                    |110425511601             |                      |phone           |                           |                                  |                                   |null                        |null                         |null                     |20230930                            |20230930                         |               |                                      |                                                |                                                 |                            |                             |                               |interventional pain management|null                     |20230828203406233          |null                       |null                       |null                       |Srv_Prv_ID: 180191548300   |Rimmi Sobti Md;TIN: 331030066;511 Lakehurst Rd,,Toms River,NJ,0875580|20                         |null                       |Y                   |2023-08-24 19:34:40.378   |2023-08-28 19:35:43.984|\n",
      "+-----------------------------+-----------------------------------+------------------------+-------------------------------+---------------+----------------+---------------------+-----------------+--------------------------+--------------------+-------------------------+----------------------------+---------------------------+--------------------+--------------------------+------------------+--------------------------+-------------------+--------------------+------------------+------------------+---------------------+--------------------------+-------------------------+---------------------------+-------------------------------+------------------------------+-------------------------+--------------------------------+-----------------------------+-------------------------+--------------------------------+-----------------------------+-------------------------+----------------------+----------------+---------------------------+----------------------------------+-----------------------------------+----------------------------+-----------------------------+-------------------------+------------------------------------+---------------------------------+---------------+--------------------------------------+------------------------------------------------+-------------------------------------------------+----------------------------+-----------------------------+-------------------------------+------------------------------+-------------------------+---------------------------+---------------------------+---------------------------+---------------------------+---------------------------+---------------------------------------------------------------------+---------------------------+---------------------------+--------------------+--------------------------+-----------------------+"
     ]
    }
   ],
   "source": [
    "final_df.filter(col('GHP_vendor_authorization_number').isin(\"DVIO1503\", \"FCZN5546\")).show(truncate=False)"
   ]
  },
  {
   "cell_type": "code",
   "execution_count": 33,
   "metadata": {
    "execution": {
     "iopub.execute_input": "2023-08-29T01:40:26.909603Z",
     "iopub.status.busy": "2023-08-29T01:40:26.909353Z",
     "iopub.status.idle": "2023-08-29T01:40:56.310755Z",
     "shell.execute_reply": "2023-08-29T01:40:56.309996Z",
     "shell.execute_reply.started": "2023-08-29T01:40:26.909577Z"
    }
   },
   "outputs": [
    {
     "data": {
      "application/vnd.jupyter.widget-view+json": {
       "model_id": "bff7261d8237468895063e150f224ffd",
       "version_major": 2,
       "version_minor": 0
      },
      "text/plain": [
       "VBox()"
      ]
     },
     "metadata": {},
     "output_type": "display_data"
    },
    {
     "data": {
      "application/vnd.jupyter.widget-view+json": {
       "model_id": "",
       "version_major": 2,
       "version_minor": 0
      },
      "text/plain": [
       "FloatProgress(value=0.0, bar_style='info', description='Progress:', layout=Layout(height='25px', width='50%'),…"
      ]
     },
     "metadata": {},
     "output_type": "display_data"
    },
    {
     "name": "stdout",
     "output_type": "stream",
     "text": [
      "+-------------------------------+-----------------------------+-----------------------------------+------------------------+---------------+----------------+---------------------+-----------------+--------------------------+--------------------+-------------------------+----------------------------+---------------------------+--------------------+--------------------------+------------------+--------------------------+-------------------+--------------------+------------------+------------------+---------------------+--------------------------+-------------------------+---------------------------+-------------------------------+------------------------------+-------------------------+--------------------------------+-----------------------------+-------------------------+--------------------------------+-----------------------------+-------------------------+----------------------+----------------+---------------------------+----------------------------------+-----------------------------------+----------------------------+-----------------------------+-------------------------+------------------------------------+---------------------------------+---------------+--------------------------------------+------------------------------------------------+-------------------------------------------------+----------------------------+-----------------------------+-------------------------------+-----------------+-------------------------+---------------------------+---------------------------+---------------------------+---------------------------+---------------------------+---------------------------------------------------------------------+---------------------------+---------------------------+--------------------+--------------------------+-----------------------+\n",
      "|GHP_vendor_authorization_number|GHP_ServiceRequest_ReviewDate|GHP_Authorization_IntegrationStatus|GHP_assigned_vendor_code|GHP_record_type|GHP_request_type|GHP_subscriber_number|GHP_member_number|GHP_type_of_care_indicator|GHP_service_category|GHP_service_recieved_date|GHP_from_or_low_service_date|GHP_to_or_high_service_date|GHP_service_group_id|GHP_service_group_id_array|GHP_procedure_code|GHP_primary_diagnosis_code|GHP_units_requested|GHP_units_authorized|GHP_units_approved|GHP_service_status|GHP_service_deny_date|GHP_requesting_provider_id|GHP_servicing_facility_id|GHP_servicing_facility_name|GHP_authorized_place_of_service|GHP_requested_place_of_service|GHP_servicing_provider_id|GHP_servicing_provider_full_name|GHP_servicing_provider_tax_id|GHP_referring_provider_id|GHP_referring_provider_full_name|GHP_referring_provider_tax_id|GHP_attending_provider_id|GHP_authorization_type|GHP_entry_method|GHP_procedure_code_modifier|GHP_total_length_of_stay_requested|GHP_total_length_of_stay_authorized|GHP_requested_admission_date|GHP_authorized_admission_date|GHP_actual_admission_date|GHP_discharge_expected_date_and_time|GHP_actual_expected_date_and_time|GHP_review_date|GHP_concurrent_reviewed_treatment_type|GHP_concurrent_reviewed_length_of_stay_requested|GHP_concurrent_reviewed_length_of_stay_authorized|GHP_requested_length_of_stay|GHP_authorized_length_of_stay|GHP_allowed_days_length_of_stay|GHP_referral_type|GHP_service_status_reason|GHP_auth_hoodie_commit_time|GHP_additional_notes_line_1|GHP_additional_notes_line_2|GHP_additional_notes_line_3|GHP_additional_notes_line_4|GHP_additional_notes_line_5                                          |GHP_additional_notes_line_6|GHP_additional_notes_line_7|GHP_is_authorization|GHP_max_hoodie_commit_time|GHP_auth_last_updated  |\n",
      "+-------------------------------+-----------------------------+-----------------------------------+------------------------+---------------+----------------+---------------------+-----------------+--------------------------+--------------------+-------------------------+----------------------------+---------------------------+--------------------+--------------------------+------------------+--------------------------+-------------------+--------------------+------------------+------------------+---------------------+--------------------------+-------------------------+---------------------------+-------------------------------+------------------------------+-------------------------+--------------------------------+-----------------------------+-------------------------+--------------------------------+-----------------------------+-------------------------+----------------------+----------------+---------------------------+----------------------------------+-----------------------------------+----------------------------+-----------------------------+-------------------------+------------------------------------+---------------------------------+---------------+--------------------------------------+------------------------------------------------+-------------------------------------------------+----------------------------+-----------------------------+-------------------------------+-----------------+-------------------------+---------------------------+---------------------------+---------------------------+---------------------------+---------------------------+---------------------------------------------------------------------+---------------------------+---------------------------+--------------------+--------------------------+-----------------------+\n",
      "|DVIO1503                       |null                         |READY                              |CH                      |A              |O               |000153138            |00015313801      |L                         |M                   |                         |20230917                    |20230930                   |null                |[null]                    |64493             |R6889                     |6                  |0                   |0                 |DS                |20230816             |110425511601              |ZZFACINOTFND             |                           |24                             |24                            |110425511601             |Kristin Jackson                 |462763974                    |110425511601             |Kristin Jackson                 |462763974                    |110425511601             |                      |V               |                           |                                  |                                   |null                        |null                         |null                     |20230930                            |20230930                         |               |                                      |                                                |                                                 |                            |                             |                               |DC               |null                     |20230828203406233          |null                       |null                       |null                       |Srv_Prv_ID: 180191548300   |Rimmi Sobti Md;TIN: 331030066;511 Lakehurst Rd,,Toms River,NJ,0875580|20                         |null                       |Y                   |2023-08-24 19:34:40.378   |2023-08-28 19:35:43.984|\n",
      "|FCZN5546                       |null                         |READY                              |CH                      |A              |O               |000153086            |00015308601      |L                         |M                   |                         |20230812                    |20230912                   |null                |[null]                    |22612             |R6889                     |3                  |0                   |0                 |DS                |20230816             |118488525301              |ZZFACINOTFND             |                           |3                              |3                             |171049214501             |Juliya Fortuna                  |251857035                    |118488525301             |Adrienne Loftis                 |232275991                    |171049214501             |                      |V               |                           |                                  |                                   |null                        |null                         |null                     |20230912                            |20230912                         |               |                                      |                                                |                                                 |                            |                             |                               |DC               |null                     |20230828203406233          |null                       |null                       |null                       |Srv_Prv_ID: 161901669800   |Pediatric Neurology Asso;TIN: 232633340;2108 Harrisburg Pike Ste 315,|,Lancaster,PA,176012644    |null                       |Y                   |2023-08-24 19:34:40.378   |2023-08-28 19:35:25.261|\n",
      "+-------------------------------+-----------------------------+-----------------------------------+------------------------+---------------+----------------+---------------------+-----------------+--------------------------+--------------------+-------------------------+----------------------------+---------------------------+--------------------+--------------------------+------------------+--------------------------+-------------------+--------------------+------------------+------------------+---------------------+--------------------------+-------------------------+---------------------------+-------------------------------+------------------------------+-------------------------+--------------------------------+-----------------------------+-------------------------+--------------------------------+-----------------------------+-------------------------+----------------------+----------------+---------------------------+----------------------------------+-----------------------------------+----------------------------+-----------------------------+-------------------------+------------------------------------+---------------------------------+---------------+--------------------------------------+------------------------------------------------+-------------------------------------------------+----------------------------+-----------------------------+-------------------------------+-----------------+-------------------------+---------------------------+---------------------------+---------------------------+---------------------------+---------------------------+---------------------------------------------------------------------+---------------------------+---------------------------+--------------------+--------------------------+-----------------------+"
     ]
    }
   ],
   "source": [
    "final_lookup_update_df.filter(col('GHP_vendor_authorization_number').isin(\"DVIO1503\", \"FCZN5546\")).show(truncate=False)"
   ]
  },
  {
   "cell_type": "code",
   "execution_count": 34,
   "metadata": {
    "execution": {
     "iopub.execute_input": "2023-08-29T01:40:56.311925Z",
     "iopub.status.busy": "2023-08-29T01:40:56.311752Z",
     "iopub.status.idle": "2023-08-29T01:41:39.969313Z",
     "shell.execute_reply": "2023-08-29T01:41:39.968518Z",
     "shell.execute_reply.started": "2023-08-29T01:40:56.311903Z"
    }
   },
   "outputs": [
    {
     "data": {
      "application/vnd.jupyter.widget-view+json": {
       "model_id": "dbd19f9183e240beb4c97fa9f93f8087",
       "version_major": 2,
       "version_minor": 0
      },
      "text/plain": [
       "VBox()"
      ]
     },
     "metadata": {},
     "output_type": "display_data"
    },
    {
     "data": {
      "application/vnd.jupyter.widget-view+json": {
       "model_id": "",
       "version_major": 2,
       "version_minor": 0
      },
      "text/plain": [
       "FloatProgress(value=0.0, bar_style='info', description='Progress:', layout=Layout(height='25px', width='50%'),…"
      ]
     },
     "metadata": {},
     "output_type": "display_data"
    },
    {
     "name": "stdout",
     "output_type": "stream",
     "text": [
      "+-------------------------------+-----------------------------+-----------------------------------+------------------------+---------------+----------------+---------------------+-----------------+--------------------------+--------------------+-------------------------+----------------------------+---------------------------+--------------------+--------------------------+------------------+--------------------------+-------------------+--------------------+------------------+------------------+---------------------+--------------------------+-------------------------+---------------------------+-------------------------------+------------------------------+-------------------------+--------------------------------+-----------------------------+-------------------------+--------------------------------+-----------------------------+-------------------------+----------------------+----------------+---------------------------+----------------------------------+-----------------------------------+----------------------------+-----------------------------+-------------------------+------------------------------------+---------------------------------+---------------+--------------------------------------+------------------------------------------------+-------------------------------------------------+----------------------------+-----------------------------+-------------------------------+-----------------+-------------------------+---------------------------+---------------------------+---------------------------+---------------------------+---------------------------+---------------------------------------------------------------------+---------------------------+---------------------------+--------------------+--------------------------+-----------------------+\n",
      "|GHP_vendor_authorization_number|GHP_ServiceRequest_ReviewDate|GHP_Authorization_IntegrationStatus|GHP_assigned_vendor_code|GHP_record_type|GHP_request_type|GHP_subscriber_number|GHP_member_number|GHP_type_of_care_indicator|GHP_service_category|GHP_service_recieved_date|GHP_from_or_low_service_date|GHP_to_or_high_service_date|GHP_service_group_id|GHP_service_group_id_array|GHP_procedure_code|GHP_primary_diagnosis_code|GHP_units_requested|GHP_units_authorized|GHP_units_approved|GHP_service_status|GHP_service_deny_date|GHP_requesting_provider_id|GHP_servicing_facility_id|GHP_servicing_facility_name|GHP_authorized_place_of_service|GHP_requested_place_of_service|GHP_servicing_provider_id|GHP_servicing_provider_full_name|GHP_servicing_provider_tax_id|GHP_referring_provider_id|GHP_referring_provider_full_name|GHP_referring_provider_tax_id|GHP_attending_provider_id|GHP_authorization_type|GHP_entry_method|GHP_procedure_code_modifier|GHP_total_length_of_stay_requested|GHP_total_length_of_stay_authorized|GHP_requested_admission_date|GHP_authorized_admission_date|GHP_actual_admission_date|GHP_discharge_expected_date_and_time|GHP_actual_expected_date_and_time|GHP_review_date|GHP_concurrent_reviewed_treatment_type|GHP_concurrent_reviewed_length_of_stay_requested|GHP_concurrent_reviewed_length_of_stay_authorized|GHP_requested_length_of_stay|GHP_authorized_length_of_stay|GHP_allowed_days_length_of_stay|GHP_referral_type|GHP_service_status_reason|GHP_auth_hoodie_commit_time|GHP_additional_notes_line_1|GHP_additional_notes_line_2|GHP_additional_notes_line_3|GHP_additional_notes_line_4|GHP_additional_notes_line_5                                          |GHP_additional_notes_line_6|GHP_additional_notes_line_7|GHP_is_authorization|GHP_max_hoodie_commit_time|GHP_auth_last_updated  |\n",
      "+-------------------------------+-----------------------------+-----------------------------------+------------------------+---------------+----------------+---------------------+-----------------+--------------------------+--------------------+-------------------------+----------------------------+---------------------------+--------------------+--------------------------+------------------+--------------------------+-------------------+--------------------+------------------+------------------+---------------------+--------------------------+-------------------------+---------------------------+-------------------------------+------------------------------+-------------------------+--------------------------------+-----------------------------+-------------------------+--------------------------------+-----------------------------+-------------------------+----------------------+----------------+---------------------------+----------------------------------+-----------------------------------+----------------------------+-----------------------------+-------------------------+------------------------------------+---------------------------------+---------------+--------------------------------------+------------------------------------------------+-------------------------------------------------+----------------------------+-----------------------------+-------------------------------+-----------------+-------------------------+---------------------------+---------------------------+---------------------------+---------------------------+---------------------------+---------------------------------------------------------------------+---------------------------+---------------------------+--------------------+--------------------------+-----------------------+\n",
      "|DVIO1503                       |null                         |READY                              |CH                      |A              |O               |000153138            |00015313801      |L                         |M                   |                         |20230917                    |20230930                   |null                |[null]                    |64493             |R6889                     |6                  |0                   |0                 |DS                |20230816             |110425511601              |ZZFACINOTFND             |                           |24                             |24                            |110425511601             |Kristin Jackson                 |462763974                    |110425511601             |Kristin Jackson                 |462763974                    |110425511601             |N                     |V               |                           |                                  |                                   |null                        |null                         |null                     |20230930                            |20230930                         |               |                                      |                                                |                                                 |                            |                             |                               |DC               |null                     |20230828203406233          |null                       |null                       |null                       |Srv_Prv_ID: 180191548300   |Rimmi Sobti Md;TIN: 331030066;511 Lakehurst Rd,,Toms River,NJ,0875580|20                         |null                       |Y                   |2023-08-24 19:34:40.378   |2023-08-28 19:35:43.984|\n",
      "|FCZN5546                       |null                         |READY                              |CH                      |A              |O               |000153086            |00015308601      |L                         |M                   |                         |20230812                    |20230912                   |null                |[null]                    |22612             |R6889                     |3                  |0                   |0                 |DS                |20230816             |118488525301              |ZZFACINOTFND             |                           |3                              |3                             |171049214501             |Juliya Fortuna                  |251857035                    |118488525301             |Adrienne Loftis                 |232275991                    |171049214501             |N                     |V               |                           |                                  |                                   |null                        |null                         |null                     |20230912                            |20230912                         |               |                                      |                                                |                                                 |                            |                             |                               |DC               |null                     |20230828203406233          |null                       |null                       |null                       |Srv_Prv_ID: 161901669800   |Pediatric Neurology Asso;TIN: 232633340;2108 Harrisburg Pike Ste 315,|,Lancaster,PA,176012644    |null                       |Y                   |2023-08-24 19:34:40.378   |2023-08-28 19:35:25.261|\n",
      "+-------------------------------+-----------------------------+-----------------------------------+------------------------+---------------+----------------+---------------------+-----------------+--------------------------+--------------------+-------------------------+----------------------------+---------------------------+--------------------+--------------------------+------------------+--------------------------+-------------------+--------------------+------------------+------------------+---------------------+--------------------------+-------------------------+---------------------------+-------------------------------+------------------------------+-------------------------+--------------------------------+-----------------------------+-------------------------+--------------------------------+-----------------------------+-------------------------+----------------------+----------------+---------------------------+----------------------------------+-----------------------------------+----------------------------+-----------------------------+-------------------------+------------------------------------+---------------------------------+---------------+--------------------------------------+------------------------------------------------+-------------------------------------------------+----------------------------+-----------------------------+-------------------------------+-----------------+-------------------------+---------------------------+---------------------------+---------------------------+---------------------------+---------------------------+---------------------------------------------------------------------+---------------------------+---------------------------+--------------------+--------------------------+-----------------------+"
     ]
    }
   ],
   "source": [
    "final_filtered_data_to_send_to_GHP.filter(col('GHP_vendor_authorization_number').isin(\"DVIO1503\", \"FCZN5546\")).show(truncate=False)"
   ]
  },
  {
   "cell_type": "code",
   "execution_count": 35,
   "metadata": {
    "execution": {
     "iopub.execute_input": "2023-08-29T01:45:06.158628Z",
     "iopub.status.busy": "2023-08-29T01:45:06.158401Z",
     "iopub.status.idle": "2023-08-29T01:46:11.935865Z",
     "shell.execute_reply": "2023-08-29T01:46:11.935319Z",
     "shell.execute_reply.started": "2023-08-29T01:45:06.158603Z"
    }
   },
   "outputs": [
    {
     "data": {
      "application/vnd.jupyter.widget-view+json": {
       "model_id": "ae56cd8d9d6d4fad967cbda71de2782f",
       "version_major": 2,
       "version_minor": 0
      },
      "text/plain": [
       "VBox()"
      ]
     },
     "metadata": {},
     "output_type": "display_data"
    },
    {
     "data": {
      "application/vnd.jupyter.widget-view+json": {
       "model_id": "",
       "version_major": 2,
       "version_minor": 0
      },
      "text/plain": [
       "FloatProgress(value=0.0, bar_style='info', description='Progress:', layout=Layout(height='25px', width='50%'),…"
      ]
     },
     "metadata": {},
     "output_type": "display_data"
    },
    {
     "name": "stdout",
     "output_type": "stream",
     "text": [
      "+-------------------------------+-----------------------------+-----------------------------------+------------------------+---------------+----------------+---------------------+-----------------+--------------------------+--------------------+-------------------------+----------------------------+---------------------------+--------------------+--------------------------+------------------+--------------------------+-------------------+--------------------+------------------+------------------+---------------------+--------------------------+-------------------------+---------------------------+-------------------------------+------------------------------+-------------------------+--------------------------------+-----------------------------+-------------------------+--------------------------------+-----------------------------+-------------------------+----------------------+----------------+---------------------------+----------------------------------+-----------------------------------+----------------------------+-----------------------------+-------------------------+------------------------------------+---------------------------------+---------------+--------------------------------------+------------------------------------------------+-------------------------------------------------+----------------------------+-----------------------------+-------------------------------+-----------------+-------------------------+---------------------------+---------------------------+---------------------------+---------------------------+---------------------------+---------------------------------------------------------------------+---------------------------+---------------------------+--------------------+--------------------------+-----------------------+\n",
      "|GHP_vendor_authorization_number|GHP_ServiceRequest_ReviewDate|GHP_Authorization_IntegrationStatus|GHP_assigned_vendor_code|GHP_record_type|GHP_request_type|GHP_subscriber_number|GHP_member_number|GHP_type_of_care_indicator|GHP_service_category|GHP_service_recieved_date|GHP_from_or_low_service_date|GHP_to_or_high_service_date|GHP_service_group_id|GHP_service_group_id_array|GHP_procedure_code|GHP_primary_diagnosis_code|GHP_units_requested|GHP_units_authorized|GHP_units_approved|GHP_service_status|GHP_service_deny_date|GHP_requesting_provider_id|GHP_servicing_facility_id|GHP_servicing_facility_name|GHP_authorized_place_of_service|GHP_requested_place_of_service|GHP_servicing_provider_id|GHP_servicing_provider_full_name|GHP_servicing_provider_tax_id|GHP_referring_provider_id|GHP_referring_provider_full_name|GHP_referring_provider_tax_id|GHP_attending_provider_id|GHP_authorization_type|GHP_entry_method|GHP_procedure_code_modifier|GHP_total_length_of_stay_requested|GHP_total_length_of_stay_authorized|GHP_requested_admission_date|GHP_authorized_admission_date|GHP_actual_admission_date|GHP_discharge_expected_date_and_time|GHP_actual_expected_date_and_time|GHP_review_date|GHP_concurrent_reviewed_treatment_type|GHP_concurrent_reviewed_length_of_stay_requested|GHP_concurrent_reviewed_length_of_stay_authorized|GHP_requested_length_of_stay|GHP_authorized_length_of_stay|GHP_allowed_days_length_of_stay|GHP_referral_type|GHP_service_status_reason|GHP_auth_hoodie_commit_time|GHP_additional_notes_line_1|GHP_additional_notes_line_2|GHP_additional_notes_line_3|GHP_additional_notes_line_4|GHP_additional_notes_line_5                                          |GHP_additional_notes_line_6|GHP_additional_notes_line_7|GHP_is_authorization|GHP_max_hoodie_commit_time|GHP_auth_last_updated  |\n",
      "+-------------------------------+-----------------------------+-----------------------------------+------------------------+---------------+----------------+---------------------+-----------------+--------------------------+--------------------+-------------------------+----------------------------+---------------------------+--------------------+--------------------------+------------------+--------------------------+-------------------+--------------------+------------------+------------------+---------------------+--------------------------+-------------------------+---------------------------+-------------------------------+------------------------------+-------------------------+--------------------------------+-----------------------------+-------------------------+--------------------------------+-----------------------------+-------------------------+----------------------+----------------+---------------------------+----------------------------------+-----------------------------------+----------------------------+-----------------------------+-------------------------+------------------------------------+---------------------------------+---------------+--------------------------------------+------------------------------------------------+-------------------------------------------------+----------------------------+-----------------------------+-------------------------------+-----------------+-------------------------+---------------------------+---------------------------+---------------------------+---------------------------+---------------------------+---------------------------------------------------------------------+---------------------------+---------------------------+--------------------+--------------------------+-----------------------+\n",
      "|FCZN5546                       |null                         |READY                              |CH                      |A              |O               |000153086            |00015308601      |L                         |M                   |                         |20230812                    |20230912                   |null                |[null]                    |22612             |R6889                     |3                  |0                   |0                 |DS                |20230816             |118488525301              |ZZFACINOTFND             |                           |3                              |3                             |171049214501             |Juliya Fortuna                  |251857035                    |118488525301             |Adrienne Loftis                 |232275991                    |171049214501             |N                     |V               |                           |                                  |                                   |null                        |null                         |null                     |20230912                            |20230912                         |               |                                      |                                                |                                                 |                            |                             |                               |DC               |null                     |20230828203406233          |null                       |null                       |null                       |Srv_Prv_ID: 161901669800   |Pediatric Neurology Asso;TIN: 232633340;2108 Harrisburg Pike Ste 315,|,Lancaster,PA,176012644    |null                       |Y                   |2023-08-24 19:34:40.378   |2023-08-28 19:35:25.261|\n",
      "|DVIO1503                       |null                         |READY                              |CH                      |A              |O               |000153138            |00015313801      |L                         |M                   |                         |20230917                    |20230930                   |null                |[null]                    |64493             |R6889                     |6                  |0                   |0                 |DS                |20230816             |110425511601              |ZZFACINOTFND             |                           |24                             |24                            |110425511601             |Kristin Jackson                 |462763974                    |110425511601             |Kristin Jackson                 |462763974                    |110425511601             |N                     |V               |                           |                                  |                                   |null                        |null                         |null                     |20230930                            |20230930                         |               |                                      |                                                |                                                 |                            |                             |                               |DC               |null                     |20230828203406233          |null                       |null                       |null                       |Srv_Prv_ID: 180191548300   |Rimmi Sobti Md;TIN: 331030066;511 Lakehurst Rd,,Toms River,NJ,0875580|20                         |null                       |Y                   |2023-08-24 19:34:40.378   |2023-08-28 19:35:43.984|\n",
      "+-------------------------------+-----------------------------+-----------------------------------+------------------------+---------------+----------------+---------------------+-----------------+--------------------------+--------------------+-------------------------+----------------------------+---------------------------+--------------------+--------------------------+------------------+--------------------------+-------------------+--------------------+------------------+------------------+---------------------+--------------------------+-------------------------+---------------------------+-------------------------------+------------------------------+-------------------------+--------------------------------+-----------------------------+-------------------------+--------------------------------+-----------------------------+-------------------------+----------------------+----------------+---------------------------+----------------------------------+-----------------------------------+----------------------------+-----------------------------+-------------------------+------------------------------------+---------------------------------+---------------+--------------------------------------+------------------------------------------------+-------------------------------------------------+----------------------------+-----------------------------+-------------------------------+-----------------+-------------------------+---------------------------+---------------------------+---------------------------+---------------------------+---------------------------+---------------------------------------------------------------------+---------------------------+---------------------------+--------------------+--------------------------+-----------------------+"
     ]
    }
   ],
   "source": [
    "distinct_update_auth_type.filter(col('GHP_vendor_authorization_number').isin(\"DVIO1503\", \"FCZN5546\")).show(truncate=False)"
   ]
  },
  {
   "cell_type": "code",
   "execution_count": null,
   "metadata": {},
   "outputs": [],
   "source": []
  },
  {
   "cell_type": "code",
   "execution_count": null,
   "metadata": {},
   "outputs": [],
   "source": []
  },
  {
   "cell_type": "code",
   "execution_count": null,
   "metadata": {},
   "outputs": [],
   "source": []
  },
  {
   "cell_type": "code",
   "execution_count": null,
   "metadata": {},
   "outputs": [],
   "source": []
  },
  {
   "cell_type": "code",
   "execution_count": null,
   "metadata": {},
   "outputs": [],
   "source": []
  },
  {
   "cell_type": "code",
   "execution_count": null,
   "metadata": {},
   "outputs": [],
   "source": []
  },
  {
   "cell_type": "code",
   "execution_count": null,
   "metadata": {},
   "outputs": [],
   "source": []
  },
  {
   "cell_type": "code",
   "execution_count": null,
   "metadata": {},
   "outputs": [],
   "source": []
  },
  {
   "cell_type": "code",
   "execution_count": null,
   "metadata": {},
   "outputs": [],
   "source": []
  },
  {
   "cell_type": "code",
   "execution_count": null,
   "metadata": {},
   "outputs": [],
   "source": []
  },
  {
   "cell_type": "code",
   "execution_count": null,
   "metadata": {},
   "outputs": [],
   "source": []
  },
  {
   "cell_type": "code",
   "execution_count": null,
   "metadata": {},
   "outputs": [],
   "source": []
  },
  {
   "cell_type": "code",
   "execution_count": 101,
   "metadata": {
    "execution": {
     "iopub.execute_input": "2023-08-19T01:52:30.193529Z",
     "iopub.status.busy": "2023-08-19T01:52:30.193207Z",
     "iopub.status.idle": "2023-08-19T01:52:30.247307Z",
     "shell.execute_reply": "2023-08-19T01:52:30.246507Z",
     "shell.execute_reply.started": "2023-08-19T01:52:30.193494Z"
    }
   },
   "outputs": [
    {
     "data": {
      "application/vnd.jupyter.widget-view+json": {
       "model_id": "85cc56872ef74510b3d823d59d770464",
       "version_major": 2,
       "version_minor": 0
      },
      "text/plain": [
       "VBox()"
      ]
     },
     "metadata": {},
     "output_type": "display_data"
    },
    {
     "data": {
      "application/vnd.jupyter.widget-view+json": {
       "model_id": "",
       "version_major": 2,
       "version_minor": 0
      },
      "text/plain": [
       "FloatProgress(value=0.0, bar_style='info', description='Progress:', layout=Layout(height='25px', width='50%'),…"
      ]
     },
     "metadata": {},
     "output_type": "display_data"
    },
    {
     "name": "stdout",
     "output_type": "stream",
     "text": [
      "analytics_dw_dev"
     ]
    }
   ],
   "source": [
    "print(db)"
   ]
  },
  {
   "cell_type": "code",
   "execution_count": 131,
   "metadata": {
    "execution": {
     "iopub.execute_input": "2023-08-19T02:10:40.475170Z",
     "iopub.status.busy": "2023-08-19T02:10:40.474950Z",
     "iopub.status.idle": "2023-08-19T02:10:40.525287Z",
     "shell.execute_reply": "2023-08-19T02:10:40.524634Z",
     "shell.execute_reply.started": "2023-08-19T02:10:40.475146Z"
    },
    "tags": []
   },
   "outputs": [
    {
     "data": {
      "application/vnd.jupyter.widget-view+json": {
       "model_id": "79b220824b8b4020addbffd96eeafe49",
       "version_major": 2,
       "version_minor": 0
      },
      "text/plain": [
       "VBox()"
      ]
     },
     "metadata": {},
     "output_type": "display_data"
    },
    {
     "data": {
      "application/vnd.jupyter.widget-view+json": {
       "model_id": "",
       "version_major": 2,
       "version_minor": 0
      },
      "text/plain": [
       "FloatProgress(value=0.0, bar_style='info', description='Progress:', layout=Layout(height='25px', width='50%'),…"
      ]
     },
     "metadata": {},
     "output_type": "display_data"
    }
   ],
   "source": [
    "tz = timezone('US/Eastern')\n",
    "current_timestamp_est = datetime.now(tz)\n",
    "target_bucket_name = 'cohere-health-external-data'\n",
    "\n",
    "base_target_key_path = f\"payer/{ghp_prefix}/auth/outbound\"\n",
    "glue_table = f\"{db}.ghp_auth_file_integration_qc\"\n",
    "\n",
    "file_date = current_timestamp_est.strftime(\"%Y%m%d\")\n",
    "file_time = current_timestamp_est.strftime(\"%H%M%S\")\n",
    "now_str = current_timestamp_est.strftime(\"%Y%m%d%H%M%S\")\n",
    "daily_path = f\"{file_date[0:4]}/{file_date[4:6]}/{file_date[6:8]}\"\n",
    "final_file_name = f\"COHERE{'_Q4' if env == 'dev' else ''}_GHP_MedicalAuth_File_{file_date}_{file_time}.txt\""
   ]
  },
  {
   "cell_type": "code",
   "execution_count": 89,
   "metadata": {
    "execution": {
     "iopub.execute_input": "2023-08-19T01:15:56.340551Z",
     "iopub.status.busy": "2023-08-19T01:15:56.340253Z",
     "iopub.status.idle": "2023-08-19T01:44:04.861870Z",
     "shell.execute_reply": "2023-08-19T01:44:04.861039Z",
     "shell.execute_reply.started": "2023-08-19T01:15:56.340514Z"
    },
    "tags": []
   },
   "outputs": [
    {
     "data": {
      "application/vnd.jupyter.widget-view+json": {
       "model_id": "1e727a05887742769ab1981f7e0f9327",
       "version_major": 2,
       "version_minor": 0
      },
      "text/plain": [
       "VBox()"
      ]
     },
     "metadata": {},
     "output_type": "display_data"
    },
    {
     "data": {
      "application/vnd.jupyter.widget-view+json": {
       "model_id": "",
       "version_major": 2,
       "version_minor": 0
      },
      "text/plain": [
       "FloatProgress(value=0.0, bar_style='info', description='Progress:', layout=Layout(height='25px', width='50%'),…"
      ]
     },
     "metadata": {},
     "output_type": "display_data"
    },
    {
     "name": "stdout",
     "output_type": "stream",
     "text": [
      "Uploading Geisinger QC auth file to s3://cohere-health-external-data/payer/geisinger-dev/auth/outbound/qc/daily/year=2023/month=08/day=18/hour=21\n",
      "Wrote 695 QC records\n",
      "Uploading Geisinger auth file to s3://cohere-health-external-data/payer/geisinger-dev/auth/outbound/raw/daily/2023/08/18\n",
      "Wrote 695 outbound records\n",
      "In athena 695\n",
      "Athena table created"
     ]
    }
   ],
   "source": [
    "upload_file_to_s3(final_output_df,target_bucket_name,base_target_key_path,daily_path,file_date,file_time,glue_table)"
   ]
  },
  {
   "cell_type": "code",
   "execution_count": 90,
   "metadata": {
    "execution": {
     "iopub.execute_input": "2023-08-19T01:44:04.863398Z",
     "iopub.status.busy": "2023-08-19T01:44:04.863163Z",
     "iopub.status.idle": "2023-08-19T01:44:05.628099Z",
     "shell.execute_reply": "2023-08-19T01:44:05.627423Z",
     "shell.execute_reply.started": "2023-08-19T01:44:04.863372Z"
    },
    "tags": []
   },
   "outputs": [
    {
     "data": {
      "application/vnd.jupyter.widget-view+json": {
       "model_id": "9c51d80d671f44e688553d86a0f7ed15",
       "version_major": 2,
       "version_minor": 0
      },
      "text/plain": [
       "VBox()"
      ]
     },
     "metadata": {},
     "output_type": "display_data"
    },
    {
     "data": {
      "application/vnd.jupyter.widget-view+json": {
       "model_id": "",
       "version_major": 2,
       "version_minor": 0
      },
      "text/plain": [
       "FloatProgress(value=0.0, bar_style='info', description='Progress:', layout=Layout(height='25px', width='50%'),…"
      ]
     },
     "metadata": {},
     "output_type": "display_data"
    },
    {
     "name": "stdout",
     "output_type": "stream",
     "text": [
      "part-00000-613ba626-22c3-4fda-b056-a42867806e36-c000.csv\n",
      "File Renamed\n",
      "Success File Deleted"
     ]
    }
   ],
   "source": [
    "rename_daily_s3_file(target_bucket_name,base_target_key_path,daily_path,final_file_name)"
   ]
  },
  {
   "cell_type": "code",
   "execution_count": 130,
   "metadata": {
    "execution": {
     "iopub.execute_input": "2023-08-19T02:09:37.560014Z",
     "iopub.status.busy": "2023-08-19T02:09:37.559793Z",
     "iopub.status.idle": "2023-08-19T02:09:37.610055Z",
     "shell.execute_reply": "2023-08-19T02:09:37.609414Z",
     "shell.execute_reply.started": "2023-08-19T02:09:37.559990Z"
    },
    "tags": []
   },
   "outputs": [
    {
     "data": {
      "application/vnd.jupyter.widget-view+json": {
       "model_id": "a2b1057595f649d0af1452b3d2258c16",
       "version_major": 2,
       "version_minor": 0
      },
      "text/plain": [
       "VBox()"
      ]
     },
     "metadata": {},
     "output_type": "display_data"
    },
    {
     "data": {
      "application/vnd.jupyter.widget-view+json": {
       "model_id": "",
       "version_major": 2,
       "version_minor": 0
      },
      "text/plain": [
       "FloatProgress(value=0.0, bar_style='info', description='Progress:', layout=Layout(height='25px', width='50%'),…"
      ]
     },
     "metadata": {},
     "output_type": "display_data"
    },
    {
     "name": "stdout",
     "output_type": "stream",
     "text": [
      "analytics_dw_dev.ghp_auth_file_integration_qc"
     ]
    }
   ],
   "source": []
  },
  {
   "cell_type": "code",
   "execution_count": null,
   "metadata": {},
   "outputs": [],
   "source": []
  },
  {
   "cell_type": "code",
   "execution_count": null,
   "metadata": {},
   "outputs": [],
   "source": []
  },
  {
   "cell_type": "code",
   "execution_count": 132,
   "metadata": {
    "execution": {
     "iopub.execute_input": "2023-08-19T02:12:15.030696Z",
     "iopub.status.busy": "2023-08-19T02:12:15.030456Z",
     "iopub.status.idle": "2023-08-19T02:12:20.434467Z",
     "shell.execute_reply": "2023-08-19T02:12:20.433863Z",
     "shell.execute_reply.started": "2023-08-19T02:12:15.030668Z"
    }
   },
   "outputs": [
    {
     "data": {
      "application/vnd.jupyter.widget-view+json": {
       "model_id": "c5f2f95e7cd14f94ae3bea3450e366f0",
       "version_major": 2,
       "version_minor": 0
      },
      "text/plain": [
       "VBox()"
      ]
     },
     "metadata": {},
     "output_type": "display_data"
    },
    {
     "data": {
      "application/vnd.jupyter.widget-view+json": {
       "model_id": "",
       "version_major": 2,
       "version_minor": 0
      },
      "text/plain": [
       "FloatProgress(value=0.0, bar_style='info', description='Progress:', layout=Layout(height='25px', width='50%'),…"
      ]
     },
     "metadata": {},
     "output_type": "display_data"
    }
   ],
   "source": [
    "final_output_df = final_output_df.withColumn(\"year\",lit(f\"{file_date[0:4]}\")) \\\n",
    "        .withColumn(\"month\",lit(f\"{file_date[4:6]}\")) \\\n",
    "        .withColumn(\"day\",lit(f\"{file_date[6:8]}\")) \\\n",
    "        .withColumn(\"hour\",lit(f\"{file_time[0:2]}\")) \\\n",
    "        .withColumn(\"GHP_service_recieved_date\",lit(file_date))"
   ]
  },
  {
   "cell_type": "code",
   "execution_count": 135,
   "metadata": {
    "execution": {
     "iopub.execute_input": "2023-08-19T02:13:44.025571Z",
     "iopub.status.busy": "2023-08-19T02:13:44.025310Z",
     "iopub.status.idle": "2023-08-19T02:13:44.074130Z",
     "shell.execute_reply": "2023-08-19T02:13:44.073606Z",
     "shell.execute_reply.started": "2023-08-19T02:13:44.025544Z"
    },
    "tags": []
   },
   "outputs": [
    {
     "data": {
      "application/vnd.jupyter.widget-view+json": {
       "model_id": "aa34a717c31c401782e97d966a071e43",
       "version_major": 2,
       "version_minor": 0
      },
      "text/plain": [
       "VBox()"
      ]
     },
     "metadata": {},
     "output_type": "display_data"
    },
    {
     "data": {
      "application/vnd.jupyter.widget-view+json": {
       "model_id": "",
       "version_major": 2,
       "version_minor": 0
      },
      "text/plain": [
       "FloatProgress(value=0.0, bar_style='info', description='Progress:', layout=Layout(height='25px', width='50%'),…"
      ]
     },
     "metadata": {},
     "output_type": "display_data"
    }
   ],
   "source": [
    "column_list=''\n",
    "for field in final_output_df.schema.fields:\n",
    "    columns= \"`\"+field.name +\"`  \" +str(field.dataType) + \" , \"\n",
    "    column_list+= columns\n",
    "column_list=column_list[0:-2]\n",
    "column_list=column_list.replace(\"StringType\", \"string\").replace(\"TimestampType\", \"Bigint\")"
   ]
  },
  {
   "cell_type": "code",
   "execution_count": 137,
   "metadata": {
    "execution": {
     "iopub.execute_input": "2023-08-19T02:14:09.629096Z",
     "iopub.status.busy": "2023-08-19T02:14:09.628847Z",
     "iopub.status.idle": "2023-08-19T02:14:09.675416Z",
     "shell.execute_reply": "2023-08-19T02:14:09.674611Z",
     "shell.execute_reply.started": "2023-08-19T02:14:09.629067Z"
    }
   },
   "outputs": [
    {
     "data": {
      "application/vnd.jupyter.widget-view+json": {
       "model_id": "e86b79d8464e44999d5c2ca10e5d5716",
       "version_major": 2,
       "version_minor": 0
      },
      "text/plain": [
       "VBox()"
      ]
     },
     "metadata": {},
     "output_type": "display_data"
    },
    {
     "data": {
      "application/vnd.jupyter.widget-view+json": {
       "model_id": "",
       "version_major": 2,
       "version_minor": 0
      },
      "text/plain": [
       "FloatProgress(value=0.0, bar_style='info', description='Progress:', layout=Layout(height='25px', width='50%'),…"
      ]
     },
     "metadata": {},
     "output_type": "display_data"
    }
   ],
   "source": [
    "qc_file_athena_table_key = f\"s3://{target_bucket_name}/{base_target_key_path}/qc/daily/\""
   ]
  },
  {
   "cell_type": "code",
   "execution_count": 180,
   "metadata": {
    "execution": {
     "iopub.execute_input": "2023-08-19T02:41:50.704247Z",
     "iopub.status.busy": "2023-08-19T02:41:50.704015Z",
     "iopub.status.idle": "2023-08-19T02:41:50.752130Z",
     "shell.execute_reply": "2023-08-19T02:41:50.751636Z",
     "shell.execute_reply.started": "2023-08-19T02:41:50.704222Z"
    }
   },
   "outputs": [
    {
     "data": {
      "application/vnd.jupyter.widget-view+json": {
       "model_id": "edda14e588e7428d9e95fc29dbdcdc60",
       "version_major": 2,
       "version_minor": 0
      },
      "text/plain": [
       "VBox()"
      ]
     },
     "metadata": {},
     "output_type": "display_data"
    },
    {
     "data": {
      "application/vnd.jupyter.widget-view+json": {
       "model_id": "",
       "version_major": 2,
       "version_minor": 0
      },
      "text/plain": [
       "FloatProgress(value=0.0, bar_style='info', description='Progress:', layout=Layout(height='25px', width='50%'),…"
      ]
     },
     "metadata": {},
     "output_type": "display_data"
    },
    {
     "name": "stdout",
     "output_type": "stream",
     "text": [
      "analytics_dw_dev.ghp_auth_file_integration_qc"
     ]
    }
   ],
   "source": [
    "print(glue_table)"
   ]
  },
  {
   "cell_type": "code",
   "execution_count": 173,
   "metadata": {
    "execution": {
     "iopub.execute_input": "2023-08-19T02:37:17.966156Z",
     "iopub.status.busy": "2023-08-19T02:37:17.965813Z",
     "iopub.status.idle": "2023-08-19T02:37:18.020178Z",
     "shell.execute_reply": "2023-08-19T02:37:18.019557Z",
     "shell.execute_reply.started": "2023-08-19T02:37:17.966114Z"
    },
    "tags": []
   },
   "outputs": [
    {
     "data": {
      "application/vnd.jupyter.widget-view+json": {
       "model_id": "dadb5bba04b74863ba28d1e201802519",
       "version_major": 2,
       "version_minor": 0
      },
      "text/plain": [
       "VBox()"
      ]
     },
     "metadata": {},
     "output_type": "display_data"
    },
    {
     "data": {
      "application/vnd.jupyter.widget-view+json": {
       "model_id": "",
       "version_major": 2,
       "version_minor": 0
      },
      "text/plain": [
       "FloatProgress(value=0.0, bar_style='info', description='Progress:', layout=Layout(height='25px', width='50%'),…"
      ]
     },
     "metadata": {},
     "output_type": "display_data"
    },
    {
     "name": "stdout",
     "output_type": "stream",
     "text": [
      "s3://cohere-health-external-data/payer/geisinger-dev/auth/outbound/qc/daily/"
     ]
    }
   ],
   "source": [
    "print(qc_file_athena_table_key)"
   ]
  },
  {
   "cell_type": "code",
   "execution_count": 184,
   "metadata": {
    "execution": {
     "iopub.execute_input": "2023-08-19T02:43:31.031634Z",
     "iopub.status.busy": "2023-08-19T02:43:31.031401Z",
     "iopub.status.idle": "2023-08-19T02:43:33.294900Z",
     "shell.execute_reply": "2023-08-19T02:43:33.294199Z",
     "shell.execute_reply.started": "2023-08-19T02:43:31.031608Z"
    },
    "tags": []
   },
   "outputs": [
    {
     "data": {
      "application/vnd.jupyter.widget-view+json": {
       "model_id": "7678c7f1d3b74191a43d97cd2a65323a",
       "version_major": 2,
       "version_minor": 0
      },
      "text/plain": [
       "VBox()"
      ]
     },
     "metadata": {},
     "output_type": "display_data"
    },
    {
     "data": {
      "application/vnd.jupyter.widget-view+json": {
       "model_id": "",
       "version_major": 2,
       "version_minor": 0
      },
      "text/plain": [
       "FloatProgress(value=0.0, bar_style='info', description='Progress:', layout=Layout(height='25px', width='50%'),…"
      ]
     },
     "metadata": {},
     "output_type": "display_data"
    },
    {
     "name": "stdout",
     "output_type": "stream",
     "text": [
      "DataFrame[]"
     ]
    }
   ],
   "source": [
    "spark.sql(f\"drop table if exists {glue_table}\")"
   ]
  },
  {
   "cell_type": "code",
   "execution_count": 185,
   "metadata": {
    "execution": {
     "iopub.execute_input": "2023-08-19T02:43:54.474345Z",
     "iopub.status.busy": "2023-08-19T02:43:54.474118Z",
     "iopub.status.idle": "2023-08-19T02:43:55.230152Z",
     "shell.execute_reply": "2023-08-19T02:43:55.229642Z",
     "shell.execute_reply.started": "2023-08-19T02:43:54.474319Z"
    },
    "tags": []
   },
   "outputs": [
    {
     "data": {
      "application/vnd.jupyter.widget-view+json": {
       "model_id": "d2c7e5f98f4c4fac9ab5de185e9cde6a",
       "version_major": 2,
       "version_minor": 0
      },
      "text/plain": [
       "VBox()"
      ]
     },
     "metadata": {},
     "output_type": "display_data"
    },
    {
     "data": {
      "application/vnd.jupyter.widget-view+json": {
       "model_id": "",
       "version_major": 2,
       "version_minor": 0
      },
      "text/plain": [
       "FloatProgress(value=0.0, bar_style='info', description='Progress:', layout=Layout(height='25px', width='50%'),…"
      ]
     },
     "metadata": {},
     "output_type": "display_data"
    },
    {
     "name": "stdout",
     "output_type": "stream",
     "text": [
      "DataFrame[]"
     ]
    }
   ],
   "source": [
    "spark.sql(f\"CREATE EXTERNAL TABLE {glue_table} ({column_list}) PARTITIONED BY (year, month, day, hour) \\\n",
    "        ROW FORMAT SERDE\\\n",
    "      'org.apache.hadoop.hive.ql.io.parquet.serde.ParquetHiveSerDe' \\\n",
    "        STORED AS INPUTFORMAT \\\n",
    "      'org.apache.hadoop.hive.ql.io.parquet.MapredParquetInputFormat' \\\n",
    "        OUTPUTFORMAT \\\n",
    "      'org.apache.hadoop.hive.ql.io.parquet.MapredParquetOutputFormat'\\\n",
    "      LOCATION \\\n",
    "      '{qc_file_athena_table_key}'\")"
   ]
  },
  {
   "cell_type": "code",
   "execution_count": 186,
   "metadata": {
    "execution": {
     "iopub.execute_input": "2023-08-19T02:43:57.622966Z",
     "iopub.status.busy": "2023-08-19T02:43:57.622731Z",
     "iopub.status.idle": "2023-08-19T02:44:12.920613Z",
     "shell.execute_reply": "2023-08-19T02:44:12.920063Z",
     "shell.execute_reply.started": "2023-08-19T02:43:57.622939Z"
    },
    "tags": []
   },
   "outputs": [
    {
     "data": {
      "application/vnd.jupyter.widget-view+json": {
       "model_id": "a8f659212c44413192ace414323e635e",
       "version_major": 2,
       "version_minor": 0
      },
      "text/plain": [
       "VBox()"
      ]
     },
     "metadata": {},
     "output_type": "display_data"
    },
    {
     "data": {
      "application/vnd.jupyter.widget-view+json": {
       "model_id": "",
       "version_major": 2,
       "version_minor": 0
      },
      "text/plain": [
       "FloatProgress(value=0.0, bar_style='info', description='Progress:', layout=Layout(height='25px', width='50%'),…"
      ]
     },
     "metadata": {},
     "output_type": "display_data"
    },
    {
     "name": "stdout",
     "output_type": "stream",
     "text": [
      "DataFrame[]"
     ]
    }
   ],
   "source": [
    "spark.sql(\"MSCK REPAIR TABLE analytics_dw_dev.ghp_auth_file_integration_qc\")"
   ]
  },
  {
   "cell_type": "code",
   "execution_count": null,
   "metadata": {},
   "outputs": [],
   "source": []
  },
  {
   "cell_type": "code",
   "execution_count": null,
   "metadata": {},
   "outputs": [],
   "source": []
  },
  {
   "cell_type": "code",
   "execution_count": null,
   "metadata": {},
   "outputs": [],
   "source": []
  },
  {
   "cell_type": "code",
   "execution_count": null,
   "metadata": {},
   "outputs": [],
   "source": []
  },
  {
   "cell_type": "code",
   "execution_count": null,
   "metadata": {},
   "outputs": [],
   "source": []
  },
  {
   "cell_type": "code",
   "execution_count": null,
   "metadata": {},
   "outputs": [],
   "source": []
  },
  {
   "cell_type": "code",
   "execution_count": null,
   "metadata": {},
   "outputs": [],
   "source": []
  },
  {
   "cell_type": "code",
   "execution_count": null,
   "metadata": {},
   "outputs": [],
   "source": []
  },
  {
   "cell_type": "code",
   "execution_count": null,
   "metadata": {},
   "outputs": [],
   "source": []
  },
  {
   "cell_type": "code",
   "execution_count": null,
   "metadata": {},
   "outputs": [],
   "source": []
  },
  {
   "cell_type": "code",
   "execution_count": null,
   "metadata": {},
   "outputs": [],
   "source": []
  },
  {
   "cell_type": "code",
   "execution_count": null,
   "metadata": {},
   "outputs": [],
   "source": []
  },
  {
   "cell_type": "code",
   "execution_count": null,
   "metadata": {},
   "outputs": [],
   "source": []
  },
  {
   "cell_type": "code",
   "execution_count": null,
   "metadata": {},
   "outputs": [],
   "source": []
  },
  {
   "cell_type": "code",
   "execution_count": null,
   "metadata": {},
   "outputs": [],
   "source": []
  },
  {
   "cell_type": "code",
   "execution_count": null,
   "metadata": {},
   "outputs": [],
   "source": []
  },
  {
   "cell_type": "code",
   "execution_count": null,
   "metadata": {},
   "outputs": [],
   "source": []
  },
  {
   "cell_type": "code",
   "execution_count": null,
   "metadata": {},
   "outputs": [
    {
     "data": {
      "application/vnd.jupyter.widget-view+json": {
       "model_id": "bfd031b5ca444e10b0987db78952049c",
       "version_major": 2,
       "version_minor": 0
      },
      "text/plain": [
       "VBox()"
      ]
     },
     "metadata": {},
     "output_type": "display_data"
    },
    {
     "data": {
      "application/vnd.jupyter.widget-view+json": {
       "model_id": "",
       "version_major": 2,
       "version_minor": 0
      },
      "text/plain": [
       "FloatProgress(value=0.0, bar_style='info', description='Progress:', layout=Layout(height='25px', width='50%'),…"
      ]
     },
     "metadata": {},
     "output_type": "display_data"
    },
    {
     "name": "stdout",
     "output_type": "stream",
     "text": [
      "max_commit_time data returned\n",
      "Adding prefix to max\n",
      "max_commit_time_sr = 20230512143350363\n",
      "max_commit_time_auth = 20230808183419148"
     ]
    }
   ],
   "source": [
    "db = \"analytics_dw_preprod\"\n",
    "max_commit_time_sr, max_commit_time_auth = get_last_run_time(db)\n",
    "print(f\"max_commit_time_sr = {max_commit_time_sr}\")\n",
    "print(f\"max_commit_time_auth = {max_commit_time_auth}\")"
   ]
  },
  {
   "cell_type": "code",
   "execution_count": null,
   "metadata": {},
   "outputs": [
    {
     "data": {
      "application/vnd.jupyter.widget-view+json": {
       "model_id": "2fffd25c39ba4896a71e1c98fb31a015",
       "version_major": 2,
       "version_minor": 0
      },
      "text/plain": [
       "VBox()"
      ]
     },
     "metadata": {},
     "output_type": "display_data"
    },
    {
     "data": {
      "application/vnd.jupyter.widget-view+json": {
       "model_id": "",
       "version_major": 2,
       "version_minor": 0
      },
      "text/plain": [
       "FloatProgress(value=0.0, bar_style='info', description='Progress:', layout=Layout(height='25px', width='50%'),…"
      ]
     },
     "metadata": {},
     "output_type": "display_data"
    },
    {
     "name": "stdout",
     "output_type": "stream",
     "text": [
      "+-------------------+-----------------------+------------------------+----------------------+-------------------------------------------------------------------------+--------------------------------------------------------------------------------------------------------------------------------------------+-------------+---------------------------------------------------------------------------------------------------------------------------------------------------------------------------------------------------------------------------------------------------------------------------------------------------------------------------------------------------------------------------------------------------------------------------------------------------------------------------------------------------------------------------------------------------------------------------------------------------------------------------------------------------------------------------------------------------------------------------------------------------------------------------------------------------------------------------------------------------------------------------------------------------------------------------------------------------------------------------------------------------------------------------------------------------------------------------------------------------------------------------------------------------------------------------------------------------------------------------------------------------------------------------------------------------------------------------------------------------------------------------------------------------------------------------------------------------------------------------------------------------------------------------------------------------------------------------------------------------------------------------------------------------------------------------------------------------------------------------------------------------------------------------------------------------------------------------------------------------------------------------------------------------------------------------------------------------------------------------------------------------------------------------------------------------------------------------------------------------------------------------------------------------------------------------------------------------------------------------------------------------------------------------------------------------------------------------------------------------------------------------------------------------------------------------------------------------------------------------------------------------------------------------------------------------------------------------------------------------------------------------------------------------------------------------------------------------------------------------------------------------------------------------------------------------------------------------------------------------------------------------------------------------------------------------------------------------------------------------------------------------------------------------------------------------------------------------------------------------------------------------------------------------------------------------------------------------------------------------------------------------------------------------------------------------------------------------------------------------------------------------------------------------------------------------------------------------------------------------------------------------------------------------------------------------------------------------------------------------------------------------------------------------------------------------------------------------------------------------------------------------------------------------------------------------------------------------------------------------------------------------------------------------------------------------------------------------------------------------------------------------------------------------------------------------------------------------------------------------------------------------------------------------------------------------------------------------------------------------------------------------------------------------------------------------------------------------------------------------------------------------------------------------------------------------------------------------------------------------------------------------------------------------------------------------------------------------------------------------------------------------------------------------------------------------------------------------------------------------------------------------------------------------------------------------------------------------+-------------------------------------+--------------------------+----+-----+---+----+----------------+------------------------+---------------------+--------+------+-------+------------------------+------------------------+------------------------+--------------+--------------------+-------+-----+------------------------+--------------------+--------------------+----------+-----------------+-----------------+------------------------+------------------------+------------+------------------------+------------------------+------------------------+---------------+--------------+-------------+---------------------+------------+------------+------------------------+---------------+---------------+-------------+-------------+------------------------+-----------------+----------+----------+-------------------+------------+---------------+--------------+----------+------------+-------------+---------+---------------------+----------------+-----------------+-----------------+-----------------+-----------+-------------+-------------+------------------------------------------------------+-------------------------------------------------+------------------------------------------------------------------------------------------------------------+-------------------------------+----------------------+------------------------------+--------------------------------------------------------------------------------------------------------------------------------------------+---------------------------------------------------------------------------------------------------------------------------------------------+---------------------------------------------------------------------------------------------------------------------------------------+-----------------------+------------------------+--------------------------+------------------------+---------------+------------------------+-------------+------------------------+--------------+------------------------------+--------------------+-----------------------------------------------------------------------------------------------------------------------------------------------------------------------------------------------------------------------------------------------------------------------------------------------------------------------------------------------------------------------------------------------------------------+----------------------------------------------------------------------------------------------------+----------------+------------------------+-----------------------+----------------+--------------------------------------------------------------------------------------------------------------------------------------------------------------------------------------------------------------------------------------------------------------------------------------------------------------------------------------------------------------------------------------+---------------------------------------------------------------------------------------------------------------------------------------------------------------------------------------------------------------------------------------------------------------------------------------------------------------------------------------------------------------------------------+----------------------------------------------------------------------------------------------------------------------------------------------------------------------------------------------------------------------------------------------------------------------------------------------------------------------------------------------------------------------------------------------------------------------------------------------------+-------------+------------------------+---------------------------+-----------------+---------------------------------------------------------+-------------+--------------------+---------------------------------------------------------------------------------------------------------------------------------------------------------------+---------------------+-------------------+-------------------+-----------------+-----------------+-------------------------------------------------------------------------------------------------------------------------------------------------------------------------------------------------------------------------------------------------------------------------------------------------------------------------------------------------------------------------------------------------------------------------------------------------------------------------------------------------------------------------------------------------------------------------------------------------------------------------------------------------------------------------------------------------------------------------------------------------------------------------------------------------------------------------------------------------------------------------------------------------------------------------------------------------------------------------------------------------------------------------------------------------------+-----------+---------------------+-----------+---------------------------+----------------+---------------------------+----------------+-----------------+----------------+-----------------------+-----------------------------+----------------+----------+------------------+--------+---------------------+-----------+-----------------------------------+-------------------------------+----------------------+----------------+-------+--------------------------------------+\n",
      "|_hoodie_commit_time|_hoodie_commit_seqno   |_hoodie_record_key      |_hoodie_partition_path|_hoodie_file_name                                                        |_id                                                                                                                                         |operationType|fullDocument                                                                                                                                                                                                                                                                                                                                                                                                                                                                                                                                                                                                                                                                                                                                                                                                                                                                                                                                                                                                                                                                                                                                                                                                                                                                                                                                                                                                                                                                                                                                                                                                                                                                                                                                                                                                                                                                                                                                                                                                                                                                                                                                                                                                                                                                                                                                                                                                                                                                                                                                                                                                                                                                                                                                                                                                                                                                                                                                                                                                                                                                                                                                                                                                                                                                                                                                                                                                                                                                                                                                                                                                                                                                                                                                                                                                                                                                                                                                                                                                                                                                                                                                                                                                                                                                                                                                                                                                                                                                                                                                                                                                                                                                                                                                                                                                               |ns                                   |documentKey               |year|month|day|hour|mongoClusterTime|_document_id            |_class               |cohereId|caseId|deleted|dateCreated             |lastUpdated             |intakeTimestamp         |perndingReason|startDate           |endDate|units|tatStartTimestamp       |updatedBy           |createdBy           |authStatus|integrationStatus|authorizationNote|placeOfService          |facility                |stateOfIssue|patient                 |orderingProvider        |performingProvider      |patientMemberId|healthPlanName|encounterType|manualAuthNumberEntry|isCommercial|workflowStep|workflowId              |carePathJourney|clinicalService|admissionDate|approvedUnits|associatedOrganizationId|authDecisionGroup|authNumber|caseStatus|delegatedVendorName|deniedReason|ehrDepartmentId|ehrEncounterId|ehrOrderId|ehrPatientId|ehrPracticeId|ehrVendor|expectedDischargeDate|claimPaymentNote|claimApprovalCode|claimsPaymentNote|serviceStatusCode|requestType|requestTiming|urgency      |turnAroundTimeDueDate                                 |requestor                                        |primarySemanticDiagnosisCode                                                                                |secondarySemanticDiagnosisCodes|semanticProcedureCodes|approvedSemanticProcedureCodes|facilityLocation                                                                                                                            |performingProviderLocation                                                                                                                   |orderingProviderLocation                                                                                                               |turnAroundTimeExtension|decisionTimestamp       |initialDecisionDisposition|revisedDecisionTimestamp|withdrawnReason|authorization           |pendingReason|userSelectedOONException|isOutOfNetwork|isAdvanceCoverageDetermination|autoApprovalSnapshot|patientCoverageAtDecisionTime                                                                                                                                                                                                                                                                                                                                                                                    |integration                                                                                         |clinicalServices|patientStayDaysRequested|patientStayDaysApproved|patientStayDates|selectedOrderingProvider                                                                                                                                                                                                                                                                                                                                                              |selectedPerformingProvider                                                                                                                                                                                                                                                                                                                                                       |selectedFacility                                                                                                                                                                                                                                                                                                                                                                                                                                    |admissionTime|approvedProcedureCodeIds|areClinicalQuestionsSkipped|authorizationType|createdByGroups                                          |createdByName|createdByPhoneNumber|createdByRoles                                                                                                                                                 |expectedAdmissionDate|externalReferenceId|facilitySelectedTin|fhirFailureReason|followUpFaxNumber|formConfiguration                                                                                                                                                                                                                                                                                                                                                                                                                                                                                                                                                                                                                                                                                                                                                                                                                                                                                                                                                                                                                                      |identifiers|integrationRetryCount|isEscalated|isReadyToSendPostDenialMail|nextOutreachDate|orderingProviderSelectedTin|participateCheck|patientName      |patientStatus   |payorAuthStatusOverride|performingProviderSelectedTin|procedureCodeIds|reconClaim|requestorUserEmail|runRules|secondaryDiagnosisIds|serviceType|suppressedFinalDeterminationLetters|turnAroundTimeExtensionEligible|userSelectedNonPalCode|vendorIdentifier|version|wasDelegatedToCohereFromExternalVendor|\n",
      "+-------------------+-----------------------+------------------------+----------------------+-------------------------------------------------------------------------+--------------------------------------------------------------------------------------------------------------------------------------------+-------------+---------------------------------------------------------------------------------------------------------------------------------------------------------------------------------------------------------------------------------------------------------------------------------------------------------------------------------------------------------------------------------------------------------------------------------------------------------------------------------------------------------------------------------------------------------------------------------------------------------------------------------------------------------------------------------------------------------------------------------------------------------------------------------------------------------------------------------------------------------------------------------------------------------------------------------------------------------------------------------------------------------------------------------------------------------------------------------------------------------------------------------------------------------------------------------------------------------------------------------------------------------------------------------------------------------------------------------------------------------------------------------------------------------------------------------------------------------------------------------------------------------------------------------------------------------------------------------------------------------------------------------------------------------------------------------------------------------------------------------------------------------------------------------------------------------------------------------------------------------------------------------------------------------------------------------------------------------------------------------------------------------------------------------------------------------------------------------------------------------------------------------------------------------------------------------------------------------------------------------------------------------------------------------------------------------------------------------------------------------------------------------------------------------------------------------------------------------------------------------------------------------------------------------------------------------------------------------------------------------------------------------------------------------------------------------------------------------------------------------------------------------------------------------------------------------------------------------------------------------------------------------------------------------------------------------------------------------------------------------------------------------------------------------------------------------------------------------------------------------------------------------------------------------------------------------------------------------------------------------------------------------------------------------------------------------------------------------------------------------------------------------------------------------------------------------------------------------------------------------------------------------------------------------------------------------------------------------------------------------------------------------------------------------------------------------------------------------------------------------------------------------------------------------------------------------------------------------------------------------------------------------------------------------------------------------------------------------------------------------------------------------------------------------------------------------------------------------------------------------------------------------------------------------------------------------------------------------------------------------------------------------------------------------------------------------------------------------------------------------------------------------------------------------------------------------------------------------------------------------------------------------------------------------------------------------------------------------------------------------------------------------------------------------------------------------------------------------------------------------------------------------------------------------------------------------------------------+-------------------------------------+--------------------------+----+-----+---+----+----------------+------------------------+---------------------+--------+------+-------+------------------------+------------------------+------------------------+--------------+--------------------+-------+-----+------------------------+--------------------+--------------------+----------+-----------------+-----------------+------------------------+------------------------+------------+------------------------+------------------------+------------------------+---------------+--------------+-------------+---------------------+------------+------------+------------------------+---------------+---------------+-------------+-------------+------------------------+-----------------+----------+----------+-------------------+------------+---------------+--------------+----------+------------+-------------+---------+---------------------+----------------+-----------------+-----------------+-----------------+-----------+-------------+-------------+------------------------------------------------------+-------------------------------------------------+------------------------------------------------------------------------------------------------------------+-------------------------------+----------------------+------------------------------+--------------------------------------------------------------------------------------------------------------------------------------------+---------------------------------------------------------------------------------------------------------------------------------------------+---------------------------------------------------------------------------------------------------------------------------------------+-----------------------+------------------------+--------------------------+------------------------+---------------+------------------------+-------------+------------------------+--------------+------------------------------+--------------------+-----------------------------------------------------------------------------------------------------------------------------------------------------------------------------------------------------------------------------------------------------------------------------------------------------------------------------------------------------------------------------------------------------------------+----------------------------------------------------------------------------------------------------+----------------+------------------------+-----------------------+----------------+--------------------------------------------------------------------------------------------------------------------------------------------------------------------------------------------------------------------------------------------------------------------------------------------------------------------------------------------------------------------------------------+---------------------------------------------------------------------------------------------------------------------------------------------------------------------------------------------------------------------------------------------------------------------------------------------------------------------------------------------------------------------------------+----------------------------------------------------------------------------------------------------------------------------------------------------------------------------------------------------------------------------------------------------------------------------------------------------------------------------------------------------------------------------------------------------------------------------------------------------+-------------+------------------------+---------------------------+-----------------+---------------------------------------------------------+-------------+--------------------+---------------------------------------------------------------------------------------------------------------------------------------------------------------+---------------------+-------------------+-------------------+-----------------+-----------------+-------------------------------------------------------------------------------------------------------------------------------------------------------------------------------------------------------------------------------------------------------------------------------------------------------------------------------------------------------------------------------------------------------------------------------------------------------------------------------------------------------------------------------------------------------------------------------------------------------------------------------------------------------------------------------------------------------------------------------------------------------------------------------------------------------------------------------------------------------------------------------------------------------------------------------------------------------------------------------------------------------------------------------------------------------+-----------+---------------------+-----------+---------------------------+----------------+---------------------------+----------------+-----------------+----------------+-----------------------+-----------------------------+----------------+----------+------------------+--------+---------------------+-----------+-----------------------------------+-------------------------------+----------------------+----------------+-------+--------------------------------------+\n",
      "|20230809153420177  |20230809153420177_0_336|64d3a92b064ac5000181a087|                      |2a7f44c3-1f05-46bf-a338-90c03b9a7bfa-0_0-16-229_20230809153420177.parquet|{8264D3AC51000000032B022C0100296E5A1004FC7501D90C154FBFA427790D880FC1FD463C5F6964003C363464336139326230363461633530303031383161303837000004}|update       |{64d3a92b064ac5000181a087, MedicalServiceRequest, PMFI7890, null, false, 2023-08-09T14:56:43.893Z, 2023-08-09T14:57:13.793Z, 2023-08-09T14:56:54.004Z, null, 2023-08-10T00:00:00Z, null, 0, 2023-08-09T14:56:54.005Z, 00uanx1320P1FS7qI4x7, 00uanx1320P1FS7qI4x7, APPROVED, null, null, 5ee3d7b6ce49e734a2f4cc51, 64396942d4fcde0001dfbd3b, null, 643a2b051bf3f100016ed662, 6439bbf21bf3f10001664a0c, 643a135a1bf3f100016ca8d9, 10063300601, Geisinger, INPATIENT, false, false, REVIEW, 64d3a8da8bb8e3fd91f9e38c, null, null, null, 0, null, null, PMFI7890, null, Geisinger, null, null, null, null, null, null, null, null, null, null, null, null, INITIAL, PRE_SERVICE, {false, null}, {2023-08-12T14:56:54.005Z, 2023-08-25T03:59:00Z, null}, {PHONE, null, null, null, null, null, null, null}, {I10, icd10, null, null, 5f248793b93c6d00019395d2, null, Essential (primary) hypertension, null, null, null}, [], [], [], {{Carlisle, 940 Walnut Bottom Rd, null, PA, 170156926}, true, null, null, 260610623, 109376083700, [7172490647], null, [{null, 7172490085}]}, {{Carlisle, 940 Walnut Bottom Rd, null, PA, 170156926}, false, null, null, 474152631, 109397211904, [8779919125], null, [{7175161290, null}]}, {{Waynesboro, 501 E Main St, null, PA, 172682353}, null, null, null, 231360854, 186156404902, [7177653447], null, [{7177653400, null}]}, null, 2023-08-09T14:57:13.712Z, APPROVED, null, null, 64d3a92b064ac5000181a086, null, null, true, null, null, {null, null, null, null, null, null, 10117370, Geisinger, null, Other - TPA, null, null, null, null, null, Unknown, 2021-01-01T00:00:00Z, 2199-12-31T00:00:00Z, null, B4000008, M, null, null, 4201, 100633006, null, null, null, null, null, null, null, null, null, null, Other - TPA, TPB4, Unknown, 1078, null, Mericle Commercial Real Estate Services, MEDICAL1, Richard, Altemose, M, Y, 1000, null, null}, {null, {2023-08-09T15:10:09.136Z, INTERNALLY_COMPLETE, 0, null, null, null}, null, null, null, null}, [], 0, 0, [], {null, 6439bbf21bf3f10001664a0c, Bocchino, Vincent J., 1861564049, null, {{Waynesboro, 501 E Main St, null, PA, 172682353, null, null}, [7177653447], 231360854, [{7177653400, null}], null, null, null, null, null, 186156404902, null}, Geisinger, Geisinger, P, false, false, false, false, null, null, Vincent, Bocchino, 00u2oalemzV7nLZsp4x7, false, PROVIDER, null, null, null}, {null, 643a135a1bf3f100016ca8d9, Anjum, Rashid, 1093972119, null, {{Carlisle, 940 Walnut Bottom Rd, null, PA, 170156926, null, null}, [8779919125], 474152631, [{7175161290, null}], null, null, false, null, null, 109397211904, null}, Geisinger, Geisinger, P, false, false, false, false, null, null, Rashid, Anjum, 00u2oalemzV7nLZsp4x7, false, PROVIDER, null, null, null}, {null, ProMedica Skilled Nursing and Rehab Carlisle, 1093760837, null, {{Carlisle, 940 Walnut Bottom Rd, null, PA, 170156926, null, null, null}, [7172490647], 260610623, [{7172490085, null}], null, null, true, null, null, 109376083700, null}, Geisinger, Geisinger, G, false, false, false, false, 2023-04-14T14:54:58.397Z, 2023-07-15T13:28:27.943Z, null, null, 00u2oalemzV7nLZsp4x7, false, FACILITY, null, null, 64396942d4fcde0001dfbd3b}, null, [], null, null, [Cohere_Internal, OTNMaryville, CoHere_Internal_Password], Ian DeMass, null, [ROLE_PREPROD_ACCESS, ROLE_CLINICAL_VIEWER, ROLE_SERVICE_OPS_GENERAL, QUEUE_MANAGEMENT_MANAGER, ROLE_AUTHENTICATED_USER, QUEUE_MANAGEMENT_ASSIGNER, ROLE_ADMIN], 2023-08-10T00:00:00Z, null, 260610623, null, null, {{admissionDischargeDate, OMIT}, {behavioralHealthAdmissionType, OMIT}, {behavioralHealthReviewType, OMIT}, {encounterType, REQUIRED}, {facility, REQUIRED}, {facilityAddress, REQUIRED}, {facilityNPI, REQUIRED}, {facilityOutOfNetworkExceptionReason, OPTIONAL}, {facilityTIN, REQUIRED}, {faxInputField, OMIT}, {orderingProvider, REQUIRED}, {orderingProviderAddress, REQUIRED}, {orderingProviderNPI, REQUIRED}, {orderingProviderTIN, REQUIRED}, {outOfNetworkStatusDisplay, OPTIONAL}, {performingProvider, OPTIONAL}, {performingProviderAddress, OPTIONAL}, {performingProviderNPI, OPTIONAL}, {performingProviderOutOfNetworkExceptionReason, OPTIONAL}, {performingProviderTIN, OPTIONAL}, {placeOfService, REQUIRED}, {prescribedDrug, OMIT}, {primaryDiagnosis, REQUIRED}, {procedureCodeWithUnits, OMIT}, {procedureCodes, REQUIRED}, {recurring, REQUIRED}, {secondaryDiagnoses, OPTIONAL}, {singleClinicalService, REQUIRED}, {startEndDate, REQUIRED}, {units, REQUIRED}, {urgency, REQUIRED}, {userDeclaredOONException, OPTIONAL}}, [], null, null, false, null, 231360854, {null, null}, Richard  Altemose, NOT_YET_ADMITTED, null, 474152631, [], null, null, false, [], null, null, true, null, null, 5, false}|{cohere-core-preprod, serviceRequest}|{64d3a92b064ac5000181a087}|2023|8    |9  |15  |1691593809      |64d3a92b064ac5000181a087|MedicalServiceRequest|PMFI7890|null  |false  |2023-08-09T14:56:43.893Z|2023-08-09T14:57:13.793Z|2023-08-09T14:56:54.004Z|null          |2023-08-10T00:00:00Z|null   |0    |2023-08-09T14:56:54.005Z|00uanx1320P1FS7qI4x7|00uanx1320P1FS7qI4x7|APPROVED  |null             |null             |5ee3d7b6ce49e734a2f4cc51|64396942d4fcde0001dfbd3b|null        |643a2b051bf3f100016ed662|6439bbf21bf3f10001664a0c|643a135a1bf3f100016ca8d9|10063300601    |Geisinger     |INPATIENT    |false                |false       |REVIEW      |64d3a8da8bb8e3fd91f9e38c|null           |null           |null         |0            |null                    |null             |PMFI7890  |null      |Geisinger          |null        |null           |null          |null      |null        |null         |null     |null                 |null            |null             |null             |null             |INITIAL    |PRE_SERVICE  |{false, null}|{2023-08-12T14:56:54.005Z, 2023-08-25T03:59:00Z, null}|{PHONE, null, null, null, null, null, null, null}|{I10, icd10, null, null, 5f248793b93c6d00019395d2, null, Essential (primary) hypertension, null, null, null}|[]                             |[]                    |[]                            |{{Carlisle, 940 Walnut Bottom Rd, null, PA, 170156926}, true, null, null, 260610623, 109376083700, [7172490647], null, [{null, 7172490085}]}|{{Carlisle, 940 Walnut Bottom Rd, null, PA, 170156926}, false, null, null, 474152631, 109397211904, [8779919125], null, [{7175161290, null}]}|{{Waynesboro, 501 E Main St, null, PA, 172682353}, null, null, null, 231360854, 186156404902, [7177653447], null, [{7177653400, null}]}|null                   |2023-08-09T14:57:13.712Z|APPROVED                  |null                    |null           |64d3a92b064ac5000181a086|null         |null                    |true          |null                          |null                |{null, null, null, null, null, null, 10117370, Geisinger, null, Other - TPA, null, null, null, null, null, Unknown, 2021-01-01T00:00:00Z, 2199-12-31T00:00:00Z, null, B4000008, M, null, null, 4201, 100633006, null, null, null, null, null, null, null, null, null, null, Other - TPA, TPB4, Unknown, 1078, null, Mericle Commercial Real Estate Services, MEDICAL1, Richard, Altemose, M, Y, 1000, null, null}|{null, {2023-08-09T15:10:09.136Z, INTERNALLY_COMPLETE, 0, null, null, null}, null, null, null, null}|[]              |0                       |0                      |[]              |{null, 6439bbf21bf3f10001664a0c, Bocchino, Vincent J., 1861564049, null, {{Waynesboro, 501 E Main St, null, PA, 172682353, null, null}, [7177653447], 231360854, [{7177653400, null}], null, null, null, null, null, 186156404902, null}, Geisinger, Geisinger, P, false, false, false, false, null, null, Vincent, Bocchino, 00u2oalemzV7nLZsp4x7, false, PROVIDER, null, null, null}|{null, 643a135a1bf3f100016ca8d9, Anjum, Rashid, 1093972119, null, {{Carlisle, 940 Walnut Bottom Rd, null, PA, 170156926, null, null}, [8779919125], 474152631, [{7175161290, null}], null, null, false, null, null, 109397211904, null}, Geisinger, Geisinger, P, false, false, false, false, null, null, Rashid, Anjum, 00u2oalemzV7nLZsp4x7, false, PROVIDER, null, null, null}|{null, ProMedica Skilled Nursing and Rehab Carlisle, 1093760837, null, {{Carlisle, 940 Walnut Bottom Rd, null, PA, 170156926, null, null, null}, [7172490647], 260610623, [{7172490085, null}], null, null, true, null, null, 109376083700, null}, Geisinger, Geisinger, G, false, false, false, false, 2023-04-14T14:54:58.397Z, 2023-07-15T13:28:27.943Z, null, null, 00u2oalemzV7nLZsp4x7, false, FACILITY, null, null, 64396942d4fcde0001dfbd3b}|null         |[]                      |null                       |null             |[Cohere_Internal, OTNMaryville, CoHere_Internal_Password]|Ian DeMass   |null                |[ROLE_PREPROD_ACCESS, ROLE_CLINICAL_VIEWER, ROLE_SERVICE_OPS_GENERAL, QUEUE_MANAGEMENT_MANAGER, ROLE_AUTHENTICATED_USER, QUEUE_MANAGEMENT_ASSIGNER, ROLE_ADMIN]|2023-08-10T00:00:00Z |null               |260610623          |null             |null             |{{admissionDischargeDate, OMIT}, {behavioralHealthAdmissionType, OMIT}, {behavioralHealthReviewType, OMIT}, {encounterType, REQUIRED}, {facility, REQUIRED}, {facilityAddress, REQUIRED}, {facilityNPI, REQUIRED}, {facilityOutOfNetworkExceptionReason, OPTIONAL}, {facilityTIN, REQUIRED}, {faxInputField, OMIT}, {orderingProvider, REQUIRED}, {orderingProviderAddress, REQUIRED}, {orderingProviderNPI, REQUIRED}, {orderingProviderTIN, REQUIRED}, {outOfNetworkStatusDisplay, OPTIONAL}, {performingProvider, OPTIONAL}, {performingProviderAddress, OPTIONAL}, {performingProviderNPI, OPTIONAL}, {performingProviderOutOfNetworkExceptionReason, OPTIONAL}, {performingProviderTIN, OPTIONAL}, {placeOfService, REQUIRED}, {prescribedDrug, OMIT}, {primaryDiagnosis, REQUIRED}, {procedureCodeWithUnits, OMIT}, {procedureCodes, REQUIRED}, {recurring, REQUIRED}, {secondaryDiagnoses, OPTIONAL}, {singleClinicalService, REQUIRED}, {startEndDate, REQUIRED}, {units, REQUIRED}, {urgency, REQUIRED}, {userDeclaredOONException, OPTIONAL}}|[]         |null                 |null       |false                      |null            |231360854                  |{null, null}    |Richard  Altemose|NOT_YET_ADMITTED|null                   |474152631                    |[]              |null      |null              |false   |[]                   |null       |null                               |true                           |null                  |null            |5      |false                                 |\n",
      "+-------------------+-----------------------+------------------------+----------------------+-------------------------------------------------------------------------+--------------------------------------------------------------------------------------------------------------------------------------------+-------------+---------------------------------------------------------------------------------------------------------------------------------------------------------------------------------------------------------------------------------------------------------------------------------------------------------------------------------------------------------------------------------------------------------------------------------------------------------------------------------------------------------------------------------------------------------------------------------------------------------------------------------------------------------------------------------------------------------------------------------------------------------------------------------------------------------------------------------------------------------------------------------------------------------------------------------------------------------------------------------------------------------------------------------------------------------------------------------------------------------------------------------------------------------------------------------------------------------------------------------------------------------------------------------------------------------------------------------------------------------------------------------------------------------------------------------------------------------------------------------------------------------------------------------------------------------------------------------------------------------------------------------------------------------------------------------------------------------------------------------------------------------------------------------------------------------------------------------------------------------------------------------------------------------------------------------------------------------------------------------------------------------------------------------------------------------------------------------------------------------------------------------------------------------------------------------------------------------------------------------------------------------------------------------------------------------------------------------------------------------------------------------------------------------------------------------------------------------------------------------------------------------------------------------------------------------------------------------------------------------------------------------------------------------------------------------------------------------------------------------------------------------------------------------------------------------------------------------------------------------------------------------------------------------------------------------------------------------------------------------------------------------------------------------------------------------------------------------------------------------------------------------------------------------------------------------------------------------------------------------------------------------------------------------------------------------------------------------------------------------------------------------------------------------------------------------------------------------------------------------------------------------------------------------------------------------------------------------------------------------------------------------------------------------------------------------------------------------------------------------------------------------------------------------------------------------------------------------------------------------------------------------------------------------------------------------------------------------------------------------------------------------------------------------------------------------------------------------------------------------------------------------------------------------------------------------------------------------------------------------------------------------------------------------------------------------------------------------------------------------------------------------------------------------------------------------------------------------------------------------------------------------------------------------------------------------------------------------------------------------------------------------------------------------------------------------------------------------------------------------------------------------------------------------------------------------------------------+-------------------------------------+--------------------------+----+-----+---+----+----------------+------------------------+---------------------+--------+------+-------+------------------------+------------------------+------------------------+--------------+--------------------+-------+-----+------------------------+--------------------+--------------------+----------+-----------------+-----------------+------------------------+------------------------+------------+------------------------+------------------------+------------------------+---------------+--------------+-------------+---------------------+------------+------------+------------------------+---------------+---------------+-------------+-------------+------------------------+-----------------+----------+----------+-------------------+------------+---------------+--------------+----------+------------+-------------+---------+---------------------+----------------+-----------------+-----------------+-----------------+-----------+-------------+-------------+------------------------------------------------------+-------------------------------------------------+------------------------------------------------------------------------------------------------------------+-------------------------------+----------------------+------------------------------+--------------------------------------------------------------------------------------------------------------------------------------------+---------------------------------------------------------------------------------------------------------------------------------------------+---------------------------------------------------------------------------------------------------------------------------------------+-----------------------+------------------------+--------------------------+------------------------+---------------+------------------------+-------------+------------------------+--------------+------------------------------+--------------------+-----------------------------------------------------------------------------------------------------------------------------------------------------------------------------------------------------------------------------------------------------------------------------------------------------------------------------------------------------------------------------------------------------------------+----------------------------------------------------------------------------------------------------+----------------+------------------------+-----------------------+----------------+--------------------------------------------------------------------------------------------------------------------------------------------------------------------------------------------------------------------------------------------------------------------------------------------------------------------------------------------------------------------------------------+---------------------------------------------------------------------------------------------------------------------------------------------------------------------------------------------------------------------------------------------------------------------------------------------------------------------------------------------------------------------------------+----------------------------------------------------------------------------------------------------------------------------------------------------------------------------------------------------------------------------------------------------------------------------------------------------------------------------------------------------------------------------------------------------------------------------------------------------+-------------+------------------------+---------------------------+-----------------+---------------------------------------------------------+-------------+--------------------+---------------------------------------------------------------------------------------------------------------------------------------------------------------+---------------------+-------------------+-------------------+-----------------+-----------------+-------------------------------------------------------------------------------------------------------------------------------------------------------------------------------------------------------------------------------------------------------------------------------------------------------------------------------------------------------------------------------------------------------------------------------------------------------------------------------------------------------------------------------------------------------------------------------------------------------------------------------------------------------------------------------------------------------------------------------------------------------------------------------------------------------------------------------------------------------------------------------------------------------------------------------------------------------------------------------------------------------------------------------------------------------+-----------+---------------------+-----------+---------------------------+----------------+---------------------------+----------------+-----------------+----------------+-----------------------+-----------------------------+----------------+----------+------------------+--------+---------------------+-----------+-----------------------------------+-------------------------------+----------------------+----------------+-------+--------------------------------------+"
     ]
    }
   ],
   "source": [
    "cohere_id = 'PMFI7890'\n",
    "\n",
    "# Query to select specific columns\n",
    "# servicerequest_query = f\"select fulldocument.patientStayDaysRequested, fulldocument.patientStayDaysApproved, fulldocument.requestType, fulldocument.authorization, fulldocument.decisiontimestamp as reviewDate from analytics_dw_preprod.hudi_raw_servicerequest where fulldocument.healthplanname = 'Geisinger' and fulldocument.authStatus in ('APPROVED', 'DENIED', 'PARTIALLY_APPROVED', 'WITHDRAWN', 'VOIDED', 'DISMISSED') and fullDocument.deleted != true and fullDocument.encounterType = 'INPATIENT' and _hoodie_commit_time > {max_commit_time_sr} and fullDocument.cohereid in ('{cohere_id}')\"\n",
    "\n",
    "# Query to select all columns\n",
    "# servicerequest_query = f\"select * from analytics_dw_preprod.hudi_raw_servicerequest where fulldocument.healthplanname = 'Geisinger' and fulldocument.authStatus in ('APPROVED', 'DENIED', 'PARTIALLY_APPROVED', 'WITHDRAWN', 'VOIDED', 'DISMISSED') and fullDocument.deleted != true and fullDocument.encounterType = 'INPATIENT' and _hoodie_commit_time > {max_commit_time_sr} and fullDocument.cohereid in ('{cohere_id}')\"\n",
    "\n",
    "# Query without and WHERE clauses\n",
    "servicerequest_query = f\"select * from analytics_dw_preprod.hudi_raw_servicerequest where fullDocument.cohereid in ('{cohere_id}')\"\n",
    "\n",
    "servicerequest_dataframe = spark.sql(servicerequest_query)\n",
    "servicerequest_dataframe.show(truncate=False)"
   ]
  },
  {
   "cell_type": "code",
   "execution_count": null,
   "metadata": {},
   "outputs": [
    {
     "data": {
      "application/vnd.jupyter.widget-view+json": {
       "model_id": "13b8dbeb9cc04bcd8e70c12a81a35c35",
       "version_major": 2,
       "version_minor": 0
      },
      "text/plain": [
       "VBox()"
      ]
     },
     "metadata": {},
     "output_type": "display_data"
    },
    {
     "data": {
      "application/vnd.jupyter.widget-view+json": {
       "model_id": "",
       "version_major": 2,
       "version_minor": 0
      },
      "text/plain": [
       "FloatProgress(value=0.0, bar_style='info', description='Progress:', layout=Layout(height='25px', width='50%'),…"
      ]
     },
     "metadata": {},
     "output_type": "display_data"
    },
    {
     "name": "stdout",
     "output_type": "stream",
     "text": [
      "+------------------------+--------------------------+--------+--------------------+-------+-----+--------------+-------------------+-----------------+-----------------+------------------+------------------------+----------------+------------------------+------------------------+----------+-------------+------------------------+---------------+----------------+----------------------+--------------+--------------------------+---------------+------------------------+------------+-----------------+-------------------------+----------------+------------------------+----------------------------+---------------------------+---------------------------+--------------------------+-------------------------+------------------------+---------------------------+--------------------------+------------------------------+-----------------------------+----------------------------+--------------------------------+------------------------+---------------------+-----------------------+-----------------------+---------------+\n",
      "|_id                     |servicerequestids         |cohereid|startdate           |enddate|units|healthplanname|auth_approved_units|claimspaymentnote|servicestatuscode|hoodie_commit_time|dateCreated             |requestorChannel|patient                 |lastupdated             |authstatus|encounterType|placeofservice          |clinicalservice|clinicalservices|semanticprocedurecodes|performing_tin|performing_provider_GHP_Id|facility_GHP_Id|ordering_provider_GHP_Id|ordering_tin|facility_GHP_name|facility_GHP_address_city|facility_GHP_tin|id                      |facility_GHP_address_zipcode|facility_GHP_address_line_1|facility_GHP_address_line_2|facility_GHP_address_state|facility_GHP_providerType|decisiontimestamp       |ordering_provider_firstName|ordering_provider_lastName|ordering_provider_providerType|performing_provider_firstName|performing_provider_lastName|performing_provider_providerType|performing_provider_name|expectedAdmissionDate|actualAdmissionDateTime|actualDischargeDateTime|authCategory   |\n",
      "+------------------------+--------------------------+--------+--------------------+-------+-----+--------------+-------------------+-----------------+-----------------+------------------+------------------------+----------------+------------------------+------------------------+----------+-------------+------------------------+---------------+----------------+----------------------+--------------+--------------------------+---------------+------------------------+------------+-----------------+-------------------------+----------------+------------------------+----------------------------+---------------------------+---------------------------+--------------------------+-------------------------+------------------------+---------------------------+--------------------------+------------------------------+-----------------------------+----------------------------+--------------------------------+------------------------+---------------------+-----------------------+-----------------------+---------------+\n",
      "|64cd3dd6f4b03e0001540481|[64cd3dd6f4b03e0001540482]|CGVE2800|2023-08-05T00:00:00Z|null   |0    |Geisinger     |0                  |null             |null             |20230804193414338 |2023-08-04T18:05:10.633Z|PHONE           |643a0ad51bf3f100016bf4c7|2023-08-04T18:07:17.937Z|APPROVED  |INPATIENT    |6373d9f2af5241503f240078|null           |[]              |[]                    |null          |null                      |165944438800   |151830152203            |236291113   |Marworth         |Waverly                  |232171417       |64cd3dd6f4b03e0001540481|184717736                   |Lily Lake Rd               |null                       |PA                        |G                        |2023-08-04T18:07:17.811Z|Kimberly                   |Kabernagel                |P                             |null                         |null                        |null                            |null                    |2023-08-05T00:00:00Z |null                   |null                   |SUBSTANCE_ABUSE|\n",
      "+------------------------+--------------------------+--------+--------------------+-------+-----+--------------+-------------------+-----------------+-----------------+------------------+------------------------+----------------+------------------------+------------------------+----------+-------------+------------------------+---------------+----------------+----------------------+--------------+--------------------------+---------------+------------------------+------------+-----------------+-------------------------+----------------+------------------------+----------------------------+---------------------------+---------------------------+--------------------------+-------------------------+------------------------+---------------------------+--------------------------+------------------------------+-----------------------------+----------------------------+--------------------------------+------------------------+---------------------+-----------------------+-----------------------+---------------+"
     ]
    }
   ],
   "source": [
    "# Temporary\n",
    "# max_commit_time_auth = 0\n",
    "\n",
    "authorization_id = '64cd3dd6f4b03e0001540481'\n",
    "\n",
    "# Current Query\n",
    "# authorization_query = f\"select fulldocument._id,fulldocument.servicerequestids, fulldocument.authnumber as cohereid,fulldocument.startdate, fulldocument.enddate, fulldocument.requestedunits as units,     fulldocument.healthplanname,      fulldocument.approvedunits as auth_approved_units,fulldocument.claimspaymentnote, fulldocument.servicestatuscode,    _hoodie_commit_time as hoodie_commit_time ,fulldocument.dateCreated,fulldocument.requestorChannel, fulldocument.patient,    fulldocument.lastupdated, fulldocument.authstatus, fulldocument.encounterType, fulldocument.placeofservice, fulldocument.clinicalservice, fulldocument.clinicalservices, fulldocument.semanticprocedurecodes,    fulldocument.selectedPerformingProvider.selectedLocation.tin as performing_tin, fulldocument.selectedPerformingProvider.selectedLocation.externalReferenceId as performing_provider_GHP_Id,    fulldocument.selectedFacility.selectedLocation.externalReferenceId as facility_GHP_Id, fulldocument.selectedOrderingProvider.selectedLocation.externalReferenceId as ordering_provider_GHP_Id, fulldocument.selectedOrderingProvider.selectedLocation.tin as ordering_tin,    fulldocument.selectedFacility.name as facility_GHP_name, fulldocument.selectedFacility.selectedLocation.address.city as facility_GHP_address_city,fulldocument.selectedFacility.selectedLocation.tin as facility_GHP_tin,fulldocument._id as id,fulldocument.selectedFacility.selectedLocation.address.zipcode as facility_GHP_address_zipcode,    fulldocument.selectedFacility.selectedLocation.address.line1 as facility_GHP_address_line_1, fulldocument.selectedFacility.selectedLocation.address.line2 as facility_GHP_address_line_2,fulldocument.selectedFacility.selectedLocation.address.state as facility_GHP_address_state, fulldocument.selectedFacility.providerType as facility_GHP_providerType, fulldocument.decisiontimestamp,    fulldocument.selectedOrderingProvider.firstName as ordering_provider_firstName, fulldocument.selectedOrderingProvider.lastName as ordering_provider_lastName, fulldocument.selectedOrderingProvider.providerType as ordering_provider_providerType,    fulldocument.selectedPerformingProvider.firstName as performing_provider_firstName, fulldocument.selectedPerformingProvider.lastName as performing_provider_lastName, fulldocument.selectedPerformingProvider.providerType as performing_provider_providerType, fulldocument.selectedPerformingProvider.name as performing_provider_name,    fulldocument.expectedAdmissionDate, fulldocument.admissionDateTime as actualAdmissionDateTime, fulldocument.actualDischargeDateTime, \n",
    "from analytics_dw_preprod.hudi_raw_authorization where fulldocument.healthplanname = 'Geisinger' and fullDocument.deleted!=true and _hoodie_commit_time > {max_commit_time_auth} and fullDocument.encounterType = 'INPATIENT'\"\n",
    "\n",
    "# Query without the WHERE hoodie commit time\n",
    "authorization_query = f\"select fulldocument._id,fulldocument.servicerequestids, fulldocument.authnumber as cohereid,fulldocument.startdate, fulldocument.enddate, fulldocument.requestedunits as units,     fulldocument.healthplanname,      fulldocument.approvedunits as auth_approved_units,fulldocument.claimspaymentnote, fulldocument.servicestatuscode,    _hoodie_commit_time as hoodie_commit_time ,fulldocument.dateCreated,fulldocument.requestorChannel, fulldocument.patient,    fulldocument.lastupdated, fulldocument.authstatus, fulldocument.encounterType, fulldocument.placeofservice, fulldocument.clinicalservice, fulldocument.clinicalservices, fulldocument.semanticprocedurecodes,    fulldocument.selectedPerformingProvider.selectedLocation.tin as performing_tin, fulldocument.selectedPerformingProvider.selectedLocation.externalReferenceId as performing_provider_GHP_Id,    fulldocument.selectedFacility.selectedLocation.externalReferenceId as facility_GHP_Id, fulldocument.selectedOrderingProvider.selectedLocation.externalReferenceId as ordering_provider_GHP_Id, fulldocument.selectedOrderingProvider.selectedLocation.tin as ordering_tin,    fulldocument.selectedFacility.name as facility_GHP_name, fulldocument.selectedFacility.selectedLocation.address.city as facility_GHP_address_city,fulldocument.selectedFacility.selectedLocation.tin as facility_GHP_tin,fulldocument._id as id,fulldocument.selectedFacility.selectedLocation.address.zipcode as facility_GHP_address_zipcode,    fulldocument.selectedFacility.selectedLocation.address.line1 as facility_GHP_address_line_1, fulldocument.selectedFacility.selectedLocation.address.line2 as facility_GHP_address_line_2,fulldocument.selectedFacility.selectedLocation.address.state as facility_GHP_address_state, fulldocument.selectedFacility.providerType as facility_GHP_providerType, fulldocument.decisiontimestamp,    fulldocument.selectedOrderingProvider.firstName as ordering_provider_firstName, fulldocument.selectedOrderingProvider.lastName as ordering_provider_lastName, fulldocument.selectedOrderingProvider.providerType as ordering_provider_providerType,    fulldocument.selectedPerformingProvider.firstName as performing_provider_firstName, fulldocument.selectedPerformingProvider.lastName as performing_provider_lastName, fulldocument.selectedPerformingProvider.providerType as performing_provider_providerType, fulldocument.selectedPerformingProvider.name as performing_provider_name,    fulldocument.expectedAdmissionDate, fulldocument.admissionDateTime as actualAdmissionDateTime, fulldocument.actualDischargeDateTime, fulldocument.authCategory from analytics_dw_preprod.hudi_raw_authorization where fulldocument.healthplanname = 'Geisinger' and fullDocument.deleted!=true and fullDocument.encounterType = 'INPATIENT'\"\n",
    "authorization_dataframe = spark.sql(authorization_query)\n",
    "\n",
    "authorization_dataframe.filter(authorization_dataframe._id == authorization_id).show(truncate=False)"
   ]
  },
  {
   "cell_type": "code",
   "execution_count": null,
   "metadata": {},
   "outputs": [
    {
     "data": {
      "application/vnd.jupyter.widget-view+json": {
       "model_id": "8cee8bd79466408289ed21d236b58a5b",
       "version_major": 2,
       "version_minor": 0
      },
      "text/plain": [
       "VBox()"
      ]
     },
     "metadata": {},
     "output_type": "display_data"
    },
    {
     "data": {
      "application/vnd.jupyter.widget-view+json": {
       "model_id": "",
       "version_major": 2,
       "version_minor": 0
      },
      "text/plain": [
       "FloatProgress(value=0.0, bar_style='info', description='Progress:', layout=Layout(height='25px', width='50%'),…"
      ]
     },
     "metadata": {},
     "output_type": "display_data"
    },
    {
     "name": "stdout",
     "output_type": "stream",
     "text": [
      "+------------------------+-----------------------+------------+------------------------+------------------------+------------------------+--------------------------+--------+--------------------+--------------------+-----+--------------+-------------------+-----------------+-----------------+------------------+------------------------+----------------+------------------------+------------------------+----------+-------------+------------------------+---------------+----------------+----------------------+--------------+--------------------------+---------------+------------------------+------------+-----------------------+-------------------------+----------------+------------------------+----------------------------+---------------------------+---------------------------+--------------------------+-------------------------+------------------------+---------------------------+--------------------------+------------------------------+-----------------------------+----------------------------+--------------------------------+------------------------+---------------------+-----------------------+-----------------------+------------+\n",
      "|patientStayDaysRequested|patientStayDaysApproved|requestType |authorization           |reviewDate              |_id                     |servicerequestids         |cohereid|startdate           |enddate             |units|healthplanname|auth_approved_units|claimspaymentnote|servicestatuscode|hoodie_commit_time|dateCreated             |requestorChannel|patient                 |lastupdated             |authstatus|encounterType|placeofservice          |clinicalservice|clinicalservices|semanticprocedurecodes|performing_tin|performing_provider_GHP_Id|facility_GHP_Id|ordering_provider_GHP_Id|ordering_tin|facility_GHP_name      |facility_GHP_address_city|facility_GHP_tin|id                      |facility_GHP_address_zipcode|facility_GHP_address_line_1|facility_GHP_address_line_2|facility_GHP_address_state|facility_GHP_providerType|decisiontimestamp       |ordering_provider_firstName|ordering_provider_lastName|ordering_provider_providerType|performing_provider_firstName|performing_provider_lastName|performing_provider_providerType|performing_provider_name|expectedAdmissionDate|actualAdmissionDateTime|actualDischargeDateTime|authCategory|\n",
      "+------------------------+-----------------------+------------+------------------------+------------------------+------------------------+--------------------------+--------+--------------------+--------------------+-----+--------------+-------------------+-----------------+-----------------+------------------+------------------------+----------------+------------------------+------------------------+----------+-------------+------------------------+---------------+----------------+----------------------+--------------+--------------------------+---------------+------------------------+------------+-----------------------+-------------------------+----------------+------------------------+----------------------------+---------------------------+---------------------------+--------------------------+-------------------------+------------------------+---------------------------+--------------------------+------------------------------+-----------------------------+----------------------------+--------------------------------+------------------------+---------------------+-----------------------+-----------------------+------------+\n",
      "|1                       |1                      |CONTINUATION|64d235ec897c620001995301|2023-08-08T13:55:20.368Z|64d235ec897c620001995301|[64d235ed897c620001995302]|IVBA5775|2023-08-08T00:00:00Z|2023-08-13T00:00:00Z|6    |Geisinger     |0                  |null             |null             |20230808143429188 |2023-08-08T12:32:45.022Z|PHONE           |6439cf0b1bf3f10001677c71|2023-08-08T13:55:24.388Z|PENDING   |INPATIENT    |5ee3d7b6ce49e734a2f4cc4f|null           |[]              |[]                    |236291113     |109378108009              |158869892200   |109378108009            |236291113   |UPMC Williamsport Rehab|WILLIAMSPORT             |240795508       |64d235ec897c620001995301|177013198                   |700 High St                |null                       |PA                        |F                        |2023-08-08T13:55:20.368Z|Michael                    |Dubartell                 |P                             |Michael                      |Dubartell                   |P                               |Dubartell, Michael L.   |2023-08-08T00:00:00Z |2023-08-08T08:01:00Z   |null                   |MEDICAL_CARE|\n",
      "+------------------------+-----------------------+------------+------------------------+------------------------+------------------------+--------------------------+--------+--------------------+--------------------+-----+--------------+-------------------+-----------------+-----------------+------------------+------------------------+----------------+------------------------+------------------------+----------+-------------+------------------------+---------------+----------------+----------------------+--------------+--------------------------+---------------+------------------------+------------+-----------------------+-------------------------+----------------+------------------------+----------------------------+---------------------------+---------------------------+--------------------------+-------------------------+------------------------+---------------------------+--------------------------+------------------------------+-----------------------------+----------------------------+--------------------------------+------------------------+---------------------+-----------------------+-----------------------+------------+"
     ]
    }
   ],
   "source": [
    "final_dataframe = servicerequest_dataframe.join(authorization_dataframe, servicerequest_dataframe.authorization == authorization_dataframe._id, \"inner\")\n",
    "final_dataframe.show(truncate=False)"
   ]
  },
  {
   "cell_type": "code",
   "execution_count": null,
   "metadata": {},
   "outputs": [
    {
     "data": {
      "application/vnd.jupyter.widget-view+json": {
       "model_id": "2de99da9f2324750a562164a06aea869",
       "version_major": 2,
       "version_minor": 0
      },
      "text/plain": [
       "VBox()"
      ]
     },
     "metadata": {},
     "output_type": "display_data"
    },
    {
     "data": {
      "application/vnd.jupyter.widget-view+json": {
       "model_id": "",
       "version_major": 2,
       "version_minor": 0
      },
      "text/plain": [
       "FloatProgress(value=0.0, bar_style='info', description='Progress:', layout=Layout(height='25px', width='50%'),…"
      ]
     },
     "metadata": {},
     "output_type": "display_data"
    },
    {
     "name": "stdout",
     "output_type": "stream",
     "text": [
      "+------------------------+--------------------------+--------+--------------------+--------------------+-----+--------------+-------------------+-----------------+-----------------+------------------+------------------------+----------------+------------------------+------------------------+----------+-------------+------------------------+---------------+----------------+----------------------+--------------+--------------------------+---------------+------------------------+------------+-----------------------+-------------------------+----------------+------------------------+----------------------------+---------------------------+---------------------------+--------------------------+-------------------------+------------------------+---------------------------+--------------------------+------------------------------+-----------------------------+----------------------------+--------------------------------+------------------------+---------------------+-----------------------+-----------------------+------------+\n",
      "|_id                     |servicerequestids         |cohereid|startdate           |enddate             |units|healthplanname|auth_approved_units|claimspaymentnote|servicestatuscode|hoodie_commit_time|dateCreated             |requestorChannel|patient                 |lastupdated             |authstatus|encounterType|placeofservice          |clinicalservice|clinicalservices|semanticprocedurecodes|performing_tin|performing_provider_GHP_Id|facility_GHP_Id|ordering_provider_GHP_Id|ordering_tin|facility_GHP_name      |facility_GHP_address_city|facility_GHP_tin|id                      |facility_GHP_address_zipcode|facility_GHP_address_line_1|facility_GHP_address_line_2|facility_GHP_address_state|facility_GHP_providerType|decisiontimestamp       |ordering_provider_firstName|ordering_provider_lastName|ordering_provider_providerType|performing_provider_firstName|performing_provider_lastName|performing_provider_providerType|performing_provider_name|expectedAdmissionDate|actualAdmissionDateTime|actualDischargeDateTime|authCategory|\n",
      "+------------------------+--------------------------+--------+--------------------+--------------------+-----+--------------+-------------------+-----------------+-----------------+------------------+------------------------+----------------+------------------------+------------------------+----------+-------------+------------------------+---------------+----------------+----------------------+--------------+--------------------------+---------------+------------------------+------------+-----------------------+-------------------------+----------------+------------------------+----------------------------+---------------------------+---------------------------+--------------------------+-------------------------+------------------------+---------------------------+--------------------------+------------------------------+-----------------------------+----------------------------+--------------------------------+------------------------+---------------------+-----------------------+-----------------------+------------+\n",
      "|64d235ec897c620001995301|[64d235ed897c620001995302]|IVBA5775|2023-08-08T00:00:00Z|2023-08-13T00:00:00Z|6    |Geisinger     |0                  |null             |null             |20230808143429188 |2023-08-08T12:32:45.022Z|PHONE           |6439cf0b1bf3f10001677c71|2023-08-08T13:55:24.388Z|PENDING   |INPATIENT    |5ee3d7b6ce49e734a2f4cc4f|null           |[]              |[]                    |236291113     |109378108009              |158869892200   |109378108009            |236291113   |UPMC Williamsport Rehab|WILLIAMSPORT             |240795508       |64d235ec897c620001995301|177013198                   |700 High St                |null                       |PA                        |F                        |2023-08-08T13:55:20.368Z|Michael                    |Dubartell                 |P                             |Michael                      |Dubartell                   |P                               |Dubartell, Michael L.   |2023-08-08T00:00:00Z |2023-08-08T08:01:00Z   |null                   |MEDICAL_CARE|\n",
      "+------------------------+--------------------------+--------+--------------------+--------------------+-----+--------------+-------------------+-----------------+-----------------+------------------+------------------------+----------------+------------------------+------------------------+----------+-------------+------------------------+---------------+----------------+----------------------+--------------+--------------------------+---------------+------------------------+------------+-----------------------+-------------------------+----------------+------------------------+----------------------------+---------------------------+---------------------------+--------------------------+-------------------------+------------------------+---------------------------+--------------------------+------------------------------+-----------------------------+----------------------------+--------------------------------+------------------------+---------------------+-----------------------+-----------------------+------------+"
     ]
    }
   ],
   "source": [
    "authorization_dataframe.filter(authorization_dataframe._id == \"64d235ec897c620001995301\").show(truncate=False)"
   ]
  },
  {
   "cell_type": "code",
   "execution_count": null,
   "metadata": {},
   "outputs": [],
   "source": []
  }
 ],
 "metadata": {
  "kernelspec": {
   "display_name": "PySpark",
   "language": "",
   "name": "pysparkkernel"
  },
  "language_info": {
   "codemirror_mode": {
    "name": "python",
    "version": 3
   },
   "file_extension": ".py",
   "mimetype": "text/x-python",
   "name": "pyspark",
   "pygments_lexer": "python3"
  }
 },
 "nbformat": 4,
 "nbformat_minor": 4
}
